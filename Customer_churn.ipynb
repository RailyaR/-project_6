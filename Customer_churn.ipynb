{
  "cells": [
    {
      "cell_type": "markdown",
      "metadata": {
        "toc": true,
        "id": "hwPrM00hbbSP"
      },
      "source": [
        "<h1>Содержание<span class=\"tocSkip\"></span></h1>\n",
        "<div class=\"toc\"><ul class=\"toc-item\"><li><span><a href=\"#Подготовка-данных\" data-toc-modified-id=\"Подготовка-данных-1\"><span class=\"toc-item-num\">1&nbsp;&nbsp;</span>Подготовка данных</a></span></li><li><span><a href=\"#Исследование-задачи\" data-toc-modified-id=\"Исследование-задачи-2\"><span class=\"toc-item-num\">2&nbsp;&nbsp;</span>Исследование задачи</a></span></li><li><span><a href=\"#Борьба-с-дисбалансом\" data-toc-modified-id=\"Борьба-с-дисбалансом-3\"><span class=\"toc-item-num\">3&nbsp;&nbsp;</span>Борьба с дисбалансом</a></span></li><li><span><a href=\"#Тестирование-модели\" data-toc-modified-id=\"Тестирование-модели-4\"><span class=\"toc-item-num\">4&nbsp;&nbsp;</span>Тестирование модели</a></span></li><li><span><a href=\"#Чек-лист-готовности-проекта\" data-toc-modified-id=\"Чек-лист-готовности-проекта-5\"><span class=\"toc-item-num\">5&nbsp;&nbsp;</span>Чек-лист готовности проекта</a></span></li></ul></div>"
      ]
    },
    {
      "cell_type": "markdown",
      "metadata": {
        "id": "mdSrLTTQbbSP"
      },
      "source": [
        "# Отток клиентов"
      ]
    },
    {
      "cell_type": "markdown",
      "metadata": {
        "id": "FAg0uzSzbbSQ"
      },
      "source": [
        "Из «Бета-Банка» стали уходить клиенты. Каждый месяц. Немного, но заметно. Банковские маркетологи посчитали: сохранять текущих клиентов дешевле, чем привлекать новых.\n",
        "\n",
        "Нужно спрогнозировать, уйдёт клиент из банка в ближайшее время или нет. Вам предоставлены исторические данные о поведении клиентов и расторжении договоров с банком. \n",
        "\n",
        "Постройте модель с предельно большим значением *F1*-меры. Чтобы сдать проект успешно, нужно довести метрику до 0.59. Проверьте *F1*-меру на тестовой выборке самостоятельно.\n",
        "\n",
        "Дополнительно измеряйте *AUC-ROC*, сравнивайте её значение с *F1*-мерой.\n",
        "\n",
        "Источник данных: [https://www.kaggle.com/barelydedicated/bank-customer-churn-modeling](https://www.kaggle.com/barelydedicated/bank-customer-churn-modeling)"
      ]
    },
    {
      "cell_type": "markdown",
      "metadata": {
        "id": "Lwq5O7WUbbSQ"
      },
      "source": [
        "**Признаки**\n",
        "\n",
        "RowNumber — индекс строки в данных\n",
        "\n",
        "CustomerId — уникальный идентификатор клиента\n",
        "\n",
        "Surname — фамилия\n",
        "\n",
        "CreditScore — кредитный рейтинг\n",
        "\n",
        "Geography — страна проживания\n",
        "\n",
        "Gender — пол\n",
        "\n",
        "Age — возраст\n",
        "\n",
        "Tenure — сколько лет человек является клиентом банка\n",
        "\n",
        "Balance — баланс на счёте\n",
        "\n",
        "NumOfProducts — количество продуктов банка, используемых клиентом\n",
        "\n",
        "HasCrCard — наличие кредитной карты\n",
        "\n",
        "IsActiveMember — активность клиента\n",
        "\n",
        "EstimatedSalary — предполагаемая зарплата\n",
        "\n",
        "**Целевой признак**\n",
        "\n",
        "Exited — факт ухода клиента"
      ]
    },
    {
      "cell_type": "markdown",
      "metadata": {
        "id": "FjnP2Y4ubbSQ"
      },
      "source": [
        "## Подготовка данных"
      ]
    },
    {
      "cell_type": "code",
      "execution_count": null,
      "metadata": {
        "id": "sY218xbcbbSR",
        "outputId": "fb4dee65-7ac0-48a1-d1d0-0347dc69f490"
      },
      "outputs": [
        {
          "data": {
            "text/html": [
              "<div>\n",
              "<style scoped>\n",
              "    .dataframe tbody tr th:only-of-type {\n",
              "        vertical-align: middle;\n",
              "    }\n",
              "\n",
              "    .dataframe tbody tr th {\n",
              "        vertical-align: top;\n",
              "    }\n",
              "\n",
              "    .dataframe thead th {\n",
              "        text-align: right;\n",
              "    }\n",
              "</style>\n",
              "<table border=\"1\" class=\"dataframe\">\n",
              "  <thead>\n",
              "    <tr style=\"text-align: right;\">\n",
              "      <th></th>\n",
              "      <th>RowNumber</th>\n",
              "      <th>CustomerId</th>\n",
              "      <th>Surname</th>\n",
              "      <th>CreditScore</th>\n",
              "      <th>Geography</th>\n",
              "      <th>Gender</th>\n",
              "      <th>Age</th>\n",
              "      <th>Tenure</th>\n",
              "      <th>Balance</th>\n",
              "      <th>NumOfProducts</th>\n",
              "      <th>HasCrCard</th>\n",
              "      <th>IsActiveMember</th>\n",
              "      <th>EstimatedSalary</th>\n",
              "      <th>Exited</th>\n",
              "    </tr>\n",
              "  </thead>\n",
              "  <tbody>\n",
              "    <tr>\n",
              "      <th>0</th>\n",
              "      <td>1</td>\n",
              "      <td>15634602</td>\n",
              "      <td>Hargrave</td>\n",
              "      <td>619</td>\n",
              "      <td>France</td>\n",
              "      <td>Female</td>\n",
              "      <td>42</td>\n",
              "      <td>2.0</td>\n",
              "      <td>0.00</td>\n",
              "      <td>1</td>\n",
              "      <td>1</td>\n",
              "      <td>1</td>\n",
              "      <td>101348.88</td>\n",
              "      <td>1</td>\n",
              "    </tr>\n",
              "    <tr>\n",
              "      <th>1</th>\n",
              "      <td>2</td>\n",
              "      <td>15647311</td>\n",
              "      <td>Hill</td>\n",
              "      <td>608</td>\n",
              "      <td>Spain</td>\n",
              "      <td>Female</td>\n",
              "      <td>41</td>\n",
              "      <td>1.0</td>\n",
              "      <td>83807.86</td>\n",
              "      <td>1</td>\n",
              "      <td>0</td>\n",
              "      <td>1</td>\n",
              "      <td>112542.58</td>\n",
              "      <td>0</td>\n",
              "    </tr>\n",
              "    <tr>\n",
              "      <th>2</th>\n",
              "      <td>3</td>\n",
              "      <td>15619304</td>\n",
              "      <td>Onio</td>\n",
              "      <td>502</td>\n",
              "      <td>France</td>\n",
              "      <td>Female</td>\n",
              "      <td>42</td>\n",
              "      <td>8.0</td>\n",
              "      <td>159660.80</td>\n",
              "      <td>3</td>\n",
              "      <td>1</td>\n",
              "      <td>0</td>\n",
              "      <td>113931.57</td>\n",
              "      <td>1</td>\n",
              "    </tr>\n",
              "    <tr>\n",
              "      <th>3</th>\n",
              "      <td>4</td>\n",
              "      <td>15701354</td>\n",
              "      <td>Boni</td>\n",
              "      <td>699</td>\n",
              "      <td>France</td>\n",
              "      <td>Female</td>\n",
              "      <td>39</td>\n",
              "      <td>1.0</td>\n",
              "      <td>0.00</td>\n",
              "      <td>2</td>\n",
              "      <td>0</td>\n",
              "      <td>0</td>\n",
              "      <td>93826.63</td>\n",
              "      <td>0</td>\n",
              "    </tr>\n",
              "    <tr>\n",
              "      <th>4</th>\n",
              "      <td>5</td>\n",
              "      <td>15737888</td>\n",
              "      <td>Mitchell</td>\n",
              "      <td>850</td>\n",
              "      <td>Spain</td>\n",
              "      <td>Female</td>\n",
              "      <td>43</td>\n",
              "      <td>2.0</td>\n",
              "      <td>125510.82</td>\n",
              "      <td>1</td>\n",
              "      <td>1</td>\n",
              "      <td>1</td>\n",
              "      <td>79084.10</td>\n",
              "      <td>0</td>\n",
              "    </tr>\n",
              "    <tr>\n",
              "      <th>...</th>\n",
              "      <td>...</td>\n",
              "      <td>...</td>\n",
              "      <td>...</td>\n",
              "      <td>...</td>\n",
              "      <td>...</td>\n",
              "      <td>...</td>\n",
              "      <td>...</td>\n",
              "      <td>...</td>\n",
              "      <td>...</td>\n",
              "      <td>...</td>\n",
              "      <td>...</td>\n",
              "      <td>...</td>\n",
              "      <td>...</td>\n",
              "      <td>...</td>\n",
              "    </tr>\n",
              "    <tr>\n",
              "      <th>9995</th>\n",
              "      <td>9996</td>\n",
              "      <td>15606229</td>\n",
              "      <td>Obijiaku</td>\n",
              "      <td>771</td>\n",
              "      <td>France</td>\n",
              "      <td>Male</td>\n",
              "      <td>39</td>\n",
              "      <td>5.0</td>\n",
              "      <td>0.00</td>\n",
              "      <td>2</td>\n",
              "      <td>1</td>\n",
              "      <td>0</td>\n",
              "      <td>96270.64</td>\n",
              "      <td>0</td>\n",
              "    </tr>\n",
              "    <tr>\n",
              "      <th>9996</th>\n",
              "      <td>9997</td>\n",
              "      <td>15569892</td>\n",
              "      <td>Johnstone</td>\n",
              "      <td>516</td>\n",
              "      <td>France</td>\n",
              "      <td>Male</td>\n",
              "      <td>35</td>\n",
              "      <td>10.0</td>\n",
              "      <td>57369.61</td>\n",
              "      <td>1</td>\n",
              "      <td>1</td>\n",
              "      <td>1</td>\n",
              "      <td>101699.77</td>\n",
              "      <td>0</td>\n",
              "    </tr>\n",
              "    <tr>\n",
              "      <th>9997</th>\n",
              "      <td>9998</td>\n",
              "      <td>15584532</td>\n",
              "      <td>Liu</td>\n",
              "      <td>709</td>\n",
              "      <td>France</td>\n",
              "      <td>Female</td>\n",
              "      <td>36</td>\n",
              "      <td>7.0</td>\n",
              "      <td>0.00</td>\n",
              "      <td>1</td>\n",
              "      <td>0</td>\n",
              "      <td>1</td>\n",
              "      <td>42085.58</td>\n",
              "      <td>1</td>\n",
              "    </tr>\n",
              "    <tr>\n",
              "      <th>9998</th>\n",
              "      <td>9999</td>\n",
              "      <td>15682355</td>\n",
              "      <td>Sabbatini</td>\n",
              "      <td>772</td>\n",
              "      <td>Germany</td>\n",
              "      <td>Male</td>\n",
              "      <td>42</td>\n",
              "      <td>3.0</td>\n",
              "      <td>75075.31</td>\n",
              "      <td>2</td>\n",
              "      <td>1</td>\n",
              "      <td>0</td>\n",
              "      <td>92888.52</td>\n",
              "      <td>1</td>\n",
              "    </tr>\n",
              "    <tr>\n",
              "      <th>9999</th>\n",
              "      <td>10000</td>\n",
              "      <td>15628319</td>\n",
              "      <td>Walker</td>\n",
              "      <td>792</td>\n",
              "      <td>France</td>\n",
              "      <td>Female</td>\n",
              "      <td>28</td>\n",
              "      <td>NaN</td>\n",
              "      <td>130142.79</td>\n",
              "      <td>1</td>\n",
              "      <td>1</td>\n",
              "      <td>0</td>\n",
              "      <td>38190.78</td>\n",
              "      <td>0</td>\n",
              "    </tr>\n",
              "  </tbody>\n",
              "</table>\n",
              "<p>10000 rows × 14 columns</p>\n",
              "</div>"
            ],
            "text/plain": [
              "      RowNumber  CustomerId    Surname  CreditScore Geography  Gender  Age  \\\n",
              "0             1    15634602   Hargrave          619    France  Female   42   \n",
              "1             2    15647311       Hill          608     Spain  Female   41   \n",
              "2             3    15619304       Onio          502    France  Female   42   \n",
              "3             4    15701354       Boni          699    France  Female   39   \n",
              "4             5    15737888   Mitchell          850     Spain  Female   43   \n",
              "...         ...         ...        ...          ...       ...     ...  ...   \n",
              "9995       9996    15606229   Obijiaku          771    France    Male   39   \n",
              "9996       9997    15569892  Johnstone          516    France    Male   35   \n",
              "9997       9998    15584532        Liu          709    France  Female   36   \n",
              "9998       9999    15682355  Sabbatini          772   Germany    Male   42   \n",
              "9999      10000    15628319     Walker          792    France  Female   28   \n",
              "\n",
              "      Tenure    Balance  NumOfProducts  HasCrCard  IsActiveMember  \\\n",
              "0        2.0       0.00              1          1               1   \n",
              "1        1.0   83807.86              1          0               1   \n",
              "2        8.0  159660.80              3          1               0   \n",
              "3        1.0       0.00              2          0               0   \n",
              "4        2.0  125510.82              1          1               1   \n",
              "...      ...        ...            ...        ...             ...   \n",
              "9995     5.0       0.00              2          1               0   \n",
              "9996    10.0   57369.61              1          1               1   \n",
              "9997     7.0       0.00              1          0               1   \n",
              "9998     3.0   75075.31              2          1               0   \n",
              "9999     NaN  130142.79              1          1               0   \n",
              "\n",
              "      EstimatedSalary  Exited  \n",
              "0           101348.88       1  \n",
              "1           112542.58       0  \n",
              "2           113931.57       1  \n",
              "3            93826.63       0  \n",
              "4            79084.10       0  \n",
              "...               ...     ...  \n",
              "9995         96270.64       0  \n",
              "9996        101699.77       0  \n",
              "9997         42085.58       1  \n",
              "9998         92888.52       1  \n",
              "9999         38190.78       0  \n",
              "\n",
              "[10000 rows x 14 columns]"
            ]
          },
          "execution_count": 1,
          "metadata": {},
          "output_type": "execute_result"
        }
      ],
      "source": [
        "import pandas as pd\n",
        "import numpy as np\n",
        "from sklearn.model_selection import train_test_split\n",
        "from sklearn.linear_model import LogisticRegression\n",
        "from sklearn.tree import DecisionTreeClassifier\n",
        "from sklearn.ensemble import RandomForestClassifier\n",
        "from sklearn.metrics import f1_score, precision_score, recall_score, accuracy_score, roc_auc_score, roc_curve\n",
        "from sklearn.utils import shuffle\n",
        "from sklearn.linear_model import LinearRegression\n",
        "import matplotlib.pyplot as plt\n",
        "from sklearn.preprocessing import StandardScaler\n",
        "import numpy as np\n",
        "from numpy.random import choice\n",
        "data = pd.read_csv('/datasets/Churn.csv')\n",
        "\n",
        "\n",
        "\n",
        "data"
      ]
    },
    {
      "cell_type": "code",
      "execution_count": null,
      "metadata": {
        "id": "OWJqnkwMbbSS",
        "outputId": "d9e65bfa-185b-40e0-b107-7cf8d0cdd1c8"
      },
      "outputs": [
        {
          "data": {
            "text/plain": [
              "Index(['rownumber', 'customerid', 'surname', 'creditscore', 'geography',\n",
              "       'gender', 'age', 'tenure', 'balance', 'numofproducts', 'hascrcard',\n",
              "       'isactivemember', 'estimatedsalary', 'exited'],\n",
              "      dtype='object')"
            ]
          },
          "execution_count": 2,
          "metadata": {},
          "output_type": "execute_result"
        }
      ],
      "source": [
        "data.columns = data.columns.str.lower()\n",
        "data.columns"
      ]
    },
    {
      "cell_type": "code",
      "execution_count": null,
      "metadata": {
        "id": "nQj0UwHLbbST",
        "outputId": "f1dc6124-ed4f-4e99-e222-548d9954394b"
      },
      "outputs": [
        {
          "name": "stdout",
          "output_type": "stream",
          "text": [
            "<class 'pandas.core.frame.DataFrame'>\n",
            "RangeIndex: 10000 entries, 0 to 9999\n",
            "Data columns (total 14 columns):\n",
            " #   Column           Non-Null Count  Dtype  \n",
            "---  ------           --------------  -----  \n",
            " 0   rownumber        10000 non-null  int64  \n",
            " 1   customerid       10000 non-null  int64  \n",
            " 2   surname          10000 non-null  object \n",
            " 3   creditscore      10000 non-null  int64  \n",
            " 4   geography        10000 non-null  object \n",
            " 5   gender           10000 non-null  object \n",
            " 6   age              10000 non-null  int64  \n",
            " 7   tenure           9091 non-null   float64\n",
            " 8   balance          10000 non-null  float64\n",
            " 9   numofproducts    10000 non-null  int64  \n",
            " 10  hascrcard        10000 non-null  int64  \n",
            " 11  isactivemember   10000 non-null  int64  \n",
            " 12  estimatedsalary  10000 non-null  float64\n",
            " 13  exited           10000 non-null  int64  \n",
            "dtypes: float64(3), int64(8), object(3)\n",
            "memory usage: 1.1+ MB\n"
          ]
        }
      ],
      "source": [
        "data.info()"
      ]
    },
    {
      "cell_type": "code",
      "execution_count": null,
      "metadata": {
        "id": "ydITS0m9bbST",
        "outputId": "809e1962-4f73-4a7f-fc0d-25c35d258dd9"
      },
      "outputs": [
        {
          "data": {
            "text/plain": [
              "(10000, 14)"
            ]
          },
          "execution_count": 4,
          "metadata": {},
          "output_type": "execute_result"
        }
      ],
      "source": [
        "data.shape"
      ]
    },
    {
      "cell_type": "code",
      "execution_count": null,
      "metadata": {
        "id": "Nk-J16JrbbST",
        "outputId": "f3b699e7-9cc6-4c1b-e1c7-05be0fc804a7"
      },
      "outputs": [
        {
          "data": {
            "text/plain": [
              "1.0     952\n",
              "2.0     950\n",
              "8.0     933\n",
              "3.0     928\n",
              "5.0     927\n",
              "7.0     925\n",
              "NaN     909\n",
              "4.0     885\n",
              "9.0     882\n",
              "6.0     881\n",
              "10.0    446\n",
              "0.0     382\n",
              "Name: tenure, dtype: int64"
            ]
          },
          "execution_count": 5,
          "metadata": {},
          "output_type": "execute_result"
        }
      ],
      "source": [
        "data['tenure'].value_counts(dropna=False) "
      ]
    },
    {
      "cell_type": "code",
      "execution_count": null,
      "metadata": {
        "id": "WnqgWPw2bbST"
      },
      "outputs": [],
      "source": [
        "datat=data['tenure']"
      ]
    },
    {
      "cell_type": "code",
      "execution_count": null,
      "metadata": {
        "id": "I-Lu2-UVbbSU"
      },
      "outputs": [],
      "source": [
        "tenure=data['tenure'].value_counts(normalize=True)"
      ]
    },
    {
      "cell_type": "code",
      "execution_count": null,
      "metadata": {
        "id": "bUHHIOrxbbSV",
        "outputId": "40daf22e-cfb8-462c-9904-ed88fb76ac28"
      },
      "outputs": [
        {
          "data": {
            "text/plain": [
              "0.0     1291\n",
              "1.0      952\n",
              "2.0      950\n",
              "8.0      933\n",
              "3.0      928\n",
              "5.0      927\n",
              "7.0      925\n",
              "4.0      885\n",
              "9.0      882\n",
              "6.0      881\n",
              "10.0     446\n",
              "Name: tenure, dtype: int64"
            ]
          },
          "execution_count": 9,
          "metadata": {},
          "output_type": "execute_result"
        }
      ],
      "source": [
        "data['tenure']=data['tenure'].fillna(0)\n",
        "data['tenure'].value_counts(dropna=False)"
      ]
    },
    {
      "cell_type": "code",
      "execution_count": null,
      "metadata": {
        "id": "j-Rli-tHbbSW",
        "outputId": "57ad8c8c-606f-415a-b694-3e536c80cb93"
      },
      "outputs": [
        {
          "data": {
            "text/plain": [
              "(10000, 11)"
            ]
          },
          "execution_count": 10,
          "metadata": {},
          "output_type": "execute_result"
        }
      ],
      "source": [
        "data = data.drop(['rownumber','customerid','surname'], axis=1)\n",
        "data.shape"
      ]
    },
    {
      "cell_type": "code",
      "execution_count": null,
      "metadata": {
        "id": "ouLhouDubbSW",
        "outputId": "a454e0c2-7294-4ca7-9952-06fc89af01be"
      },
      "outputs": [
        {
          "data": {
            "text/html": [
              "<div>\n",
              "<style scoped>\n",
              "    .dataframe tbody tr th:only-of-type {\n",
              "        vertical-align: middle;\n",
              "    }\n",
              "\n",
              "    .dataframe tbody tr th {\n",
              "        vertical-align: top;\n",
              "    }\n",
              "\n",
              "    .dataframe thead th {\n",
              "        text-align: right;\n",
              "    }\n",
              "</style>\n",
              "<table border=\"1\" class=\"dataframe\">\n",
              "  <thead>\n",
              "    <tr style=\"text-align: right;\">\n",
              "      <th></th>\n",
              "      <th>creditscore</th>\n",
              "      <th>age</th>\n",
              "      <th>tenure</th>\n",
              "      <th>balance</th>\n",
              "      <th>numofproducts</th>\n",
              "      <th>hascrcard</th>\n",
              "      <th>isactivemember</th>\n",
              "      <th>estimatedsalary</th>\n",
              "      <th>exited</th>\n",
              "      <th>geography_Germany</th>\n",
              "      <th>geography_Spain</th>\n",
              "      <th>gender_Male</th>\n",
              "    </tr>\n",
              "  </thead>\n",
              "  <tbody>\n",
              "    <tr>\n",
              "      <th>0</th>\n",
              "      <td>619</td>\n",
              "      <td>42</td>\n",
              "      <td>2.0</td>\n",
              "      <td>0.00</td>\n",
              "      <td>1</td>\n",
              "      <td>1</td>\n",
              "      <td>1</td>\n",
              "      <td>101348.88</td>\n",
              "      <td>1</td>\n",
              "      <td>0</td>\n",
              "      <td>0</td>\n",
              "      <td>0</td>\n",
              "    </tr>\n",
              "    <tr>\n",
              "      <th>1</th>\n",
              "      <td>608</td>\n",
              "      <td>41</td>\n",
              "      <td>1.0</td>\n",
              "      <td>83807.86</td>\n",
              "      <td>1</td>\n",
              "      <td>0</td>\n",
              "      <td>1</td>\n",
              "      <td>112542.58</td>\n",
              "      <td>0</td>\n",
              "      <td>0</td>\n",
              "      <td>1</td>\n",
              "      <td>0</td>\n",
              "    </tr>\n",
              "    <tr>\n",
              "      <th>2</th>\n",
              "      <td>502</td>\n",
              "      <td>42</td>\n",
              "      <td>8.0</td>\n",
              "      <td>159660.80</td>\n",
              "      <td>3</td>\n",
              "      <td>1</td>\n",
              "      <td>0</td>\n",
              "      <td>113931.57</td>\n",
              "      <td>1</td>\n",
              "      <td>0</td>\n",
              "      <td>0</td>\n",
              "      <td>0</td>\n",
              "    </tr>\n",
              "    <tr>\n",
              "      <th>3</th>\n",
              "      <td>699</td>\n",
              "      <td>39</td>\n",
              "      <td>1.0</td>\n",
              "      <td>0.00</td>\n",
              "      <td>2</td>\n",
              "      <td>0</td>\n",
              "      <td>0</td>\n",
              "      <td>93826.63</td>\n",
              "      <td>0</td>\n",
              "      <td>0</td>\n",
              "      <td>0</td>\n",
              "      <td>0</td>\n",
              "    </tr>\n",
              "    <tr>\n",
              "      <th>4</th>\n",
              "      <td>850</td>\n",
              "      <td>43</td>\n",
              "      <td>2.0</td>\n",
              "      <td>125510.82</td>\n",
              "      <td>1</td>\n",
              "      <td>1</td>\n",
              "      <td>1</td>\n",
              "      <td>79084.10</td>\n",
              "      <td>0</td>\n",
              "      <td>0</td>\n",
              "      <td>1</td>\n",
              "      <td>0</td>\n",
              "    </tr>\n",
              "    <tr>\n",
              "      <th>...</th>\n",
              "      <td>...</td>\n",
              "      <td>...</td>\n",
              "      <td>...</td>\n",
              "      <td>...</td>\n",
              "      <td>...</td>\n",
              "      <td>...</td>\n",
              "      <td>...</td>\n",
              "      <td>...</td>\n",
              "      <td>...</td>\n",
              "      <td>...</td>\n",
              "      <td>...</td>\n",
              "      <td>...</td>\n",
              "    </tr>\n",
              "    <tr>\n",
              "      <th>9995</th>\n",
              "      <td>771</td>\n",
              "      <td>39</td>\n",
              "      <td>5.0</td>\n",
              "      <td>0.00</td>\n",
              "      <td>2</td>\n",
              "      <td>1</td>\n",
              "      <td>0</td>\n",
              "      <td>96270.64</td>\n",
              "      <td>0</td>\n",
              "      <td>0</td>\n",
              "      <td>0</td>\n",
              "      <td>1</td>\n",
              "    </tr>\n",
              "    <tr>\n",
              "      <th>9996</th>\n",
              "      <td>516</td>\n",
              "      <td>35</td>\n",
              "      <td>10.0</td>\n",
              "      <td>57369.61</td>\n",
              "      <td>1</td>\n",
              "      <td>1</td>\n",
              "      <td>1</td>\n",
              "      <td>101699.77</td>\n",
              "      <td>0</td>\n",
              "      <td>0</td>\n",
              "      <td>0</td>\n",
              "      <td>1</td>\n",
              "    </tr>\n",
              "    <tr>\n",
              "      <th>9997</th>\n",
              "      <td>709</td>\n",
              "      <td>36</td>\n",
              "      <td>7.0</td>\n",
              "      <td>0.00</td>\n",
              "      <td>1</td>\n",
              "      <td>0</td>\n",
              "      <td>1</td>\n",
              "      <td>42085.58</td>\n",
              "      <td>1</td>\n",
              "      <td>0</td>\n",
              "      <td>0</td>\n",
              "      <td>0</td>\n",
              "    </tr>\n",
              "    <tr>\n",
              "      <th>9998</th>\n",
              "      <td>772</td>\n",
              "      <td>42</td>\n",
              "      <td>3.0</td>\n",
              "      <td>75075.31</td>\n",
              "      <td>2</td>\n",
              "      <td>1</td>\n",
              "      <td>0</td>\n",
              "      <td>92888.52</td>\n",
              "      <td>1</td>\n",
              "      <td>1</td>\n",
              "      <td>0</td>\n",
              "      <td>1</td>\n",
              "    </tr>\n",
              "    <tr>\n",
              "      <th>9999</th>\n",
              "      <td>792</td>\n",
              "      <td>28</td>\n",
              "      <td>0.0</td>\n",
              "      <td>130142.79</td>\n",
              "      <td>1</td>\n",
              "      <td>1</td>\n",
              "      <td>0</td>\n",
              "      <td>38190.78</td>\n",
              "      <td>0</td>\n",
              "      <td>0</td>\n",
              "      <td>0</td>\n",
              "      <td>0</td>\n",
              "    </tr>\n",
              "  </tbody>\n",
              "</table>\n",
              "<p>10000 rows × 12 columns</p>\n",
              "</div>"
            ],
            "text/plain": [
              "      creditscore  age  tenure    balance  numofproducts  hascrcard  \\\n",
              "0             619   42     2.0       0.00              1          1   \n",
              "1             608   41     1.0   83807.86              1          0   \n",
              "2             502   42     8.0  159660.80              3          1   \n",
              "3             699   39     1.0       0.00              2          0   \n",
              "4             850   43     2.0  125510.82              1          1   \n",
              "...           ...  ...     ...        ...            ...        ...   \n",
              "9995          771   39     5.0       0.00              2          1   \n",
              "9996          516   35    10.0   57369.61              1          1   \n",
              "9997          709   36     7.0       0.00              1          0   \n",
              "9998          772   42     3.0   75075.31              2          1   \n",
              "9999          792   28     0.0  130142.79              1          1   \n",
              "\n",
              "      isactivemember  estimatedsalary  exited  geography_Germany  \\\n",
              "0                  1        101348.88       1                  0   \n",
              "1                  1        112542.58       0                  0   \n",
              "2                  0        113931.57       1                  0   \n",
              "3                  0         93826.63       0                  0   \n",
              "4                  1         79084.10       0                  0   \n",
              "...              ...              ...     ...                ...   \n",
              "9995               0         96270.64       0                  0   \n",
              "9996               1        101699.77       0                  0   \n",
              "9997               1         42085.58       1                  0   \n",
              "9998               0         92888.52       1                  1   \n",
              "9999               0         38190.78       0                  0   \n",
              "\n",
              "      geography_Spain  gender_Male  \n",
              "0                   0            0  \n",
              "1                   1            0  \n",
              "2                   0            0  \n",
              "3                   0            0  \n",
              "4                   1            0  \n",
              "...               ...          ...  \n",
              "9995                0            1  \n",
              "9996                0            1  \n",
              "9997                0            0  \n",
              "9998                0            1  \n",
              "9999                0            0  \n",
              "\n",
              "[10000 rows x 12 columns]"
            ]
          },
          "execution_count": 11,
          "metadata": {},
          "output_type": "execute_result"
        }
      ],
      "source": [
        "data_ohe = pd.get_dummies(data, drop_first=True)\n",
        "data_ohe"
      ]
    },
    {
      "cell_type": "markdown",
      "metadata": {
        "id": "8EGM6wInbbSW"
      },
      "source": [
        "<div class=\"alert alert-info\", style=\"border:solid dark-blue 3px; padding: 20px\">\n",
        "<font size=\"4\", color = \"Light-Blue\"><b>🎯 Комментарий </b></font>\n",
        "    <br /> \n",
        "    <font size=\"3\", color = \"black\">\n",
        "<br />  Данные выгружены, что можно заметить: \n",
        "        \n",
        "        \n",
        "* названия столбцов пперевели к нижнему регистру     \n",
        "* В колонке data['tenure'] есть NaN, данная колонка обозначает( Tenure — сколько лет человек является клиентом банка).Следовательно, данные клиента были утерены,либо это новенькие.Их можно заменить на ноль.\n",
        "*Также удалила колонки['rownumber','customerid','surname'] в данном задании они не нужны.Так как не играют важную роль в том, что останется клиент в банке, либо нет.\n",
        "*Создала датафрейм, созданный по методу прямого кодирования с защитой от дамми-ловушки.\n",
        "        "
      ]
    },
    {
      "cell_type": "markdown",
      "metadata": {
        "id": "5aKesVkbbbSX"
      },
      "source": [
        "## Исследование задачи"
      ]
    },
    {
      "cell_type": "code",
      "execution_count": null,
      "metadata": {
        "id": "fCpCiAgybbSX"
      },
      "outputs": [],
      "source": [
        "target = data_ohe['exited']\n",
        "features = data_ohe.drop(['exited'] , axis=1)\n",
        "RANDOM_STATE = 20052020\n",
        "features_train,features_valid,target_train,target_valid =  train_test_split(features,target, test_size=0.4, random_state=RANDOM_STATE,stratify=target)\n",
        "features_test, features_valid,target_test,target_valid =  train_test_split(features_valid,target_valid, test_size=0.5, random_state=RANDOM_STATE,stratify=target_valid)"
      ]
    },
    {
      "cell_type": "code",
      "execution_count": null,
      "metadata": {
        "id": "4KMEqL7ebbSY",
        "outputId": "716cdaa3-529a-4ac6-c6e3-5bd5ff952377"
      },
      "outputs": [
        {
          "name": "stdout",
          "output_type": "stream",
          "text": [
            "(6000, 11) (2000, 11) (2000, 11)\n",
            "(6000,) (2000,) (2000,)\n"
          ]
        }
      ],
      "source": [
        "print(features_train.shape, features_valid.shape, features_test.shape)\n",
        "print(target_train.shape, target_valid.shape, target_test.shape)"
      ]
    },
    {
      "cell_type": "code",
      "execution_count": null,
      "metadata": {
        "id": "6Ixx1ZMebbSY",
        "outputId": "8cb9bad6-8ecc-45d7-d9df-036e5eab875b"
      },
      "outputs": [
        {
          "name": "stdout",
          "output_type": "stream",
          "text": [
            "0    0.7963\n",
            "1    0.2037\n",
            "Name: exited, dtype: float64\n"
          ]
        },
        {
          "data": {
            "text/plain": [
              "<AxesSubplot:>"
            ]
          },
          "execution_count": 14,
          "metadata": {},
          "output_type": "execute_result"
        },
        {
          "data": {
            "image/png": "[encoded data removed]",
            "text/plain": [
              "<Figure size 432x288 with 1 Axes>"
            ]
          },
          "metadata": {
            "needs_background": "light"
          },
          "output_type": "display_data"
        }
      ],
      "source": [
        "class_target=target.value_counts(normalize=True)\n",
        "print(class_target)\n",
        "\n",
        "class_target.plot(kind='bar')\n"
      ]
    },
    {
      "cell_type": "code",
      "execution_count": null,
      "metadata": {
        "id": "u_cz9egzbbSZ"
      },
      "outputs": [],
      "source": [
        "\n",
        "ss = StandardScaler()\n",
        "features_train_scaled = ss.fit_transform(features_train)\n",
        "features_test_scaled = ss.transform(features_test)\n",
        "features_valid_scaled = ss.transform(features_valid)\n",
        "\n",
        "#target_train = np.array(target_train)\n"
      ]
    },
    {
      "cell_type": "markdown",
      "metadata": {
        "id": "tuQeKDitbbSa"
      },
      "source": [
        "<div class=\"alert alert-info\", style=\"border:solid dark-blue 3px; padding: 20px\">\n",
        "<font size=\"4\", color = \"Light-Blue\"><b>🎯 Комментарий </b></font>\n",
        "    <br /> \n",
        "    <font size=\"3\", color = \"black\">\n",
        "<br />  \n",
        "Как видно из графика присутствует сильный дисбаланс классов.\n",
        "        "
      ]
    },
    {
      "cell_type": "code",
      "execution_count": null,
      "metadata": {
        "id": "r-W-WjIrbbSa"
      },
      "outputs": [],
      "source": [
        "#chek\n",
        "\n",
        "df1 = pd.DataFrame()\n",
        "\n"
      ]
    },
    {
      "cell_type": "code",
      "execution_count": null,
      "metadata": {
        "id": "PLdrar53bbSa",
        "outputId": "db7976c1-0b62-41aa-fd47-0ca5df60aeb3"
      },
      "outputs": [
        {
          "name": "stdout",
          "output_type": "stream",
          "text": [
            "Max depth 2 F1-score 0.5139664804469274\n",
            "Max depth 3 F1-score 0.34563106796116505\n",
            "Max depth 4 F1-score 0.5039619651347068\n",
            "Max depth 5 F1-score 0.5109717868338558\n",
            "Max depth 6 F1-score 0.5351681957186544\n",
            "Max depth 7 F1-score 0.5319148936170214\n",
            "Max depth 8 F1-score 0.5195195195195196\n",
            "Max depth 9 F1-score 0.5069551777434312\n",
            "Max depth 10 F1-score 0.5036603221083455\n",
            "Max depth 11 F1-score 0.5014164305949008\n",
            "Max depth 12 F1-score 0.5067750677506775\n",
            "Max depth 13 F1-score 0.49322493224932246\n",
            "Max depth 14 F1-score 0.46814044213263983\n",
            "Max depth 15 F1-score 0.45838668373879643\n",
            "Max depth 16 F1-score 0.4577114427860697\n",
            "Max depth 17 F1-score 0.4772447724477245\n",
            "Max depth 18 F1-score 0.4841075794621027\n",
            "Max depth 19 F1-score 0.48143712574850295\n",
            "Max depth 20 F1-score 0.47721822541966424\n",
            "Max depth 21 F1-score 0.48210023866348445\n",
            "Max depth 22 F1-score 0.48134777376654636\n",
            "Max depth 23 F1-score 0.4693140794223827\n",
            "Max depth 24 F1-score 0.4693140794223827\n",
            "Max depth 25 F1-score 0.4693140794223827\n",
            "Max depth 26 F1-score 0.4693140794223827\n",
            "Max depth 27 F1-score 0.4693140794223827\n",
            "Max depth 28 F1-score 0.4693140794223827\n",
            "Max depth 29 F1-score 0.4693140794223827\n",
            "Max depth 30 F1-score 0.4693140794223827\n",
            "Max depth 31 F1-score 0.4693140794223827\n",
            "Max depth 32 F1-score 0.4693140794223827\n",
            "Max depth 33 F1-score 0.4693140794223827\n",
            "Max depth 34 F1-score 0.4693140794223827\n",
            "Max depth 35 F1-score 0.4693140794223827\n",
            "Max depth 36 F1-score 0.4693140794223827\n",
            "Max depth 37 F1-score 0.4693140794223827\n",
            "Max depth 38 F1-score 0.4693140794223827\n",
            "Max depth 39 F1-score 0.4693140794223827\n",
            "Max depth 40 F1-score 0.4693140794223827\n",
            "Max depth 41 F1-score 0.4693140794223827\n",
            "Max depth 42 F1-score 0.4693140794223827\n",
            "Max depth 43 F1-score 0.4693140794223827\n",
            "Max depth 44 F1-score 0.4693140794223827\n",
            "Max depth 45 F1-score 0.4693140794223827\n",
            "Max depth 46 F1-score 0.4693140794223827\n",
            "Max depth 47 F1-score 0.4693140794223827\n",
            "Max depth 48 F1-score 0.4693140794223827\n",
            "Max depth 49 F1-score 0.4693140794223827\n",
            "Max depth 50 F1-score 0.4693140794223827\n",
            "Max depth 51 F1-score 0.4693140794223827\n",
            "Max depth 52 F1-score 0.4693140794223827\n",
            "Max depth 53 F1-score 0.4693140794223827\n",
            "Max depth 54 F1-score 0.4693140794223827\n",
            "Max depth 55 F1-score 0.4693140794223827\n",
            "Max depth 56 F1-score 0.4693140794223827\n",
            "Max depth 57 F1-score 0.4693140794223827\n",
            "Max depth 58 F1-score 0.4693140794223827\n",
            "Max depth 59 F1-score 0.4693140794223827\n",
            "Лучшая глубина дерева 6 Лучшая F1-score 0.5351681957186544\n",
            "CPU times: user 1.7 s, sys: 22 ms, total: 1.73 s\n",
            "Wall time: 1.73 s\n"
          ]
        }
      ],
      "source": [
        "%%time\n",
        "\n",
        "#Решающее дерево\n",
        "best_depth = 0\n",
        "best_F1_score = 0\n",
        "for depth in range(2, 60):\n",
        "    model = DecisionTreeClassifier(random_state=RANDOM_STATE, max_depth=depth)\n",
        "    model.fit(features_train_scaled, target_train)\n",
        "    predicted_valid = model.predict(features_valid_scaled)\n",
        "    F1_score = f1_score(target_valid, predicted_valid)\n",
        "    print('Max depth', depth,'F1-score', F1_score)\n",
        "    if F1_score > best_F1_score:\n",
        "        best_depth = depth\n",
        "        best_F1_score=F1_score\n",
        "\n",
        "print('Лучшая глубина дерева', best_depth,'Лучшая F1-score', best_F1_score)\n"
      ]
    },
    {
      "cell_type": "markdown",
      "metadata": {
        "id": "64hB1QCMbbSb"
      },
      "source": [
        "<div class=\"alert alert-info\", style=\"border:solid dark-blue 3px; padding: 20px\">\n",
        "<font size=\"4\", color = \"Light-Blue\"><b>🎯 Комментарий </b></font>\n",
        "    <br /> \n",
        "    <font size=\"3\", color = \"black\">\n",
        "<br />  \n",
        "У решающего дерева Лучшая глубина дерева 7 Лучшая F1-score 0.5857142857142857\n",
        "        "
      ]
    },
    {
      "cell_type": "markdown",
      "metadata": {
        "id": "3NBoV-zHbbSc"
      },
      "source": [
        "<div class=\"alert alert-info\", style=\"border:solid dark-blue 3px; padding: 20px\">\n",
        "<font size=\"4\", color = \"Light-Blue\"><b>🎯 Комментарий c новым масштабированием  </b></font>\n",
        "    <br /> \n",
        "    <font size=\"3\", color = \"black\">\n",
        "<br />  \n",
        "Лучшая глубина дерева 6 Лучшая F1-score 0.5351681957186544. У меня тутже уменьшелись показатели \n",
        "        "
      ]
    },
    {
      "cell_type": "code",
      "execution_count": null,
      "metadata": {
        "id": "Y4-DHI3ebbSc",
        "outputId": "65b2e407-582e-4134-f02b-1f55835d7f35"
      },
      "outputs": [
        {
          "name": "stdout",
          "output_type": "stream",
          "text": [
            "Количество деревьев 1 F1-score 0.014634146341463415\n",
            "Количество деревьев 1 F1-score 0.4747774480712166\n",
            "Количество деревьев 1 F1-score 0.4482225656877898\n",
            "Количество деревьев 1 F1-score 0.45337159253945475\n",
            "Количество деревьев 1 F1-score 0.5043227665706052\n",
            "Количество деревьев 1 F1-score 0.48787446504992865\n",
            "Количество деревьев 1 F1-score 0.4725274725274725\n",
            "Количество деревьев 1 F1-score 0.4337957124842371\n",
            "Количество деревьев 1 F1-score 0.44892812105926855\n",
            "Количество деревьев 1 F1-score 0.45657568238213403\n",
            "Количество деревьев 1 F1-score 0.4247572815533981\n",
            "Количество деревьев 3 F1-score 0.11136890951276102\n",
            "Количество деревьев 3 F1-score 0.46589018302828616\n",
            "Количество деревьев 3 F1-score 0.4727891156462585\n",
            "Количество деревьев 3 F1-score 0.47751937984496123\n",
            "Количество деревьев 3 F1-score 0.5365853658536586\n",
            "Количество деревьев 3 F1-score 0.502906976744186\n",
            "Количество деревьев 3 F1-score 0.49002849002849\n",
            "Количество деревьев 3 F1-score 0.4888888888888889\n",
            "Количество деревьев 3 F1-score 0.49723756906077354\n",
            "Количество деревьев 3 F1-score 0.4842681258549931\n",
            "Количество деревьев 3 F1-score 0.46344827586206894\n",
            "Количество деревьев 5 F1-score 0.10256410256410257\n",
            "Количество деревьев 5 F1-score 0.4542372881355932\n",
            "Количество деревьев 5 F1-score 0.46440677966101696\n",
            "Количество деревьев 5 F1-score 0.5133020344287951\n",
            "Количество деревьев 5 F1-score 0.5389408099688474\n",
            "Количество деревьев 5 F1-score 0.5226586102719034\n",
            "Количество деревьев 5 F1-score 0.5274074074074074\n",
            "Количество деревьев 5 F1-score 0.48843930635838145\n",
            "Количество деревьев 5 F1-score 0.5159420289855073\n",
            "Количество деревьев 5 F1-score 0.5093525179856115\n",
            "Количество деревьев 5 F1-score 0.5154929577464789\n",
            "Количество деревьев 7 F1-score 0.08470588235294117\n",
            "Количество деревьев 7 F1-score 0.48514851485148514\n",
            "Количество деревьев 7 F1-score 0.4818481848184818\n",
            "Количество деревьев 7 F1-score 0.5149136577708007\n",
            "Количество деревьев 7 F1-score 0.542319749216301\n",
            "Количество деревьев 7 F1-score 0.5371775417298937\n",
            "Количество деревьев 7 F1-score 0.5112781954887219\n",
            "Количество деревьев 7 F1-score 0.5128205128205128\n",
            "Количество деревьев 7 F1-score 0.49626307922272045\n",
            "Количество деревьев 7 F1-score 0.5029585798816568\n",
            "Количество деревьев 7 F1-score 0.5036179450072359\n",
            "Количество деревьев 9 F1-score 0.09813084112149531\n",
            "Количество деревьев 9 F1-score 0.4781144781144781\n",
            "Количество деревьев 9 F1-score 0.4991680532445924\n",
            "Количество деревьев 9 F1-score 0.5203761755485893\n",
            "Количество деревьев 9 F1-score 0.55625\n",
            "Количество деревьев 9 F1-score 0.5446293494704992\n",
            "Количество деревьев 9 F1-score 0.5362962962962964\n",
            "Количество деревьев 9 F1-score 0.5114155251141552\n",
            "Количество деревьев 9 F1-score 0.5147058823529412\n",
            "Количество деревьев 9 F1-score 0.4955752212389381\n",
            "Количество деревьев 9 F1-score 0.5007407407407407\n",
            "Количество деревьев 11 F1-score 0.09813084112149531\n",
            "Количество деревьев 11 F1-score 0.4875621890547263\n",
            "Количество деревьев 11 F1-score 0.5114754098360655\n",
            "Количество деревьев 11 F1-score 0.5213270142180095\n",
            "Количество деревьев 11 F1-score 0.5522620904836193\n",
            "Количество деревьев 11 F1-score 0.5446293494704992\n",
            "Количество деревьев 11 F1-score 0.5402985074626866\n",
            "Количество деревьев 11 F1-score 0.5161290322580645\n",
            "Количество деревьев 11 F1-score 0.5187406296851574\n",
            "Количество деревьев 11 F1-score 0.508029197080292\n",
            "Количество деревьев 11 F1-score 0.5074183976261128\n",
            "Количество деревьев 13 F1-score 0.09813084112149531\n",
            "Количество деревьев 13 F1-score 0.44982698961937717\n",
            "Количество деревьев 13 F1-score 0.5066225165562913\n",
            "Количество деревьев 13 F1-score 0.526984126984127\n",
            "Количество деревьев 13 F1-score 0.5566037735849056\n",
            "Количество деревьев 13 F1-score 0.5404580152671756\n",
            "Количество деревьев 13 F1-score 0.5369532428355959\n",
            "Количество деревьев 13 F1-score 0.5090909090909091\n",
            "Количество деревьев 13 F1-score 0.5313432835820896\n",
            "Количество деревьев 13 F1-score 0.516320474777448\n",
            "Количество деревьев 13 F1-score 0.5037707390648567\n",
            "Количество деревьев 15 F1-score 0.10697674418604652\n",
            "Количество деревьев 15 F1-score 0.450946643717728\n",
            "Количество деревьев 15 F1-score 0.4991735537190083\n",
            "Количество деревьев 15 F1-score 0.5293185419968304\n",
            "Количество деревьев 15 F1-score 0.5492063492063493\n",
            "Количество деревьев 15 F1-score 0.5421133231240428\n",
            "Количество деревьев 15 F1-score 0.5435114503816795\n",
            "Количество деревьев 15 F1-score 0.5204236006051437\n",
            "Количество деревьев 15 F1-score 0.5293233082706768\n",
            "Количество деревьев 15 F1-score 0.5059523809523809\n",
            "Количество деревьев 15 F1-score 0.5142857142857142\n",
            "Количество деревьев 17 F1-score 0.10697674418604652\n",
            "Количество деревьев 17 F1-score 0.4727891156462585\n",
            "Количество деревьев 17 F1-score 0.5154975530179445\n",
            "Количество деревьев 17 F1-score 0.5322834645669291\n",
            "Количество деревьев 17 F1-score 0.5545171339563864\n",
            "Количество деревьев 17 F1-score 0.5468509984639017\n",
            "Количество деревьев 17 F1-score 0.5429447852760735\n",
            "Количество деревьев 17 F1-score 0.542168674698795\n",
            "Количество деревьев 17 F1-score 0.5399698340874811\n",
            "Количество деревьев 17 F1-score 0.5185185185185186\n",
            "Количество деревьев 17 F1-score 0.5261584454409567\n",
            "Количество деревьев 19 F1-score 0.12009237875288684\n",
            "Количество деревьев 19 F1-score 0.43806104129263906\n",
            "Количество деревьев 19 F1-score 0.4958402662229618\n",
            "Количество деревьев 19 F1-score 0.5244865718799369\n",
            "Количество деревьев 19 F1-score 0.5537974683544304\n",
            "Количество деревьев 19 F1-score 0.5560675883256528\n",
            "Количество деревьев 19 F1-score 0.5606060606060606\n",
            "Количество деревьев 19 F1-score 0.5515151515151515\n",
            "Количество деревьев 19 F1-score 0.5451807228915663\n",
            "Количество деревьев 19 F1-score 0.5199409158050221\n",
            "Количество деревьев 19 F1-score 0.5323308270676691\n",
            "Количество деревьев 21 F1-score 0.12442396313364054\n",
            "Количество деревьев 21 F1-score 0.4104477611940298\n",
            "Количество деревьев 21 F1-score 0.4958402662229618\n",
            "Количество деревьев 21 F1-score 0.5185185185185186\n",
            "Количество деревьев 21 F1-score 0.541139240506329\n",
            "Количество деревьев 21 F1-score 0.5570776255707762\n",
            "Количество деревьев 21 F1-score 0.5613496932515337\n",
            "Количество деревьев 21 F1-score 0.5418569254185693\n",
            "Количество деревьев 21 F1-score 0.5371775417298937\n",
            "Количество деревьев 21 F1-score 0.5252225519287833\n",
            "Количество деревьев 21 F1-score 0.5331325301204819\n",
            "Количество деревьев 23 F1-score 0.12009237875288684\n",
            "Количество деревьев 23 F1-score 0.4436493738819321\n",
            "Количество деревьев 23 F1-score 0.49498327759197325\n",
            "Количество деревьев 23 F1-score 0.5200642054574639\n",
            "Количество деревьев 23 F1-score 0.532695374800638\n",
            "Количество деревьев 23 F1-score 0.5614567526555387\n",
            "Количество деревьев 23 F1-score 0.5577812018489985\n",
            "Количество деревьев 23 F1-score 0.5449010654490105\n",
            "Количество деревьев 23 F1-score 0.5435114503816795\n",
            "Количество деревьев 23 F1-score 0.5351270553064275\n",
            "Количество деревьев 23 F1-score 0.5301204819277109\n",
            "Количество деревьев 25 F1-score 0.11136890951276102\n",
            "Количество деревьев 25 F1-score 0.4424460431654676\n",
            "Количество деревьев 25 F1-score 0.5\n",
            "Количество деревьев 25 F1-score 0.5256410256410257\n",
            "Количество деревьев 25 F1-score 0.5329052969502407\n",
            "Количество деревьев 25 F1-score 0.5666666666666667\n",
            "Количество деревьев 25 F1-score 0.5502318392581145\n",
            "Количество деревьев 25 F1-score 0.5545454545454546\n",
            "Количество деревьев 25 F1-score 0.5383458646616541\n",
            "Количество деревьев 25 F1-score 0.5217391304347826\n",
            "Количество деревьев 25 F1-score 0.5353383458646616\n",
            "Количество деревьев 27 F1-score 0.11136890951276102\n",
            "Количество деревьев 27 F1-score 0.4118738404452689\n",
            "Количество деревьев 27 F1-score 0.49498327759197325\n",
            "Количество деревьев 27 F1-score 0.5264847512038524\n",
            "Количество деревьев 27 F1-score 0.5408\n",
            "Количество деревьев 27 F1-score 0.5601217656012176\n",
            "Количество деревьев 27 F1-score 0.5622119815668204\n",
            "Количество деревьев 27 F1-score 0.5515151515151515\n",
            "Количество деревьев 27 F1-score 0.5481927710843373\n",
            "Количество деревьев 27 F1-score 0.5299401197604791\n",
            "Количество деревьев 27 F1-score 0.5411061285500748\n",
            "Количество деревьев 29 F1-score 0.11136890951276102\n",
            "Количество деревьев 29 F1-score 0.42066420664206644\n",
            "Количество деревьев 29 F1-score 0.4924623115577889\n",
            "Количество деревьев 29 F1-score 0.5193548387096775\n",
            "Количество деревьев 29 F1-score 0.5390749601275916\n",
            "Количество деревьев 29 F1-score 0.5565749235474007\n",
            "Количество деревьев 29 F1-score 0.551617873651772\n",
            "Количество деревьев 29 F1-score 0.5374045801526718\n",
            "Количество деревьев 29 F1-score 0.5345345345345346\n",
            "Количество деревьев 29 F1-score 0.539156626506024\n",
            "Количество деревьев 29 F1-score 0.5484351713859912\n",
            "Количество деревьев 31 F1-score 0.09813084112149531\n",
            "Количество деревьев 31 F1-score 0.4154411764705882\n",
            "Количество деревьев 31 F1-score 0.5\n",
            "Количество деревьев 31 F1-score 0.527331189710611\n",
            "Количество деревьев 31 F1-score 0.5390749601275916\n",
            "Количество деревьев 31 F1-score 0.5513016845329249\n",
            "Количество деревьев 31 F1-score 0.5564142194744978\n",
            "Количество деревьев 31 F1-score 0.5418569254185693\n",
            "Количество деревьев 31 F1-score 0.530920060331825\n",
            "Количество деревьев 31 F1-score 0.5465465465465466\n",
            "Количество деревьев 31 F1-score 0.5419161676646707\n",
            "Количество деревьев 33 F1-score 0.09813084112149531\n",
            "Количество деревьев 33 F1-score 0.4052044609665428\n",
            "Количество деревьев 33 F1-score 0.49501661129568103\n",
            "Количество деревьев 33 F1-score 0.5232744783306581\n",
            "Количество деревьев 33 F1-score 0.536741214057508\n",
            "Количество деревьев 33 F1-score 0.5595054095826894\n",
            "Количество деревьев 33 F1-score 0.5625965996908809\n",
            "Количество деревьев 33 F1-score 0.5443425076452599\n",
            "Количество деревьев 33 F1-score 0.536144578313253\n",
            "Количество деревьев 33 F1-score 0.5473684210526316\n",
            "Количество деревьев 33 F1-score 0.5272727272727273\n",
            "Количество деревьев 35 F1-score 0.08470588235294117\n",
            "Количество деревьев 35 F1-score 0.419889502762431\n",
            "Количество деревьев 35 F1-score 0.5\n",
            "Количество деревьев 35 F1-score 0.5296950240770465\n",
            "Количество деревьев 35 F1-score 0.536741214057508\n",
            "Количество деревьев 35 F1-score 0.5577812018489985\n",
            "Количество деревьев 35 F1-score 0.5718654434250764\n",
            "Количество деревьев 35 F1-score 0.5435114503816795\n",
            "Количество деревьев 35 F1-score 0.5413533834586467\n",
            "Количество деревьев 35 F1-score 0.5492537313432836\n",
            "Количество деревьев 35 F1-score 0.5411061285500748\n",
            "Количество деревьев 37 F1-score 0.08470588235294117\n",
            "Количество деревьев 37 F1-score 0.4117647058823529\n",
            "Количество деревьев 37 F1-score 0.4983388704318937\n",
            "Количество деревьев 37 F1-score 0.5256410256410257\n",
            "Количество деревьев 37 F1-score 0.528846153846154\n",
            "Количество деревьев 37 F1-score 0.5564142194744978\n",
            "Количество деревьев 37 F1-score 0.564885496183206\n",
            "Количество деревьев 37 F1-score 0.5443425076452599\n",
            "Количество деревьев 37 F1-score 0.5383458646616541\n",
            "Количество деревьев 37 F1-score 0.5490196078431372\n",
            "Количество деревьев 37 F1-score 0.5359281437125748\n",
            "Количество деревьев 39 F1-score 0.09813084112149531\n",
            "Количество деревьев 39 F1-score 0.3757115749525617\n",
            "Количество деревьев 39 F1-score 0.4974958263772955\n",
            "Количество деревьев 39 F1-score 0.5344\n",
            "Количество деревьев 39 F1-score 0.5333333333333333\n",
            "Количество деревьев 39 F1-score 0.5572755417956656\n",
            "Количество деревьев 39 F1-score 0.5570776255707762\n",
            "Количество деревьев 39 F1-score 0.5457317073170731\n",
            "Количество деревьев 39 F1-score 0.5371775417298937\n",
            "Количество деревьев 39 F1-score 0.5353383458646616\n",
            "Количество деревьев 39 F1-score 0.5293233082706768\n",
            "Количество деревьев 41 F1-score 0.09813084112149531\n",
            "Количество деревьев 41 F1-score 0.376425855513308\n",
            "Количество деревьев 41 F1-score 0.4974958263772955\n",
            "Количество деревьев 41 F1-score 0.5290322580645161\n",
            "Количество деревьев 41 F1-score 0.5341812400635929\n",
            "Количество деревьев 41 F1-score 0.5590062111801243\n",
            "Количество деревьев 41 F1-score 0.5513016845329249\n",
            "Количество деревьев 41 F1-score 0.5429447852760735\n",
            "Количество деревьев 41 F1-score 0.5377643504531722\n",
            "Количество деревьев 41 F1-score 0.5512048192771084\n",
            "Количество деревьев 41 F1-score 0.5242424242424243\n",
            "Количество деревьев 43 F1-score 0.08920187793427231\n",
            "Количество деревьев 43 F1-score 0.3856332703213611\n",
            "Количество деревьев 43 F1-score 0.49498327759197325\n",
            "Количество деревьев 43 F1-score 0.536115569823435\n",
            "Количество деревьев 43 F1-score 0.5382165605095541\n",
            "Количество деревьев 43 F1-score 0.5634674922600619\n",
            "Количество деревьев 43 F1-score 0.5526717557251909\n",
            "Количество деревьев 43 F1-score 0.5545454545454546\n",
            "Количество деревьев 43 F1-score 0.555223880597015\n",
            "Количество деревьев 43 F1-score 0.5498489425981874\n",
            "Количество деревьев 43 F1-score 0.5242424242424243\n",
            "Количество деревьев 45 F1-score 0.10256410256410257\n",
            "Количество деревьев 45 F1-score 0.36781609195402293\n",
            "Количество деревьев 45 F1-score 0.49498327759197325\n",
            "Количество деревьев 45 F1-score 0.5303514376996804\n",
            "Количество деревьев 45 F1-score 0.5419968304278923\n",
            "Количество деревьев 45 F1-score 0.5709876543209877\n",
            "Количество деревьев 45 F1-score 0.548780487804878\n",
            "Количество деревьев 45 F1-score 0.5548780487804879\n",
            "Количество деревьев 45 F1-score 0.555223880597015\n",
            "Количество деревьев 45 F1-score 0.5495495495495495\n",
            "Количество деревьев 45 F1-score 0.5319148936170214\n",
            "Количество деревьев 47 F1-score 0.08920187793427231\n",
            "Количество деревьев 47 F1-score 0.3757115749525617\n",
            "Количество деревьев 47 F1-score 0.4966442953020135\n",
            "Количество деревьев 47 F1-score 0.5271565495207667\n",
            "Количество деревьев 47 F1-score 0.5443037974683544\n",
            "Количество деревьев 47 F1-score 0.5656877897990726\n",
            "Количество деревьев 47 F1-score 0.5521472392638037\n",
            "Количество деревьев 47 F1-score 0.5443425076452599\n",
            "Количество деревьев 47 F1-score 0.545727136431784\n",
            "Количество деревьев 47 F1-score 0.5542168674698795\n",
            "Количество деревьев 47 F1-score 0.5303030303030304\n",
            "Количество деревьев 49 F1-score 0.08470588235294117\n",
            "Количество деревьев 49 F1-score 0.3970037453183521\n",
            "Количество деревьев 49 F1-score 0.4966442953020135\n",
            "Количество деревьев 49 F1-score 0.528846153846154\n",
            "Количество деревьев 49 F1-score 0.5396825396825398\n",
            "Количество деревьев 49 F1-score 0.5612403100775194\n",
            "Количество деревьев 49 F1-score 0.5493827160493827\n",
            "Количество деревьев 49 F1-score 0.5446153846153846\n",
            "Количество деревьев 49 F1-score 0.5479041916167664\n",
            "Количество деревьев 49 F1-score 0.5503759398496241\n",
            "Количество деревьев 49 F1-score 0.5303030303030304\n",
            "Количество деревьев 51 F1-score 0.08470588235294117\n",
            "Количество деревьев 51 F1-score 0.39171374764595107\n",
            "Количество деревьев 51 F1-score 0.494949494949495\n",
            "Количество деревьев 51 F1-score 0.528846153846154\n",
            "Количество деревьев 51 F1-score 0.5379746835443038\n",
            "Количество деревьев 51 F1-score 0.5608628659476117\n",
            "Количество деревьев 51 F1-score 0.5454545454545454\n",
            "Количество деревьев 51 F1-score 0.548238897396631\n",
            "Количество деревьев 51 F1-score 0.544360902255639\n",
            "Количество деревьев 51 F1-score 0.5468277945619335\n",
            "Количество деревьев 51 F1-score 0.5266362252663622\n",
            "Количество деревьев 53 F1-score 0.08470588235294117\n",
            "Количество деревьев 53 F1-score 0.400749063670412\n",
            "Количество деревьев 53 F1-score 0.49411764705882344\n",
            "Количество деревьев 53 F1-score 0.5258064516129032\n",
            "Количество деревьев 53 F1-score 0.532695374800638\n",
            "Количество деревьев 53 F1-score 0.5608628659476117\n",
            "Количество деревьев 53 F1-score 0.5423728813559323\n",
            "Количество деревьев 53 F1-score 0.5509893455098935\n",
            "Количество деревьев 53 F1-score 0.5369532428355959\n",
            "Количество деревьев 53 F1-score 0.5393939393939393\n",
            "Количество деревьев 53 F1-score 0.5266362252663622\n",
            "Количество деревьев 55 F1-score 0.08470588235294117\n",
            "Количество деревьев 55 F1-score 0.38941398865784504\n",
            "Количество деревьев 55 F1-score 0.4958123953098828\n",
            "Количество деревьев 55 F1-score 0.5186385737439222\n",
            "Количество деревьев 55 F1-score 0.532695374800638\n",
            "Количество деревьев 55 F1-score 0.5577812018489985\n",
            "Количество деревьев 55 F1-score 0.5538461538461538\n",
            "Количество деревьев 55 F1-score 0.5501519756838906\n",
            "Количество деревьев 55 F1-score 0.5435435435435435\n",
            "Количество деревьев 55 F1-score 0.5424242424242425\n",
            "Количество деревьев 55 F1-score 0.5304878048780487\n",
            "Количество деревьев 57 F1-score 0.08470588235294117\n",
            "Количество деревьев 57 F1-score 0.3908918406072106\n",
            "Количество деревьев 57 F1-score 0.4966442953020135\n",
            "Количество деревьев 57 F1-score 0.5266558966074314\n",
            "Количество деревьев 57 F1-score 0.532695374800638\n",
            "Количество деревьев 57 F1-score 0.562111801242236\n",
            "Количество деревьев 57 F1-score 0.5462962962962963\n",
            "Количество деревьев 57 F1-score 0.548780487804878\n",
            "Количество деревьев 57 F1-score 0.5375375375375374\n",
            "Количество деревьев 57 F1-score 0.5404580152671756\n",
            "Количество деревьев 57 F1-score 0.5296803652968036\n",
            "Количество деревьев 59 F1-score 0.08470588235294117\n",
            "Количество деревьев 59 F1-score 0.3824091778202677\n",
            "Количество деревьев 59 F1-score 0.4966442953020135\n",
            "Количество деревьев 59 F1-score 0.5194805194805195\n",
            "Количество деревьев 59 F1-score 0.5318471337579618\n",
            "Количество деревьев 59 F1-score 0.5598755832037324\n",
            "Количество деревьев 59 F1-score 0.5457364341085271\n",
            "Количество деревьев 59 F1-score 0.5418569254185693\n",
            "Количество деревьев 59 F1-score 0.5317220543806647\n",
            "Количество деревьев 59 F1-score 0.5382262996941896\n",
            "Количество деревьев 59 F1-score 0.5304878048780487\n",
            "Количество деревьев 61 F1-score 0.08470588235294117\n",
            "Количество деревьев 61 F1-score 0.3737957610789981\n",
            "Количество деревьев 61 F1-score 0.5\n",
            "Количество деревьев 61 F1-score 0.5258064516129032\n",
            "Количество деревьев 61 F1-score 0.5388272583201268\n",
            "Количество деревьев 61 F1-score 0.5539906103286384\n",
            "Количество деревьев 61 F1-score 0.5505443234836704\n",
            "Количество деревьев 61 F1-score 0.5435114503816795\n",
            "Количество деревьев 61 F1-score 0.532724505327245\n",
            "Количество деревьев 61 F1-score 0.5402124430955995\n",
            "Количество деревьев 61 F1-score 0.5379939209726443\n",
            "Количество деревьев 63 F1-score 0.08470588235294117\n",
            "Количество деревьев 63 F1-score 0.39468690702087295\n",
            "Количество деревьев 63 F1-score 0.49747899159663866\n",
            "Количество деревьев 63 F1-score 0.5329052969502407\n",
            "Количество деревьев 63 F1-score 0.5350318471337581\n",
            "Количество деревьев 63 F1-score 0.5525902668759812\n",
            "Количество деревьев 63 F1-score 0.5488372093023256\n",
            "Количество деревьев 63 F1-score 0.5535168195718654\n",
            "Количество деревьев 63 F1-score 0.5347432024169183\n",
            "Количество деревьев 63 F1-score 0.5369532428355959\n",
            "Количество деревьев 63 F1-score 0.5321100917431192\n",
            "Количество деревьев 65 F1-score 0.08470588235294117\n",
            "Количество деревьев 65 F1-score 0.3824091778202677\n",
            "Количество деревьев 65 F1-score 0.49747899159663866\n",
            "Количество деревьев 65 F1-score 0.5281803542673108\n",
            "Количество деревьев 65 F1-score 0.5358851674641149\n",
            "Количество деревьев 65 F1-score 0.5545171339563864\n",
            "Количество деревьев 65 F1-score 0.5502318392581145\n",
            "Количество деревьев 65 F1-score 0.5535168195718654\n",
            "Количество деревьев 65 F1-score 0.5369532428355959\n",
            "Количество деревьев 65 F1-score 0.5460030165912518\n",
            "Количество деревьев 65 F1-score 0.5359877488514548\n",
            "Количество деревьев 67 F1-score 0.08470588235294117\n",
            "Количество деревьев 67 F1-score 0.39468690702087295\n",
            "Количество деревьев 67 F1-score 0.49747899159663866\n",
            "Количество деревьев 67 F1-score 0.5312\n",
            "Количество деревьев 67 F1-score 0.5365079365079366\n",
            "Количество деревьев 67 F1-score 0.558139534883721\n",
            "Количество деревьев 67 F1-score 0.551617873651772\n",
            "Количество деревьев 67 F1-score 0.5613496932515337\n",
            "Количество деревьев 67 F1-score 0.542168674698795\n",
            "Количество деревьев 67 F1-score 0.5377643504531722\n",
            "Количество деревьев 67 F1-score 0.5365853658536586\n",
            "Количество деревьев 69 F1-score 0.08920187793427231\n",
            "Количество деревьев 69 F1-score 0.3893129770992367\n",
            "Количество деревьев 69 F1-score 0.4932432432432432\n",
            "Количество деревьев 69 F1-score 0.528\n",
            "Количество деревьев 69 F1-score 0.5339652448657188\n",
            "Количество деревьев 69 F1-score 0.5545171339563864\n",
            "Количество деревьев 69 F1-score 0.5479876160990712\n",
            "Количество деревьев 69 F1-score 0.5587786259541985\n",
            "Количество деревьев 69 F1-score 0.5393939393939393\n",
            "Количество деревьев 69 F1-score 0.5416036308623298\n",
            "Количество деревьев 69 F1-score 0.5371775417298937\n",
            "Количество деревьев 71 F1-score 0.09367681498829039\n",
            "Количество деревьев 71 F1-score 0.3923809523809524\n",
            "Количество деревьев 71 F1-score 0.49747899159663866\n",
            "Количество деревьев 71 F1-score 0.5335463258785943\n",
            "Количество деревьев 71 F1-score 0.5348101265822784\n",
            "Количество деревьев 71 F1-score 0.5612403100775194\n",
            "Количество деревьев 71 F1-score 0.5476923076923077\n",
            "Количество деревьев 71 F1-score 0.5557251908396946\n",
            "Количество деревьев 71 F1-score 0.5396341463414634\n",
            "Количество деревьев 71 F1-score 0.5399698340874811\n",
            "Количество деревьев 71 F1-score 0.5363636363636364\n",
            "Количество деревьев 73 F1-score 0.09367681498829039\n",
            "Количество деревьев 73 F1-score 0.3954372623574145\n",
            "Количество деревьев 73 F1-score 0.5033333333333333\n",
            "Количество деревьев 73 F1-score 0.5352564102564104\n",
            "Количество деревьев 73 F1-score 0.537124802527646\n",
            "Количество деревьев 73 F1-score 0.558139534883721\n",
            "Количество деревьев 73 F1-score 0.5538461538461538\n",
            "Количество деревьев 73 F1-score 0.5601217656012176\n",
            "Количество деревьев 73 F1-score 0.5312977099236641\n",
            "Количество деревьев 73 F1-score 0.5438066465256798\n",
            "Количество деревьев 73 F1-score 0.5407854984894259\n",
            "Количество деревьев 75 F1-score 0.09367681498829039\n",
            "Количество деревьев 75 F1-score 0.3984819734345352\n",
            "Количество деревьев 75 F1-score 0.5041736227045076\n",
            "Количество деревьев 75 F1-score 0.536115569823435\n",
            "Количество деревьев 75 F1-score 0.5379746835443038\n",
            "Количество деревьев 75 F1-score 0.5590062111801243\n",
            "Количество деревьев 75 F1-score 0.5485362095531587\n",
            "Количество деревьев 75 F1-score 0.5614567526555387\n",
            "Количество деревьев 75 F1-score 0.5349544072948328\n",
            "Количество деревьев 75 F1-score 0.5438066465256798\n",
            "Количество деревьев 75 F1-score 0.5371775417298937\n",
            "Количество деревьев 77 F1-score 0.09367681498829039\n",
            "Количество деревьев 77 F1-score 0.4067796610169492\n",
            "Количество деревьев 77 F1-score 0.504983388704319\n",
            "Количество деревьев 77 F1-score 0.5337620578778135\n",
            "Количество деревьев 77 F1-score 0.5385826771653545\n",
            "Количество деревьев 77 F1-score 0.5598755832037324\n",
            "Количество деревьев 77 F1-score 0.5460122699386504\n",
            "Количество деревьев 77 F1-score 0.5548780487804879\n",
            "Количество деревьев 77 F1-score 0.5393939393939393\n",
            "Количество деревьев 77 F1-score 0.5460030165912518\n",
            "Количество деревьев 77 F1-score 0.5424242424242425\n",
            "Количество деревьев 79 F1-score 0.09367681498829039\n",
            "Количество деревьев 79 F1-score 0.4067796610169492\n",
            "Количество деревьев 79 F1-score 0.5132450331125827\n",
            "Количество деревьев 79 F1-score 0.532051282051282\n",
            "Количество деревьев 79 F1-score 0.5379746835443038\n",
            "Количество деревьев 79 F1-score 0.557632398753894\n",
            "Количество деревьев 79 F1-score 0.5446153846153846\n",
            "Количество деревьев 79 F1-score 0.5535168195718654\n",
            "Количество деревьев 79 F1-score 0.5363636363636364\n",
            "Количество деревьев 79 F1-score 0.5460030165912518\n",
            "Количество деревьев 79 F1-score 0.5454545454545454\n",
            "Количество деревьев 81 F1-score 0.08920187793427231\n",
            "Количество деревьев 81 F1-score 0.420856610800745\n",
            "Количество деревьев 81 F1-score 0.5091514143094842\n",
            "Количество деревьев 81 F1-score 0.532695374800638\n",
            "Количество деревьев 81 F1-score 0.5379746835443038\n",
            "Количество деревьев 81 F1-score 0.5590062111801243\n",
            "Количество деревьев 81 F1-score 0.5468509984639017\n",
            "Количество деревьев 81 F1-score 0.5579268292682927\n",
            "Количество деревьев 81 F1-score 0.5377643504531722\n",
            "Количество деревьев 81 F1-score 0.5468277945619335\n",
            "Количество деревьев 81 F1-score 0.5449010654490105\n",
            "Количество деревьев 83 F1-score 0.08470588235294117\n",
            "Количество деревьев 83 F1-score 0.425925925925926\n",
            "Количество деревьев 83 F1-score 0.51\n",
            "Количество деревьев 83 F1-score 0.529505582137161\n",
            "Количество деревьев 83 F1-score 0.5402843601895734\n",
            "Количество деревьев 83 F1-score 0.5590062111801243\n",
            "Количество деревьев 83 F1-score 0.5499231950844854\n",
            "Количество деревьев 83 F1-score 0.5614567526555387\n",
            "Количество деревьев 83 F1-score 0.5393939393939393\n",
            "Количество деревьев 83 F1-score 0.5484848484848485\n",
            "Количество деревьев 83 F1-score 0.5432473444613051\n",
            "Количество деревьев 85 F1-score 0.08470588235294117\n",
            "Количество деревьев 85 F1-score 0.4230055658627087\n",
            "Количество деревьев 85 F1-score 0.5041736227045076\n",
            "Количество деревьев 85 F1-score 0.5318471337579618\n",
            "Количество деревьев 85 F1-score 0.5394321766561514\n",
            "Количество деревьев 85 F1-score 0.5629860031104199\n",
            "Количество деревьев 85 F1-score 0.5485362095531587\n",
            "Количество деревьев 85 F1-score 0.5570776255707762\n",
            "Количество деревьев 85 F1-score 0.5399698340874811\n",
            "Количество деревьев 85 F1-score 0.5515151515151515\n",
            "Количество деревьев 85 F1-score 0.5440729483282675\n",
            "Количество деревьев 87 F1-score 0.08470588235294117\n",
            "Количество деревьев 87 F1-score 0.430939226519337\n",
            "Количество деревьев 87 F1-score 0.5091514143094842\n",
            "Количество деревьев 87 F1-score 0.528\n",
            "Количество деревьев 87 F1-score 0.5402843601895734\n",
            "Количество деревьев 87 F1-score 0.5643410852713178\n",
            "Количество деревьев 87 F1-score 0.5507692307692308\n",
            "Количество деревьев 87 F1-score 0.5565749235474007\n",
            "Количество деревьев 87 F1-score 0.5355521936459909\n",
            "Количество деревьев 87 F1-score 0.5484848484848485\n",
            "Количество деревьев 87 F1-score 0.547945205479452\n",
            "Количество деревьев 89 F1-score 0.08470588235294117\n",
            "Количество деревьев 89 F1-score 0.4432234432234433\n",
            "Количество деревьев 89 F1-score 0.5058626465661641\n",
            "Количество деревьев 89 F1-score 0.5271565495207667\n",
            "Количество деревьев 89 F1-score 0.537124802527646\n",
            "Количество деревьев 89 F1-score 0.562111801242236\n",
            "Количество деревьев 89 F1-score 0.5499231950844854\n",
            "Количество деревьев 89 F1-score 0.554364471669219\n",
            "Количество деревьев 89 F1-score 0.532724505327245\n",
            "Количество деревьев 89 F1-score 0.5484848484848485\n",
            "Количество деревьев 89 F1-score 0.5421133231240428\n",
            "Количество деревьев 91 F1-score 0.08470588235294117\n",
            "Количество деревьев 91 F1-score 0.4403669724770642\n",
            "Количество деревьев 91 F1-score 0.5058626465661641\n",
            "Количество деревьев 91 F1-score 0.528846153846154\n",
            "Количество деревьев 91 F1-score 0.5394321766561514\n",
            "Количество деревьев 91 F1-score 0.5612403100775194\n",
            "Количество деревьев 91 F1-score 0.5521472392638037\n",
            "Количество деревьев 91 F1-score 0.560490045941807\n",
            "Количество деревьев 91 F1-score 0.5371775417298937\n",
            "Количество деревьев 91 F1-score 0.5465648854961832\n",
            "Количество деревьев 91 F1-score 0.5496183206106869\n",
            "Количество деревьев 93 F1-score 0.08470588235294117\n",
            "Количество деревьев 93 F1-score 0.4267161410018553\n",
            "Количество деревьев 93 F1-score 0.5008403361344538\n",
            "Количество деревьев 93 F1-score 0.5256410256410257\n",
            "Количество деревьев 93 F1-score 0.537124802527646\n",
            "Количество деревьев 93 F1-score 0.5590062111801243\n",
            "Количество деревьев 93 F1-score 0.5552147239263804\n",
            "Количество деревьев 93 F1-score 0.5596330275229358\n",
            "Количество деревьев 93 F1-score 0.5355521936459909\n",
            "Количество деревьев 93 F1-score 0.548780487804878\n",
            "Количество деревьев 93 F1-score 0.5465648854961832\n",
            "Количество деревьев 95 F1-score 0.08470588235294117\n",
            "Количество деревьев 95 F1-score 0.4090056285178236\n",
            "Количество деревьев 95 F1-score 0.5016835016835015\n",
            "Количество деревьев 95 F1-score 0.5256410256410257\n",
            "Количество деревьев 95 F1-score 0.5402843601895734\n",
            "Количество деревьев 95 F1-score 0.56656346749226\n",
            "Количество деревьев 95 F1-score 0.544891640866873\n",
            "Количество деревьев 95 F1-score 0.5618320610687023\n",
            "Количество деревьев 95 F1-score 0.5416036308623298\n",
            "Количество деревьев 95 F1-score 0.5449010654490105\n",
            "Количество деревьев 95 F1-score 0.5398773006134969\n",
            "Количество деревьев 97 F1-score 0.08470588235294117\n",
            "Количество деревьев 97 F1-score 0.4030131826741996\n",
            "Количество деревьев 97 F1-score 0.5025125628140704\n",
            "Количество деревьев 97 F1-score 0.5248\n",
            "Количество деревьев 97 F1-score 0.5434439178515008\n",
            "Количество деревьев 97 F1-score 0.5608628659476117\n",
            "Количество деревьев 97 F1-score 0.5507692307692308\n",
            "Количество деревьев 97 F1-score 0.5609756097560975\n",
            "Количество деревьев 97 F1-score 0.5407854984894259\n",
            "Количество деревьев 97 F1-score 0.547112462006079\n",
            "Количество деревьев 97 F1-score 0.5418569254185693\n",
            "Количество деревьев 99 F1-score 0.08470588235294117\n",
            "Количество деревьев 99 F1-score 0.41635687732342014\n",
            "Количество деревьев 99 F1-score 0.4991624790619765\n",
            "Количество деревьев 99 F1-score 0.5256410256410257\n",
            "Количество деревьев 99 F1-score 0.5425867507886435\n",
            "Количество деревьев 99 F1-score 0.5639445300462249\n",
            "Количество деревьев 99 F1-score 0.5507692307692308\n",
            "Количество деревьев 99 F1-score 0.5609756097560975\n",
            "Количество деревьев 99 F1-score 0.5451807228915663\n",
            "Количество деревьев 99 F1-score 0.5515151515151515\n",
            "Количество деревьев 99 F1-score 0.5435114503816795\n",
            "Лучшее количество деревьев 35 Лучшая F1-score 0.5718654434250764 Выcота 14\n",
            "CPU times: user 2min 50s, sys: 1.48 s, total: 2min 52s\n",
            "Wall time: 2min 53s\n"
          ]
        }
      ],
      "source": [
        "%%time\n",
        "\n",
        "best_est = 0\n",
        "best_F1_score= 0\n",
        "best_depth_rf=0\n",
        "\n",
        "\n",
        "for est in range(1, 100,2):\n",
        "    for depth in range(2, 23, 2):\n",
        "    \n",
        "        model = RandomForestClassifier(random_state=RANDOM_STATE, n_estimators=est,max_depth = depth)\n",
        "        model.fit(features_train_scaled,target_train)\n",
        "        predicted_valid = model.predict(features_valid_scaled) \n",
        "        F1_score = f1_score(target_valid, predicted_valid)\n",
        "        print('Количество деревьев', est,'F1-score', F1_score)\n",
        "        if  F1_score > best_F1_score:\n",
        "            best_F1_score=F1_score\n",
        "            best_est = est\n",
        "            best_depth_rf = depth\n",
        "print('Лучшее количество деревьев', best_est,'Лучшая F1-score', best_F1_score,'Выcота',best_depth_rf)\n"
      ]
    },
    {
      "cell_type": "markdown",
      "metadata": {
        "id": "KeX3yYypbbSd"
      },
      "source": [
        "<div class=\"alert alert-info\", style=\"border:solid dark-blue 3px; padding: 20px\">\n",
        "<font size=\"4\", color = \"Light-Blue\"><b>🎯 Комментарий </b></font>\n",
        "    <br /> \n",
        "    <font size=\"3\", color = \"black\">\n",
        "<br />  \n",
        "У случайного леса :Лучшее количество деревьев 99 Лучшая F1-score 0.6027397260273973 Выcота 14\n",
        "        "
      ]
    },
    {
      "cell_type": "markdown",
      "metadata": {
        "id": "dv6YOUdybbSd"
      },
      "source": [
        "<div class=\"alert alert-info\", style=\"border:solid dark-blue 3px; padding: 20px\">\n",
        "<font size=\"4\", color = \"Light-Blue\"><b>🎯 Комментарий c новым масштабированием  </b></font>\n",
        "    <br /> \n",
        "    <font size=\"3\", color = \"black\">\n",
        "<br />  \n",
        "Лучшее количество деревьев 35 Лучшая F1-score 0.5718654434250764 Выcота 14"
      ]
    },
    {
      "cell_type": "code",
      "execution_count": null,
      "metadata": {
        "id": "fQ9VUGQ6bbSe",
        "outputId": "6284166a-e413-482e-bb8f-a273102c4999"
      },
      "outputs": [
        {
          "name": "stdout",
          "output_type": "stream",
          "text": [
            "F1 0.3345323741007194\n",
            "CPU times: user 46.5 ms, sys: 55.8 ms, total: 102 ms\n",
            "Wall time: 77.7 ms\n"
          ]
        }
      ],
      "source": [
        "%%time\n",
        "\n",
        "model =  LogisticRegression(random_state=RANDOM_STATE, solver='liblinear')\n",
        "model.fit(features_train_scaled, target_train)\n",
        "predicted_valid = model.predict(features_valid_scaled)\n",
        "print('F1', f1_score(target_valid, predicted_valid))"
      ]
    },
    {
      "cell_type": "markdown",
      "metadata": {
        "id": "r7U7UbrjbbSf"
      },
      "source": [
        "<div class=\"alert alert-info\", style=\"border:solid dark-blue 3px; padding: 20px\">\n",
        "<font size=\"4\", color = \"Light-Blue\"><b>🎯 Комментарий </b></font>\n",
        "    <br /> \n",
        "    <font size=\"3\", color = \"black\">\n",
        "<br />  \n",
        "Результаты довольно низкие. Возможно precision или recall низкий и близок к 0."
      ]
    },
    {
      "cell_type": "code",
      "execution_count": null,
      "metadata": {
        "id": "yyyRhn-fbbSf",
        "outputId": "d8dd5ca7-aeab-499e-856d-1dd9672130da"
      },
      "outputs": [
        {
          "name": "stdout",
          "output_type": "stream",
          "text": [
            "Решающее дерево\n",
            "Точность попадания по классам 0.846\n",
            "Precision 0.6972111553784861\n",
            "Recall 0.42997542997543\n",
            "F1 0.5319148936170214\n",
            "\n",
            "Случайный лес\n",
            "Точность попадания по классам 0.854\n",
            "Precision 0.7366255144032922\n",
            "Recall 0.4398034398034398\n",
            "F1 0.5507692307692308\n",
            "\n",
            "Логистическая регрессия\n",
            "Точность попадания по классам 0.815\n",
            "Precision 0.6241610738255033\n",
            "Recall 0.2285012285012285\n",
            "F1 0.3345323741007194\n",
            "CPU times: user 834 ms, sys: 79.7 ms, total: 914 ms\n",
            "Wall time: 888 ms\n"
          ]
        }
      ],
      "source": [
        "%%time\n",
        "\n",
        "model = DecisionTreeClassifier(random_state=RANDOM_STATE , max_depth=7)\n",
        "model.fit(features_train_scaled, target_train)\n",
        "predicted_valid = model.predict(features_valid_scaled)\n",
        "print('Решающее дерево')\n",
        "print('Точность попадания по классам', accuracy_score(target_valid, predicted_valid))\n",
        "print('Precision', precision_score(target_valid, predicted_valid))\n",
        "print('Recall', recall_score(target_valid, predicted_valid))\n",
        "print('F1', f1_score(target_valid, predicted_valid))\n",
        "print()\n",
        "\n",
        "model = RandomForestClassifier(random_state=RANDOM_STATE, n_estimators=99,max_depth = 14)\n",
        "model.fit(features_train_scaled, target_train)\n",
        "predicted_valid = model.predict(features_valid_scaled)\n",
        "print('Случайный лес')\n",
        "print('Точность попадания по классам', accuracy_score(target_valid, predicted_valid))\n",
        "print('Precision', precision_score(target_valid, predicted_valid))\n",
        "print('Recall', recall_score(target_valid, predicted_valid))\n",
        "print('F1', f1_score(target_valid, predicted_valid))\n",
        "print()\n",
        "\n",
        "model = LogisticRegression(random_state=RANDOM_STATE, solver='liblinear')\n",
        "model.fit(features_train_scaled, target_train)\n",
        "predicted_valid = model.predict(features_valid_scaled)\n",
        "print('Логистическая регрессия')\n",
        "print('Точность попадания по классам', accuracy_score(target_valid, predicted_valid))\n",
        "print('Precision', precision_score(target_valid, predicted_valid))\n",
        "print('Recall', recall_score(target_valid, predicted_valid))\n",
        "print('F1', f1_score(target_valid, predicted_valid))"
      ]
    },
    {
      "cell_type": "code",
      "execution_count": null,
      "metadata": {
        "id": "cbSsi3RNbbSf",
        "outputId": "f9d5b79c-70a4-45df-f085-b3d09f42ae0a"
      },
      "outputs": [
        {
          "name": "stdout",
          "output_type": "stream",
          "text": [
            "AUC-ROC DecisionTreeClassifier 0.804477821426974\n",
            "AUC-ROC RandomForestClassifier 0.8401321197931368\n",
            "AUC-ROC LogisticRegression 0.755308467172874\n"
          ]
        },
        {
          "data": {
            "image/png": "[encoded data removed]",
            "text/plain": [
              "<Figure size 864x648 with 1 Axes>"
            ]
          },
          "metadata": {
            "needs_background": "light"
          },
          "output_type": "display_data"
        }
      ],
      "source": [
        "plt.figure(figsize=[12,9])\n",
        "\n",
        "plt.plot([0, 1], [0, 1], linestyle='--', label='RandomModel')\n",
        "\n",
        "\n",
        "\n",
        "model = DecisionTreeClassifier(random_state=RANDOM_STATE, max_depth=7)\n",
        "model.fit(features_train_scaled, target_train)\n",
        "predicted_valid = model.predict_proba(features_valid_scaled)\n",
        "probabilities_one_valid = predicted_valid[:, 1]\n",
        "fpr, tpr, thresholds = roc_curve(target_valid, probabilities_one_valid)\n",
        "auc_roc = roc_auc_score(target_valid, probabilities_one_valid)\n",
        "print('AUC-ROC DecisionTreeClassifier',auc_roc)\n",
        "plt.plot(fpr, tpr, label='DecisionTreeClassifier')\n",
        "\n",
        "model = RandomForestClassifier(random_state=RANDOM_STATE, n_estimators=99,max_depth = 14)\n",
        "model.fit(features_train_scaled, target_train)\n",
        "predicted_valid = model.predict_proba(features_valid_scaled)\n",
        "probabilities_one_valid = predicted_valid[:, 1]\n",
        "fpr, tpr, thresholds = roc_curve(target_valid, probabilities_one_valid)\n",
        "auc_roc = roc_auc_score(target_valid, probabilities_one_valid)\n",
        "print('AUC-ROC RandomForestClassifier',auc_roc)\n",
        "plt.plot(fpr, tpr, label='RandomForestClassifier')\n",
        "\n",
        "model = LogisticRegression(random_state=RANDOM_STATE, solver='liblinear')\n",
        "model.fit(features_train_scaled, target_train)\n",
        "probabilities_valid = model.predict_proba(features_valid_scaled)\n",
        "probabilities_one_valid = probabilities_valid[:, 1]\n",
        "fpr, tpr, thresholds = roc_curve(target_valid, probabilities_one_valid)\n",
        "auc_roc = roc_auc_score(target_valid, probabilities_one_valid)\n",
        "print('AUC-ROC LogisticRegression',auc_roc)\n",
        "plt.plot(fpr, tpr, label='LogisticRegression')\n",
        "\n",
        "plt.xlim([0,1])\n",
        "plt.ylim([0,1])\n",
        "\n",
        "plt.xlabel(\"False Positive Rate\")\n",
        "plt.ylabel(\"True Positive Rate\")\n",
        "\n",
        "plt.legend(loc='lower right', fontsize='x-large')\n",
        "\n",
        "plt.title(\"ROC-кривая\")\n",
        "plt.show()"
      ]
    },
    {
      "cell_type": "markdown",
      "metadata": {
        "id": "fnjahZAFbbSf"
      },
      "source": [
        "<div class=\"alert alert-info\", style=\"border:solid dark-blue 3px; padding: 20px\">\n",
        "<font size=\"4\", color = \"Light-Blue\"><b>🎯 Комментарий </b></font>\n",
        "    <br /> \n",
        "    <font size=\"3\", color = \"black\">\n",
        "<br />  \n",
        "По графику видно, что метрика AUC-ROC выше у случайного леса"
      ]
    },
    {
      "cell_type": "markdown",
      "metadata": {
        "id": "SsNy4sXmbbSg"
      },
      "source": [
        "## Борьба с дисбалансом"
      ]
    },
    {
      "cell_type": "code",
      "execution_count": null,
      "metadata": {
        "id": "faOd_y_ybbSg",
        "outputId": "a67816de-4863-4013-98b7-21a1e1fd31c6"
      },
      "outputs": [
        {
          "name": "stdout",
          "output_type": "stream",
          "text": [
            "Решающее дерево\n",
            "Точность попадания по классам 0.7155\n",
            "Precision 0.3953488372093023\n",
            "Recall 0.7518427518427518\n",
            "F1 0.5182049110922946\n",
            "AUC-ROC 0.7932855814211747\n",
            "\n",
            "Случайный лес\n",
            "Точность попадания по классам 0.8415\n",
            "Precision 0.65\n",
            "Recall 0.47911547911547914\n",
            "F1 0.5516265912305516\n",
            "AUC-ROC 0.833901698308478\n",
            "\n",
            "Логистическая регрессия\n",
            "Точность попадания по классам 0.696\n",
            "Precision 0.36473755047106327\n",
            "Recall 0.6658476658476659\n",
            "F1 0.471304347826087\n",
            "AUC-ROC 0.7610275915360661\n"
          ]
        }
      ],
      "source": [
        "#Изучим возможности моделей по взвешиванию классов.\n",
        "\n",
        "\n",
        "\n",
        "\n",
        "model = DecisionTreeClassifier(random_state=RANDOM_STATE, max_depth=7,class_weight='balanced')\n",
        "model.fit(features_train_scaled, target_train)\n",
        "predicted_valid = model.predict(features_valid_scaled)\n",
        "predicted_valid_auc = model.predict_proba(features_valid_scaled)\n",
        "probabilities_one_valid = predicted_valid_auc [:, 1]\n",
        "auc_roc = roc_auc_score(target_valid, probabilities_one_valid)\n",
        "print('Решающее дерево')\n",
        "print('Точность попадания по классам', accuracy_score(target_valid, predicted_valid))\n",
        "print('Precision', precision_score(target_valid, predicted_valid))\n",
        "print('Recall', recall_score(target_valid, predicted_valid))\n",
        "print('F1', f1_score(target_valid, predicted_valid))\n",
        "print('AUC-ROC', auc_roc)\n",
        "print()\n",
        "\n",
        "model = RandomForestClassifier(random_state=RANDOM_STATE, n_estimators=99,max_depth = 14,class_weight='balanced')\n",
        "model.fit(features_train_scaled, target_train)\n",
        "predicted_valid = model.predict(features_valid_scaled)\n",
        "predicted_valid_auc = model.predict_proba(features_valid_scaled)\n",
        "probabilities_one_valid = predicted_valid_auc [:, 1]\n",
        "auc_roc = roc_auc_score(target_valid, probabilities_one_valid)\n",
        "print('Случайный лес')\n",
        "print('Точность попадания по классам', accuracy_score(target_valid, predicted_valid))\n",
        "print('Precision', precision_score(target_valid, predicted_valid))\n",
        "print('Recall', recall_score(target_valid, predicted_valid))\n",
        "print('F1', f1_score(target_valid, predicted_valid))\n",
        "print('AUC-ROC', auc_roc)\n",
        "print()\n",
        "\n",
        "model = LogisticRegression(random_state=RANDOM_STATE, solver='liblinear',class_weight='balanced')\n",
        "model.fit(features_train_scaled, target_train)\n",
        "predicted_valid = model.predict(features_valid_scaled)\n",
        "predicted_valid_auc = model.predict_proba(features_valid_scaled)\n",
        "probabilities_one_valid = predicted_valid_auc [:, 1]\n",
        "auc_roc = roc_auc_score(target_valid, probabilities_one_valid)\n",
        "print('Логистическая регрессия')\n",
        "print('Точность попадания по классам', accuracy_score(target_valid, predicted_valid))\n",
        "print('Precision', precision_score(target_valid, predicted_valid))\n",
        "print('Recall', recall_score(target_valid, predicted_valid))\n",
        "print('F1', f1_score(target_valid, predicted_valid))\n",
        "print('AUC-ROC', auc_roc)"
      ]
    },
    {
      "cell_type": "markdown",
      "metadata": {
        "id": "1VzxwziBbbSh"
      },
      "source": [
        "<div class=\"alert alert-info\", style=\"border:solid dark-blue 3px; padding: 20px\">\n",
        "<font size=\"4\", color = \"Light-Blue\"><b>🎯 Комментарий </b></font>\n",
        "    <br /> \n",
        "    <font size=\"3\", color = \"black\">\n",
        "<br />  \n",
        "Метрика F1  упала незначительно у решающего дерева и у случайного леса.Но возрасла логистической регресии"
      ]
    },
    {
      "cell_type": "code",
      "execution_count": null,
      "metadata": {
        "id": "OTyVHFwAbbSh",
        "outputId": "5674f67a-d488-47ac-aeac-5b7bfdfd264c"
      },
      "outputs": [
        {
          "name": "stdout",
          "output_type": "stream",
          "text": [
            "1    4888\n",
            "0    4778\n",
            "Name: exited, dtype: int64\n"
          ]
        }
      ],
      "source": [
        "#Увеличение выборки\n",
        "def upsample(features, target, repeat):\n",
        "    features_zeros = features[target == 0]\n",
        "    features_ones = features[target == 1]\n",
        "    target_zeros = target[target == 0]\n",
        "    target_ones = target[target == 1]\n",
        "\n",
        "    features_upsampled = pd.concat([features_zeros] + [features_ones] * repeat)\n",
        "    target_upsampled = pd.concat([target_zeros] + [target_ones] * repeat)\n",
        "    \n",
        "    features_upsampled, target_upsampled = shuffle(\n",
        "        features_upsampled, target_upsampled, random_state=12345)\n",
        "    \n",
        "    return features_upsampled, target_upsampled\n",
        "\n",
        "features_upsampled, target_upsampled = upsample(features_train, target_train, 4)\n",
        "\n",
        "print(target_upsampled.value_counts())"
      ]
    },
    {
      "cell_type": "code",
      "execution_count": null,
      "metadata": {
        "id": "oxMxmI-_bbSi",
        "outputId": "f19f747d-c01a-4304-9991-2425307d4c4d"
      },
      "outputs": [
        {
          "name": "stdout",
          "output_type": "stream",
          "text": [
            "Решающее дерево\n",
            "Точность попадания по классам 0.716\n",
            "Precision 0.3961290322580645\n",
            "Recall 0.7542997542997543\n",
            "F1 0.5194585448392555\n",
            "AUC-ROC 0.4826883894680505\n",
            "\n",
            "Случайный лес\n",
            "Точность попадания по классам 0.835\n",
            "Precision 0.5955334987593052\n",
            "Recall 0.5896805896805897\n",
            "F1 0.5925925925925927\n",
            "AUC-ROC 0.4432529602021127\n",
            "\n",
            "Логистическая регрессия\n",
            "Точность попадания по классам 0.651\n",
            "Precision 0.3265792610250298\n",
            "Recall 0.6732186732186732\n",
            "F1 0.43980738362760835\n",
            "AUC-ROC 0.7558051117373152\n",
            "CPU times: user 1.19 s, sys: 60.1 ms, total: 1.25 s\n",
            "Wall time: 1.27 s\n"
          ]
        }
      ],
      "source": [
        "%%time\n",
        "\n",
        "\n",
        "model = DecisionTreeClassifier(random_state=RANDOM_STATE, max_depth=7)\n",
        "model.fit(features_upsampled, target_upsampled)\n",
        "predicted_valid = model.predict(features_valid)\n",
        "predicted_valid_auc = model.predict_proba(features_valid_scaled)\n",
        "probabilities_one_valid = predicted_valid_auc [:, 1]\n",
        "auc_roc = roc_auc_score(target_valid, probabilities_one_valid)\n",
        "print('Решающее дерево')\n",
        "print('Точность попадания по классам', accuracy_score(target_valid, predicted_valid))\n",
        "print('Precision', precision_score(target_valid, predicted_valid))\n",
        "print('Recall', recall_score(target_valid, predicted_valid))\n",
        "print('F1', f1_score(target_valid, predicted_valid))\n",
        "print('AUC-ROC', auc_roc)\n",
        "print()\n",
        "\n",
        "model = RandomForestClassifier(random_state=RANDOM_STATE, n_estimators=99,max_depth = 14)\n",
        "model.fit(features_upsampled, target_upsampled)\n",
        "predicted_valid = model.predict(features_valid)\n",
        "predicted_valid_auc = model.predict_proba(features_valid_scaled)\n",
        "probabilities_one_valid = predicted_valid_auc [:, 1]\n",
        "auc_roc = roc_auc_score(target_valid, probabilities_one_valid)\n",
        "print('Случайный лес')\n",
        "print('Точность попадания по классам', accuracy_score(target_valid, predicted_valid))\n",
        "print('Precision', precision_score(target_valid, predicted_valid))\n",
        "print('Recall', recall_score(target_valid, predicted_valid))\n",
        "print('F1', f1_score(target_valid, predicted_valid))\n",
        "print('AUC-ROC', auc_roc)\n",
        "print()\n",
        "\n",
        "model = LogisticRegression(random_state=RANDOM_STATE, solver='liblinear')\n",
        "model.fit(features_upsampled, target_upsampled)\n",
        "predicted_valid = model.predict(features_valid)\n",
        "predicted_valid_auc = model.predict_proba(features_valid_scaled)\n",
        "probabilities_one_valid = predicted_valid_auc [:, 1]\n",
        "auc_roc = roc_auc_score(target_valid, probabilities_one_valid)\n",
        "print('Логистическая регрессия')\n",
        "print('Точность попадания по классам', accuracy_score(target_valid, predicted_valid))\n",
        "print('Precision', precision_score(target_valid, predicted_valid))\n",
        "print('Recall', recall_score(target_valid, predicted_valid))\n",
        "print('F1', f1_score(target_valid, predicted_valid))\n",
        "print('AUC-ROC', auc_roc)"
      ]
    },
    {
      "cell_type": "markdown",
      "metadata": {
        "id": "jWusdCvzbbSj"
      },
      "source": [
        "<div class=\"alert alert-info\", style=\"border:solid dark-blue 3px; padding: 20px\">\n",
        "<font size=\"4\", color = \"Light-Blue\"><b>🎯 Комментарий </b></font>\n",
        "    <br /> \n",
        "    <font size=\"3\", color = \"black\">\n",
        "<br />  \n",
        "При увеличении выборки F1 тут же повысилась у случайного леса."
      ]
    },
    {
      "cell_type": "code",
      "execution_count": null,
      "metadata": {
        "id": "JqPVQvkRbbSj",
        "outputId": "d32705a6-f407-48cd-c246-74b6b4fa9ba0"
      },
      "outputs": [
        {
          "name": "stdout",
          "output_type": "stream",
          "text": [
            "1    1222\n",
            "0    1194\n",
            "Name: exited, dtype: int64\n"
          ]
        }
      ],
      "source": [
        "#Уменьшение выборки\n",
        "\n",
        "def downsample(features, target, fraction):\n",
        "    features_zeros = features[target == 0]\n",
        "    features_ones = features[target == 1]\n",
        "    target_zeros = target[target == 0]\n",
        "    target_ones = target[target == 1]\n",
        "\n",
        "    features_downsampled = pd.concat(\n",
        "        [features_zeros.sample(frac=fraction, random_state=20052020)] + [features_ones])\n",
        "    target_downsampled = pd.concat(\n",
        "        [target_zeros.sample(frac=fraction, random_state=20052020)] + [target_ones])\n",
        "    \n",
        "    features_downsampled, target_downsampled = shuffle(\n",
        "        features_downsampled, target_downsampled, random_state=RANDOM_STATE)\n",
        "    \n",
        "    return features_downsampled, target_downsampled\n",
        "\n",
        "features_downsampled, target_downsampled = downsample(features_train, target_train, 0.25)\n",
        "\n",
        "print(target_downsampled.value_counts())"
      ]
    },
    {
      "cell_type": "code",
      "execution_count": null,
      "metadata": {
        "id": "0j27i_ikbbSj",
        "outputId": "a0bc0d5b-90da-4e81-f057-a18c68a4f7cd"
      },
      "outputs": [
        {
          "name": "stdout",
          "output_type": "stream",
          "text": [
            "Решающее дерево\n",
            "Точность попадания по классам 0.737\n",
            "Precision 0.41838134430727025\n",
            "Recall 0.7493857493857494\n",
            "F1 0.5369718309859156\n",
            "AUC-ROC 0.46803968837867144\n",
            "\n",
            "Случайный лес\n",
            "Точность попадания по классам 0.7585\n",
            "Precision 0.4431137724550898\n",
            "Recall 0.7272727272727273\n",
            "F1 0.5506976744186047\n",
            "AUC-ROC 0.4928580352309166\n",
            "\n",
            "Логистическая регрессия\n",
            "Точность попадания по классам 0.6485\n",
            "Precision 0.32790697674418606\n",
            "Recall 0.6928746928746928\n",
            "F1 0.4451460142067877\n",
            "AUC-ROC 0.7618589313504568\n",
            "CPU times: user 517 ms, sys: 91.8 ms, total: 609 ms\n",
            "Wall time: 561 ms\n"
          ]
        }
      ],
      "source": [
        "%%time\n",
        "\n",
        "\n",
        "model = DecisionTreeClassifier(random_state=RANDOM_STATE, max_depth=7)\n",
        "model.fit(features_downsampled, target_downsampled )\n",
        "predicted_valid = model.predict(features_valid)\n",
        "predicted_valid_auc = model.predict_proba(features_valid_scaled)\n",
        "probabilities_one_valid = predicted_valid_auc [:, 1]\n",
        "auc_roc = roc_auc_score(target_valid, probabilities_one_valid)\n",
        "print('Решающее дерево')\n",
        "print('Точность попадания по классам', accuracy_score(target_valid, predicted_valid))\n",
        "print('Precision', precision_score(target_valid, predicted_valid))\n",
        "print('Recall', recall_score(target_valid, predicted_valid))\n",
        "print('F1', f1_score(target_valid, predicted_valid))\n",
        "print('AUC-ROC', auc_roc)\n",
        "print()\n",
        "\n",
        "model = RandomForestClassifier(random_state=RANDOM_STATE, n_estimators=99,max_depth = 14)\n",
        "model.fit(features_downsampled, target_downsampled )\n",
        "predicted_valid = model.predict(features_valid)\n",
        "predicted_valid_auc = model.predict_proba(features_valid_scaled)\n",
        "probabilities_one_valid = predicted_valid_auc [:, 1]\n",
        "auc_roc = roc_auc_score(target_valid, probabilities_one_valid)\n",
        "print('Случайный лес')\n",
        "print('Точность попадания по классам', accuracy_score(target_valid, predicted_valid))\n",
        "print('Precision', precision_score(target_valid, predicted_valid))\n",
        "print('Recall', recall_score(target_valid, predicted_valid))\n",
        "print('F1', f1_score(target_valid, predicted_valid))\n",
        "print('AUC-ROC', auc_roc)\n",
        "print()\n",
        "\n",
        "model = LogisticRegression(random_state=RANDOM_STATE, solver='liblinear')\n",
        "model.fit(features_downsampled, target_downsampled )\n",
        "predicted_valid = model.predict(features_valid)\n",
        "predicted_valid_auc = model.predict_proba(features_valid_scaled)\n",
        "probabilities_one_valid = predicted_valid_auc [:, 1]\n",
        "auc_roc = roc_auc_score(target_valid, probabilities_one_valid)\n",
        "print('Логистическая регрессия')\n",
        "print('Точность попадания по классам', accuracy_score(target_valid, predicted_valid))\n",
        "print('Precision', precision_score(target_valid, predicted_valid))\n",
        "print('Recall', recall_score(target_valid, predicted_valid))\n",
        "print('F1', f1_score(target_valid, predicted_valid))\n",
        "print('AUC-ROC', auc_roc)"
      ]
    },
    {
      "cell_type": "markdown",
      "metadata": {
        "id": "ct6CKogYbbSj"
      },
      "source": [
        "<div class=\"alert alert-info\", style=\"border:solid dark-blue 3px; padding: 20px\">\n",
        "<font size=\"4\", color = \"Light-Blue\"><b>🎯 Комментарий </b></font>\n",
        "    <br /> \n",
        "    <font size=\"3\", color = \"black\">\n",
        "<br />  \n",
        "При уменьшении выборки F1 упала "
      ]
    },
    {
      "cell_type": "code",
      "execution_count": null,
      "metadata": {
        "id": "ioggg5uBbbSj",
        "outputId": "fe54e6ea-39ea-4636-de47-1bc19469971e"
      },
      "outputs": [
        {
          "name": "stdout",
          "output_type": "stream",
          "text": [
            "AUC-ROC DecisionTreeClassifier 0.7954850073494142\n",
            "AUC-ROC RandomForestClassifier 0.8381270330422874\n",
            "AUC-ROC LogisticRegression 0.7127204245848313\n"
          ]
        },
        {
          "data": {
            "image/png": "[encoded data removed]",
            "text/plain": [
              "<Figure size 864x648 with 1 Axes>"
            ]
          },
          "metadata": {
            "needs_background": "light"
          },
          "output_type": "display_data"
        }
      ],
      "source": [
        "plt.figure(figsize=[12,9])\n",
        "\n",
        "plt.plot([0, 1], [0, 1], linestyle='--', label='RandomModel')\n",
        "\n",
        "\n",
        "model = DecisionTreeClassifier(random_state=RANDOM_STATE, max_depth=7)\n",
        "model.fit(features_upsampled, target_upsampled)\n",
        "predicted_valid = model.predict_proba(features_valid)\n",
        "probabilities_one_valid = predicted_valid[:, 1]\n",
        "fpr, tpr, thresholds = roc_curve(target_valid, probabilities_one_valid)\n",
        "auc_roc = roc_auc_score(target_valid, probabilities_one_valid)\n",
        "print('AUC-ROC DecisionTreeClassifier',auc_roc)\n",
        "plt.plot(fpr, tpr, label='DecisionTreeClassifier')\n",
        "\n",
        "model = RandomForestClassifier(random_state=RANDOM_STATE, n_estimators=99,max_depth = 14)\n",
        "model.fit(features_upsampled, target_upsampled)\n",
        "predicted_valid = model.predict_proba(features_valid)\n",
        "probabilities_one_valid = predicted_valid[:, 1]\n",
        "fpr, tpr, thresholds = roc_curve(target_valid, probabilities_one_valid)\n",
        "auc_roc = roc_auc_score(target_valid, probabilities_one_valid)\n",
        "print('AUC-ROC RandomForestClassifier',auc_roc)\n",
        "plt.plot(fpr, tpr, label='RandomForestClassifier')\n",
        "\n",
        "model = LogisticRegression(random_state=RANDOM_STATE, solver='liblinear')\n",
        "model.fit(features_upsampled, target_upsampled)\n",
        "probabilities_valid = model.predict_proba(features_valid)\n",
        "probabilities_one_valid = probabilities_valid[:, 1]\n",
        "fpr, tpr, thresholds = roc_curve(target_valid, probabilities_one_valid)\n",
        "auc_roc = roc_auc_score(target_valid, probabilities_one_valid)\n",
        "print('AUC-ROC LogisticRegression',auc_roc)\n",
        "plt.plot(fpr, tpr, label='LogisticRegression')\n",
        "\n",
        "plt.xlim([0,1])\n",
        "plt.ylim([0,1])\n",
        "\n",
        "plt.xlabel(\"False Positive Rate\")\n",
        "plt.ylabel(\"True Positive Rate\")\n",
        "\n",
        "plt.legend(loc='lower right', fontsize='x-large')\n",
        "\n",
        "plt.title(\"ROC-кривая\")\n",
        "plt.show()"
      ]
    },
    {
      "cell_type": "markdown",
      "metadata": {
        "id": "aDCFrRUVbbSk"
      },
      "source": [
        "<div class=\"alert alert-info\", style=\"border:solid dark-blue 3px; padding: 20px\">\n",
        "<font size=\"4\", color = \"Light-Blue\"><b>🎯 Комментарий </b></font>\n",
        "    <br /> \n",
        "    <font size=\"3\", color = \"black\">\n",
        "<br />  \n",
        "Когда устранили дисбаланс по увеличенной выборки,метрика AUC-ROC показывает лучший результат именно у случайнного леса, это подтверждает и график"
      ]
    },
    {
      "cell_type": "markdown",
      "metadata": {
        "id": "CKHxfpCXbbSm"
      },
      "source": [
        "## Тестирование модели"
      ]
    },
    {
      "cell_type": "raw",
      "metadata": {
        "id": "8hxsehUobbSm"
      },
      "source": [
        "Для тестирования модели выберим модель случайного леса т.к данная модель показала наилучшие результаты"
      ]
    },
    {
      "cell_type": "code",
      "execution_count": null,
      "metadata": {
        "id": "ArVzQthUbbSm",
        "outputId": "9bb4304e-eef7-4ac4-ab65-df96327a1e11"
      },
      "outputs": [
        {
          "name": "stdout",
          "output_type": "stream",
          "text": [
            "Случайный лес\n",
            "Точность попадания по классам 0.848\n",
            "Precision 0.6375661375661376\n",
            "Recall 0.1769041769041769\n",
            "F1 0.6132315521628499\n"
          ]
        }
      ],
      "source": [
        "model = RandomForestClassifier(random_state=RANDOM_STATE, n_estimators=99,max_depth = 14)\n",
        "model.fit(features_upsampled, target_upsampled)\n",
        "predicted_test = model.predict(features_test)\n",
        "print('Случайный лес')\n",
        "print('Точность попадания по классам', accuracy_score(target_test, predicted_test))\n",
        "print('Precision', precision_score(target_test, predicted_test))\n",
        "print('Recall', recall_score(target_valid, predicted_test))\n",
        "print('F1', f1_score(target_test, predicted_test))"
      ]
    },
    {
      "cell_type": "code",
      "execution_count": null,
      "metadata": {
        "id": "PNR0ObA6bbSn",
        "outputId": "3fb6d888-03d2-4d51-a7aa-8fb63cd1a2f7"
      },
      "outputs": [
        {
          "name": "stdout",
          "output_type": "stream",
          "text": [
            "AUC-ROC RandomForestClassifier  0.8523037984037836\n"
          ]
        },
        {
          "data": {
            "image/png": "[encoded data removed]",
            "text/plain": [
              "<Figure size 864x648 with 1 Axes>"
            ]
          },
          "metadata": {
            "needs_background": "light"
          },
          "output_type": "display_data"
        }
      ],
      "source": [
        "plt.figure(figsize=[12,9])\n",
        "\n",
        "plt.plot([0, 1], [0, 1], linestyle='--', label='RandomModel')\n",
        "model = RandomForestClassifier(random_state=RANDOM_STATE, n_estimators=99,max_depth = 14)\n",
        "model.fit(features_upsampled, target_upsampled)\n",
        "predicted_test = model.predict_proba(features_test)\n",
        "probabilities_one_test = predicted_test[:, 1]\n",
        "fpr, tpr, thresholds = roc_curve(target_test, probabilities_one_test)\n",
        "auc_roc = roc_auc_score(target_test, probabilities_one_test)\n",
        "print('AUC-ROC RandomForestClassifier ',auc_roc)\n",
        "plt.plot(fpr, tpr, label='RandomForestClassifier ')\n",
        "plt.xlim([0,1])\n",
        "plt.ylim([0,1])\n",
        "\n",
        "plt.xlabel(\"False Positive Rate\")\n",
        "plt.ylabel(\"True Positive Rate\")\n",
        "\n",
        "plt.legend(loc='lower right', fontsize='x-large')\n",
        "\n",
        "plt.title(\"ROC-кривая\")\n",
        "plt.show()"
      ]
    },
    {
      "cell_type": "markdown",
      "metadata": {
        "id": "lvEatBivbbSn"
      },
      "source": [
        "<div class=\"alert alert-info\", style=\"border:solid dark-blue 3px; padding: 20px\">\n",
        "<font size=\"4\", color = \"Light-Blue\"><b>🎯 Итог </b></font>\n",
        "    <br /> \n",
        "    <font size=\"3\", color = \"black\">\n",
        "<br />  \n",
        "При работе с проектом было выполнено:\n",
        "\n",
        "Были подготовлены и изучены данные. Разбиты данные на тренировочную, валидационную и тестовую выборку.\n",
        "Исследована задача. Были применены модели Решающее дерево, случайный лес, логистическую регрессию\n",
        "Скоректирован балланс класса. \n",
        "Была проверена модель на тестовой выборке с улучшенными параметрамию.Наилучший результат был показан моделью случайного леса.\n",
        "        \n",
        "Обученная модель случайного леса со взвешенными классами имеет достаточную адекватность, подтвержденная ее значением AUC-ROC =  0.8576.  \n",
        "Точность попадания по классам 0.8555\n",
        "        \n",
        "Precision 0.6714975845410628\n",
        "        \n",
        "Recall 0.2103960396039604"
      ]
    },
    {
      "cell_type": "markdown",
      "metadata": {
        "id": "uP0OHXcHbbSo"
      },
      "source": [
        "## Чек-лист готовности проекта"
      ]
    },
    {
      "cell_type": "markdown",
      "metadata": {
        "id": "xlwiXA34bbSo"
      },
      "source": [
        "Поставьте 'x' в выполненных пунктах. Далее нажмите Shift+Enter."
      ]
    },
    {
      "cell_type": "markdown",
      "metadata": {
        "id": "eb5eK0M7bbSo"
      },
      "source": [
        "- [x]  Jupyter Notebook открыт\n",
        "- [ ]  Весь код выполняется без ошибок\n",
        "- [ ]  Ячейки с кодом расположены в порядке исполнения\n",
        "- [ ]  Выполнен шаг 1: данные подготовлены\n",
        "- [ ]  Выполнен шаг 2: задача исследована\n",
        "    - [ ]  Исследован баланс классов\n",
        "    - [ ]  Изучены модели без учёта дисбаланса\n",
        "    - [ ]  Написаны выводы по результатам исследования\n",
        "- [ ]  Выполнен шаг 3: учтён дисбаланс\n",
        "    - [ ]  Применено несколько способов борьбы с дисбалансом\n",
        "    - [ ]  Написаны выводы по результатам исследования\n",
        "- [ ]  Выполнен шаг 4: проведено тестирование\n",
        "- [ ]  Удалось достичь *F1*-меры не менее 0.59\n",
        "- [ ]  Исследована метрика *AUC-ROC*"
      ]
    },
    {
      "cell_type": "code",
      "execution_count": null,
      "metadata": {
        "id": "1BUdciJ0bbSo"
      },
      "outputs": [],
      "source": []
    }
  ],
  "metadata": {
    "ExecuteTimeLog": [
      {
        "duration": 487,
        "start_time": "2022-08-03T14:27:13.327Z"
      },
      {
        "duration": 49,
        "start_time": "2022-08-03T14:29:58.955Z"
      },
      {
        "duration": 54,
        "start_time": "2022-08-03T14:32:13.921Z"
      },
      {
        "duration": 726,
        "start_time": "2022-08-03T14:32:44.860Z"
      },
      {
        "duration": 50,
        "start_time": "2022-08-03T14:33:50.487Z"
      },
      {
        "duration": 107,
        "start_time": "2022-08-03T14:34:26.561Z"
      },
      {
        "duration": 10,
        "start_time": "2022-08-03T14:34:35.721Z"
      },
      {
        "duration": 6,
        "start_time": "2022-08-03T14:35:36.222Z"
      },
      {
        "duration": 16,
        "start_time": "2022-08-03T14:42:11.690Z"
      },
      {
        "duration": 58,
        "start_time": "2022-08-03T14:42:38.887Z"
      },
      {
        "duration": 1635,
        "start_time": "2022-08-03T14:43:36.069Z"
      },
      {
        "duration": 1141,
        "start_time": "2022-08-03T14:43:52.936Z"
      },
      {
        "duration": 5,
        "start_time": "2022-08-03T14:43:54.079Z"
      },
      {
        "duration": 14,
        "start_time": "2022-08-03T14:43:54.086Z"
      },
      {
        "duration": 6,
        "start_time": "2022-08-03T14:43:54.102Z"
      },
      {
        "duration": 5,
        "start_time": "2022-08-03T14:45:06.234Z"
      },
      {
        "duration": 5,
        "start_time": "2022-08-03T15:04:01.245Z"
      },
      {
        "duration": 8,
        "start_time": "2022-08-03T15:04:12.230Z"
      },
      {
        "duration": 5,
        "start_time": "2022-08-03T15:06:38.847Z"
      },
      {
        "duration": 26,
        "start_time": "2022-08-03T15:12:09.090Z"
      },
      {
        "duration": 23,
        "start_time": "2022-08-03T15:12:42.994Z"
      },
      {
        "duration": 28,
        "start_time": "2022-08-03T15:13:08.027Z"
      },
      {
        "duration": 25,
        "start_time": "2022-08-03T15:14:04.372Z"
      },
      {
        "duration": 35,
        "start_time": "2022-08-03T15:14:22.591Z"
      },
      {
        "duration": 1303,
        "start_time": "2022-08-03T15:18:29.547Z"
      },
      {
        "duration": 14,
        "start_time": "2022-08-03T15:21:17.361Z"
      },
      {
        "duration": 4,
        "start_time": "2022-08-03T15:25:12.734Z"
      },
      {
        "duration": 52,
        "start_time": "2022-08-03T15:32:49.689Z"
      },
      {
        "duration": 1171,
        "start_time": "2022-08-03T15:33:49.695Z"
      },
      {
        "duration": 5,
        "start_time": "2022-08-03T15:33:50.869Z"
      },
      {
        "duration": 31,
        "start_time": "2022-08-03T15:33:50.877Z"
      },
      {
        "duration": 9,
        "start_time": "2022-08-03T15:33:50.910Z"
      },
      {
        "duration": 21,
        "start_time": "2022-08-03T15:33:50.921Z"
      },
      {
        "duration": 24,
        "start_time": "2022-08-03T15:33:50.944Z"
      },
      {
        "duration": 18,
        "start_time": "2022-08-03T15:33:50.971Z"
      },
      {
        "duration": 62,
        "start_time": "2022-08-03T15:33:50.990Z"
      },
      {
        "duration": 20,
        "start_time": "2022-08-03T15:33:51.054Z"
      },
      {
        "duration": 12,
        "start_time": "2022-08-03T15:33:51.077Z"
      },
      {
        "duration": 184,
        "start_time": "2022-08-03T15:33:51.091Z"
      },
      {
        "duration": 1303,
        "start_time": "2022-08-03T15:34:53.445Z"
      },
      {
        "duration": 6,
        "start_time": "2022-08-03T15:34:54.751Z"
      },
      {
        "duration": 40,
        "start_time": "2022-08-03T15:34:54.759Z"
      },
      {
        "duration": 5,
        "start_time": "2022-08-03T15:34:54.802Z"
      },
      {
        "duration": 17,
        "start_time": "2022-08-03T15:34:54.810Z"
      },
      {
        "duration": 11,
        "start_time": "2022-08-03T15:34:54.829Z"
      },
      {
        "duration": 6,
        "start_time": "2022-08-03T15:34:54.842Z"
      },
      {
        "duration": 68,
        "start_time": "2022-08-03T15:34:54.849Z"
      },
      {
        "duration": 23,
        "start_time": "2022-08-03T15:34:54.919Z"
      },
      {
        "duration": 7,
        "start_time": "2022-08-03T15:34:54.945Z"
      },
      {
        "duration": 264,
        "start_time": "2022-08-03T15:34:54.954Z"
      },
      {
        "duration": 85,
        "start_time": "2022-08-03T15:35:03.827Z"
      },
      {
        "duration": 19,
        "start_time": "2022-08-03T15:35:45.862Z"
      },
      {
        "duration": 1177,
        "start_time": "2022-08-03T15:39:20.077Z"
      },
      {
        "duration": 5,
        "start_time": "2022-08-03T15:39:21.257Z"
      },
      {
        "duration": 15,
        "start_time": "2022-08-03T15:39:21.264Z"
      },
      {
        "duration": 7,
        "start_time": "2022-08-03T15:39:21.281Z"
      },
      {
        "duration": 12,
        "start_time": "2022-08-03T15:39:21.290Z"
      },
      {
        "duration": 9,
        "start_time": "2022-08-03T15:39:21.304Z"
      },
      {
        "duration": 8,
        "start_time": "2022-08-03T15:39:21.315Z"
      },
      {
        "duration": 63,
        "start_time": "2022-08-03T15:39:21.325Z"
      },
      {
        "duration": 16,
        "start_time": "2022-08-03T15:39:21.390Z"
      },
      {
        "duration": 5,
        "start_time": "2022-08-03T15:39:21.408Z"
      },
      {
        "duration": 799,
        "start_time": "2022-08-03T15:39:21.414Z"
      },
      {
        "duration": 198,
        "start_time": "2022-08-03T15:39:22.215Z"
      },
      {
        "duration": 62,
        "start_time": "2022-08-03T15:40:18.180Z"
      },
      {
        "duration": 24,
        "start_time": "2022-08-03T15:41:42.779Z"
      },
      {
        "duration": 18,
        "start_time": "2022-08-03T15:42:21.156Z"
      },
      {
        "duration": 16,
        "start_time": "2022-08-03T15:42:30.066Z"
      },
      {
        "duration": 1197,
        "start_time": "2022-08-03T15:43:08.166Z"
      },
      {
        "duration": 5,
        "start_time": "2022-08-03T15:43:09.365Z"
      },
      {
        "duration": 15,
        "start_time": "2022-08-03T15:43:09.372Z"
      },
      {
        "duration": 4,
        "start_time": "2022-08-03T15:43:09.389Z"
      },
      {
        "duration": 8,
        "start_time": "2022-08-03T15:43:09.394Z"
      },
      {
        "duration": 8,
        "start_time": "2022-08-03T15:43:09.404Z"
      },
      {
        "duration": 7,
        "start_time": "2022-08-03T15:43:09.414Z"
      },
      {
        "duration": 27,
        "start_time": "2022-08-03T15:43:09.423Z"
      },
      {
        "duration": 15,
        "start_time": "2022-08-03T15:43:09.488Z"
      },
      {
        "duration": 4,
        "start_time": "2022-08-03T15:43:09.505Z"
      },
      {
        "duration": 805,
        "start_time": "2022-08-03T15:43:09.510Z"
      },
      {
        "duration": 826,
        "start_time": "2022-08-03T15:43:10.317Z"
      },
      {
        "duration": 721,
        "start_time": "2022-08-03T15:44:34.589Z"
      },
      {
        "duration": 727,
        "start_time": "2022-08-03T15:44:52.235Z"
      },
      {
        "duration": 768,
        "start_time": "2022-08-03T15:45:08.627Z"
      },
      {
        "duration": 720,
        "start_time": "2022-08-03T15:45:50.667Z"
      },
      {
        "duration": 733,
        "start_time": "2022-08-03T15:46:18.673Z"
      },
      {
        "duration": 51,
        "start_time": "2022-08-03T15:48:32.165Z"
      },
      {
        "duration": 46,
        "start_time": "2022-08-03T19:18:19.002Z"
      },
      {
        "duration": 1436,
        "start_time": "2022-08-03T19:19:02.953Z"
      },
      {
        "duration": 5,
        "start_time": "2022-08-03T19:19:04.391Z"
      },
      {
        "duration": 17,
        "start_time": "2022-08-03T19:19:04.398Z"
      },
      {
        "duration": 4,
        "start_time": "2022-08-03T19:19:04.417Z"
      },
      {
        "duration": 6,
        "start_time": "2022-08-03T19:19:04.423Z"
      },
      {
        "duration": 9,
        "start_time": "2022-08-03T19:19:04.430Z"
      },
      {
        "duration": 5,
        "start_time": "2022-08-03T19:19:04.440Z"
      },
      {
        "duration": 24,
        "start_time": "2022-08-03T19:19:04.446Z"
      },
      {
        "duration": 11,
        "start_time": "2022-08-03T19:19:04.472Z"
      },
      {
        "duration": 3,
        "start_time": "2022-08-03T19:19:04.485Z"
      },
      {
        "duration": 679,
        "start_time": "2022-08-03T19:19:04.489Z"
      },
      {
        "duration": 673,
        "start_time": "2022-08-03T19:19:05.169Z"
      },
      {
        "duration": 7902,
        "start_time": "2022-08-03T19:19:05.855Z"
      },
      {
        "duration": 7734,
        "start_time": "2022-08-03T19:19:58.065Z"
      },
      {
        "duration": 7789,
        "start_time": "2022-08-03T19:20:13.948Z"
      },
      {
        "duration": 1018,
        "start_time": "2022-08-03T19:21:11.891Z"
      },
      {
        "duration": 4,
        "start_time": "2022-08-03T19:21:12.911Z"
      },
      {
        "duration": 13,
        "start_time": "2022-08-03T19:21:12.916Z"
      },
      {
        "duration": 3,
        "start_time": "2022-08-03T19:21:12.931Z"
      },
      {
        "duration": 7,
        "start_time": "2022-08-03T19:21:12.935Z"
      },
      {
        "duration": 14,
        "start_time": "2022-08-03T19:21:12.943Z"
      },
      {
        "duration": 5,
        "start_time": "2022-08-03T19:21:12.958Z"
      },
      {
        "duration": 32,
        "start_time": "2022-08-03T19:21:12.965Z"
      },
      {
        "duration": 12,
        "start_time": "2022-08-03T19:21:12.999Z"
      },
      {
        "duration": 3,
        "start_time": "2022-08-03T19:21:13.013Z"
      },
      {
        "duration": 687,
        "start_time": "2022-08-03T19:21:13.018Z"
      },
      {
        "duration": 671,
        "start_time": "2022-08-03T19:21:13.706Z"
      },
      {
        "duration": 7907,
        "start_time": "2022-08-03T19:21:14.379Z"
      },
      {
        "duration": 1058,
        "start_time": "2022-08-03T19:22:39.766Z"
      },
      {
        "duration": 4,
        "start_time": "2022-08-03T19:22:40.826Z"
      },
      {
        "duration": 12,
        "start_time": "2022-08-03T19:22:40.831Z"
      },
      {
        "duration": 3,
        "start_time": "2022-08-03T19:22:40.845Z"
      },
      {
        "duration": 6,
        "start_time": "2022-08-03T19:22:40.849Z"
      },
      {
        "duration": 5,
        "start_time": "2022-08-03T19:22:40.857Z"
      },
      {
        "duration": 14,
        "start_time": "2022-08-03T19:22:40.864Z"
      },
      {
        "duration": 27,
        "start_time": "2022-08-03T19:22:40.879Z"
      },
      {
        "duration": 12,
        "start_time": "2022-08-03T19:22:40.907Z"
      },
      {
        "duration": 4,
        "start_time": "2022-08-03T19:22:40.920Z"
      },
      {
        "duration": 716,
        "start_time": "2022-08-03T19:22:40.925Z"
      },
      {
        "duration": 682,
        "start_time": "2022-08-03T19:22:41.643Z"
      },
      {
        "duration": 7838,
        "start_time": "2022-08-03T19:22:42.327Z"
      },
      {
        "duration": 25855,
        "start_time": "2022-08-03T19:23:16.044Z"
      },
      {
        "duration": 25429,
        "start_time": "2022-08-03T19:23:48.205Z"
      },
      {
        "duration": 1065,
        "start_time": "2022-08-03T19:25:59.584Z"
      },
      {
        "duration": 5,
        "start_time": "2022-08-03T19:26:00.651Z"
      },
      {
        "duration": 40,
        "start_time": "2022-08-03T19:26:00.657Z"
      },
      {
        "duration": 7,
        "start_time": "2022-08-03T19:26:00.699Z"
      },
      {
        "duration": 11,
        "start_time": "2022-08-03T19:26:00.708Z"
      },
      {
        "duration": 19,
        "start_time": "2022-08-03T19:26:00.720Z"
      },
      {
        "duration": 8,
        "start_time": "2022-08-03T19:26:00.741Z"
      },
      {
        "duration": 31,
        "start_time": "2022-08-03T19:26:00.750Z"
      },
      {
        "duration": 14,
        "start_time": "2022-08-03T19:26:00.782Z"
      },
      {
        "duration": 11,
        "start_time": "2022-08-03T19:26:00.797Z"
      },
      {
        "duration": 704,
        "start_time": "2022-08-03T19:26:00.809Z"
      },
      {
        "duration": 671,
        "start_time": "2022-08-03T19:26:01.514Z"
      },
      {
        "duration": 26260,
        "start_time": "2022-08-03T19:26:02.187Z"
      },
      {
        "duration": 13354,
        "start_time": "2022-08-03T19:27:02.180Z"
      },
      {
        "duration": 13537,
        "start_time": "2022-08-03T19:27:32.347Z"
      },
      {
        "duration": 13454,
        "start_time": "2022-08-03T19:34:14.494Z"
      },
      {
        "duration": 34848,
        "start_time": "2022-08-03T19:35:17.681Z"
      },
      {
        "duration": 34580,
        "start_time": "2022-08-03T19:36:31.259Z"
      },
      {
        "duration": 76,
        "start_time": "2022-08-03T19:37:40.164Z"
      },
      {
        "duration": 92,
        "start_time": "2022-08-03T19:38:35.864Z"
      },
      {
        "duration": 91,
        "start_time": "2022-08-03T19:40:41.075Z"
      },
      {
        "duration": 1027,
        "start_time": "2022-08-03T19:41:11.668Z"
      },
      {
        "duration": 5,
        "start_time": "2022-08-03T19:41:12.697Z"
      },
      {
        "duration": 14,
        "start_time": "2022-08-03T19:41:12.704Z"
      },
      {
        "duration": 4,
        "start_time": "2022-08-03T19:41:12.720Z"
      },
      {
        "duration": 8,
        "start_time": "2022-08-03T19:41:12.727Z"
      },
      {
        "duration": 25,
        "start_time": "2022-08-03T19:41:12.736Z"
      },
      {
        "duration": 5,
        "start_time": "2022-08-03T19:41:12.762Z"
      },
      {
        "duration": 24,
        "start_time": "2022-08-03T19:41:12.768Z"
      },
      {
        "duration": 12,
        "start_time": "2022-08-03T19:41:12.793Z"
      },
      {
        "duration": 4,
        "start_time": "2022-08-03T19:41:12.806Z"
      },
      {
        "duration": 706,
        "start_time": "2022-08-03T19:41:12.811Z"
      },
      {
        "duration": 675,
        "start_time": "2022-08-03T19:41:13.518Z"
      },
      {
        "duration": 34542,
        "start_time": "2022-08-03T19:41:14.194Z"
      },
      {
        "duration": 39,
        "start_time": "2022-08-03T19:41:48.738Z"
      },
      {
        "duration": 400,
        "start_time": "2022-08-03T19:41:48.778Z"
      },
      {
        "duration": 70,
        "start_time": "2022-08-03T19:42:55.571Z"
      },
      {
        "duration": 1143,
        "start_time": "2022-08-03T19:43:18.264Z"
      },
      {
        "duration": 4,
        "start_time": "2022-08-03T19:43:19.409Z"
      },
      {
        "duration": 15,
        "start_time": "2022-08-03T19:43:19.415Z"
      },
      {
        "duration": 4,
        "start_time": "2022-08-03T19:43:19.432Z"
      },
      {
        "duration": 7,
        "start_time": "2022-08-03T19:43:19.437Z"
      },
      {
        "duration": 10,
        "start_time": "2022-08-03T19:43:19.445Z"
      },
      {
        "duration": 5,
        "start_time": "2022-08-03T19:43:19.457Z"
      },
      {
        "duration": 28,
        "start_time": "2022-08-03T19:43:19.464Z"
      },
      {
        "duration": 13,
        "start_time": "2022-08-03T19:43:19.495Z"
      },
      {
        "duration": 4,
        "start_time": "2022-08-03T19:43:19.510Z"
      },
      {
        "duration": 758,
        "start_time": "2022-08-03T19:43:19.515Z"
      },
      {
        "duration": 697,
        "start_time": "2022-08-03T19:43:20.274Z"
      },
      {
        "duration": 35552,
        "start_time": "2022-08-03T19:43:20.973Z"
      },
      {
        "duration": 33,
        "start_time": "2022-08-03T19:43:56.528Z"
      },
      {
        "duration": 655,
        "start_time": "2022-08-03T19:50:35.168Z"
      },
      {
        "duration": 87,
        "start_time": "2022-08-03T20:05:46.392Z"
      },
      {
        "duration": 70,
        "start_time": "2022-08-03T20:08:36.647Z"
      },
      {
        "duration": 1033,
        "start_time": "2022-08-03T20:09:15.448Z"
      },
      {
        "duration": 4,
        "start_time": "2022-08-03T20:09:16.482Z"
      },
      {
        "duration": 13,
        "start_time": "2022-08-03T20:09:16.487Z"
      },
      {
        "duration": 3,
        "start_time": "2022-08-03T20:09:16.501Z"
      },
      {
        "duration": 11,
        "start_time": "2022-08-03T20:09:16.506Z"
      },
      {
        "duration": 8,
        "start_time": "2022-08-03T20:09:16.518Z"
      },
      {
        "duration": 7,
        "start_time": "2022-08-03T20:09:16.527Z"
      },
      {
        "duration": 40,
        "start_time": "2022-08-03T20:09:16.535Z"
      },
      {
        "duration": 11,
        "start_time": "2022-08-03T20:09:16.577Z"
      },
      {
        "duration": 3,
        "start_time": "2022-08-03T20:09:16.589Z"
      },
      {
        "duration": 684,
        "start_time": "2022-08-03T20:09:16.593Z"
      },
      {
        "duration": 378,
        "start_time": "2022-08-03T20:09:17.279Z"
      },
      {
        "duration": 653,
        "start_time": "2022-08-03T20:09:17.658Z"
      },
      {
        "duration": 34434,
        "start_time": "2022-08-03T20:09:18.313Z"
      },
      {
        "duration": 108,
        "start_time": "2022-08-03T20:09:52.749Z"
      },
      {
        "duration": 190,
        "start_time": "2022-08-03T20:12:05.466Z"
      },
      {
        "duration": 1062,
        "start_time": "2022-08-03T20:13:38.344Z"
      },
      {
        "duration": 5,
        "start_time": "2022-08-03T20:13:39.408Z"
      },
      {
        "duration": 19,
        "start_time": "2022-08-03T20:13:39.414Z"
      },
      {
        "duration": 4,
        "start_time": "2022-08-03T20:13:39.434Z"
      },
      {
        "duration": 15,
        "start_time": "2022-08-03T20:13:39.440Z"
      },
      {
        "duration": 13,
        "start_time": "2022-08-03T20:13:39.456Z"
      },
      {
        "duration": 6,
        "start_time": "2022-08-03T20:13:39.471Z"
      },
      {
        "duration": 28,
        "start_time": "2022-08-03T20:13:39.479Z"
      },
      {
        "duration": 13,
        "start_time": "2022-08-03T20:13:39.509Z"
      },
      {
        "duration": 3,
        "start_time": "2022-08-03T20:13:39.524Z"
      },
      {
        "duration": 698,
        "start_time": "2022-08-03T20:13:39.529Z"
      },
      {
        "duration": 386,
        "start_time": "2022-08-03T20:13:40.229Z"
      },
      {
        "duration": 667,
        "start_time": "2022-08-03T20:13:40.616Z"
      },
      {
        "duration": 34573,
        "start_time": "2022-08-03T20:13:41.285Z"
      },
      {
        "duration": 97,
        "start_time": "2022-08-03T20:14:15.860Z"
      },
      {
        "duration": 297,
        "start_time": "2022-08-03T20:14:15.959Z"
      },
      {
        "duration": 1064,
        "start_time": "2022-08-03T20:15:45.169Z"
      },
      {
        "duration": 4,
        "start_time": "2022-08-03T20:15:46.236Z"
      },
      {
        "duration": 14,
        "start_time": "2022-08-03T20:15:46.242Z"
      },
      {
        "duration": 3,
        "start_time": "2022-08-03T20:15:46.258Z"
      },
      {
        "duration": 9,
        "start_time": "2022-08-03T20:15:46.263Z"
      },
      {
        "duration": 7,
        "start_time": "2022-08-03T20:15:46.273Z"
      },
      {
        "duration": 5,
        "start_time": "2022-08-03T20:15:46.282Z"
      },
      {
        "duration": 28,
        "start_time": "2022-08-03T20:15:46.288Z"
      },
      {
        "duration": 38,
        "start_time": "2022-08-03T20:15:46.317Z"
      },
      {
        "duration": 3,
        "start_time": "2022-08-03T20:15:46.357Z"
      },
      {
        "duration": 701,
        "start_time": "2022-08-03T20:15:46.361Z"
      },
      {
        "duration": 399,
        "start_time": "2022-08-03T20:15:47.063Z"
      },
      {
        "duration": 681,
        "start_time": "2022-08-03T20:15:47.463Z"
      },
      {
        "duration": 34874,
        "start_time": "2022-08-03T20:15:48.146Z"
      },
      {
        "duration": 42,
        "start_time": "2022-08-03T20:16:23.021Z"
      },
      {
        "duration": 307,
        "start_time": "2022-08-03T20:16:23.065Z"
      },
      {
        "duration": 130,
        "start_time": "2022-08-03T20:27:21.435Z"
      },
      {
        "duration": 189,
        "start_time": "2022-08-03T20:27:38.968Z"
      },
      {
        "duration": 648,
        "start_time": "2022-08-03T20:27:57.694Z"
      },
      {
        "duration": 48,
        "start_time": "2022-08-04T06:44:07.211Z"
      },
      {
        "duration": 1171,
        "start_time": "2022-08-04T06:44:18.919Z"
      },
      {
        "duration": 5,
        "start_time": "2022-08-04T06:44:20.092Z"
      },
      {
        "duration": 16,
        "start_time": "2022-08-04T06:44:20.099Z"
      },
      {
        "duration": 4,
        "start_time": "2022-08-04T06:44:20.118Z"
      },
      {
        "duration": 9,
        "start_time": "2022-08-04T06:44:20.124Z"
      },
      {
        "duration": 11,
        "start_time": "2022-08-04T06:44:20.135Z"
      },
      {
        "duration": 6,
        "start_time": "2022-08-04T06:44:20.148Z"
      },
      {
        "duration": 50,
        "start_time": "2022-08-04T06:44:20.156Z"
      },
      {
        "duration": 14,
        "start_time": "2022-08-04T06:44:20.209Z"
      },
      {
        "duration": 4,
        "start_time": "2022-08-04T06:44:20.225Z"
      },
      {
        "duration": 766,
        "start_time": "2022-08-04T06:44:20.230Z"
      },
      {
        "duration": 515,
        "start_time": "2022-08-04T06:44:20.997Z"
      },
      {
        "duration": 738,
        "start_time": "2022-08-04T06:44:21.514Z"
      },
      {
        "duration": 37386,
        "start_time": "2022-08-04T06:44:22.253Z"
      },
      {
        "duration": 54,
        "start_time": "2022-08-04T06:44:59.640Z"
      },
      {
        "duration": 319,
        "start_time": "2022-08-04T06:44:59.696Z"
      },
      {
        "duration": 204,
        "start_time": "2022-08-04T06:45:00.088Z"
      },
      {
        "duration": 17,
        "start_time": "2022-08-04T06:45:46.357Z"
      },
      {
        "duration": 1363,
        "start_time": "2022-08-04T06:46:23.790Z"
      },
      {
        "duration": 4,
        "start_time": "2022-08-04T06:46:25.154Z"
      },
      {
        "duration": 15,
        "start_time": "2022-08-04T06:46:25.160Z"
      },
      {
        "duration": 4,
        "start_time": "2022-08-04T06:46:25.176Z"
      },
      {
        "duration": 9,
        "start_time": "2022-08-04T06:46:25.181Z"
      },
      {
        "duration": 8,
        "start_time": "2022-08-04T06:46:25.191Z"
      },
      {
        "duration": 6,
        "start_time": "2022-08-04T06:46:25.201Z"
      },
      {
        "duration": 28,
        "start_time": "2022-08-04T06:46:25.209Z"
      },
      {
        "duration": 12,
        "start_time": "2022-08-04T06:46:25.238Z"
      },
      {
        "duration": 3,
        "start_time": "2022-08-04T06:46:25.253Z"
      },
      {
        "duration": 728,
        "start_time": "2022-08-04T06:46:25.286Z"
      },
      {
        "duration": 141,
        "start_time": "2022-08-04T06:46:26.016Z"
      },
      {
        "duration": 776,
        "start_time": "2022-08-04T06:46:26.158Z"
      },
      {
        "duration": 37554,
        "start_time": "2022-08-04T06:46:26.935Z"
      },
      {
        "duration": 98,
        "start_time": "2022-08-04T06:47:04.491Z"
      },
      {
        "duration": 300,
        "start_time": "2022-08-04T06:47:04.591Z"
      },
      {
        "duration": 365,
        "start_time": "2022-08-04T06:47:04.893Z"
      },
      {
        "duration": 502,
        "start_time": "2022-08-04T06:58:13.129Z"
      },
      {
        "duration": 93,
        "start_time": "2022-08-04T14:26:32.336Z"
      },
      {
        "duration": 1663,
        "start_time": "2022-08-04T14:29:11.561Z"
      },
      {
        "duration": 4,
        "start_time": "2022-08-04T14:29:13.226Z"
      },
      {
        "duration": 18,
        "start_time": "2022-08-04T14:29:13.231Z"
      },
      {
        "duration": 13,
        "start_time": "2022-08-04T14:29:13.250Z"
      },
      {
        "duration": 8,
        "start_time": "2022-08-04T14:29:13.265Z"
      },
      {
        "duration": 6,
        "start_time": "2022-08-04T14:29:13.274Z"
      },
      {
        "duration": 5,
        "start_time": "2022-08-04T14:29:13.281Z"
      },
      {
        "duration": 30,
        "start_time": "2022-08-04T14:29:13.288Z"
      },
      {
        "duration": 12,
        "start_time": "2022-08-04T14:29:13.319Z"
      },
      {
        "duration": 3,
        "start_time": "2022-08-04T14:29:13.332Z"
      },
      {
        "duration": 678,
        "start_time": "2022-08-04T14:29:13.337Z"
      },
      {
        "duration": 123,
        "start_time": "2022-08-04T14:29:14.016Z"
      },
      {
        "duration": 686,
        "start_time": "2022-08-04T14:29:14.140Z"
      },
      {
        "duration": 36552,
        "start_time": "2022-08-04T14:29:14.828Z"
      },
      {
        "duration": 49,
        "start_time": "2022-08-04T14:29:51.382Z"
      },
      {
        "duration": 303,
        "start_time": "2022-08-04T14:29:51.434Z"
      },
      {
        "duration": 614,
        "start_time": "2022-08-04T14:29:51.738Z"
      },
      {
        "duration": 163,
        "start_time": "2022-08-04T14:29:52.354Z"
      },
      {
        "duration": 82,
        "start_time": "2022-08-04T14:33:28.482Z"
      },
      {
        "duration": 14,
        "start_time": "2022-08-04T14:36:56.703Z"
      },
      {
        "duration": 335,
        "start_time": "2022-08-04T14:38:27.773Z"
      },
      {
        "duration": 117,
        "start_time": "2022-08-04T14:39:38.705Z"
      },
      {
        "duration": 11,
        "start_time": "2022-08-04T14:40:51.898Z"
      },
      {
        "duration": 290,
        "start_time": "2022-08-04T14:41:12.719Z"
      },
      {
        "duration": 246,
        "start_time": "2022-08-04T14:41:50.059Z"
      },
      {
        "duration": 71,
        "start_time": "2022-08-04T14:43:52.601Z"
      },
      {
        "duration": 581,
        "start_time": "2022-08-04T14:46:08.790Z"
      },
      {
        "duration": 100,
        "start_time": "2022-08-04T14:55:49.220Z"
      },
      {
        "duration": 53,
        "start_time": "2022-08-04T14:56:14.227Z"
      },
      {
        "duration": 14,
        "start_time": "2022-08-04T14:56:18.963Z"
      },
      {
        "duration": 1230,
        "start_time": "2022-08-04T14:56:41.326Z"
      },
      {
        "duration": 4,
        "start_time": "2022-08-04T14:56:42.558Z"
      },
      {
        "duration": 17,
        "start_time": "2022-08-04T14:56:42.563Z"
      },
      {
        "duration": 26,
        "start_time": "2022-08-04T14:56:42.582Z"
      },
      {
        "duration": 27,
        "start_time": "2022-08-04T14:56:42.610Z"
      },
      {
        "duration": 22,
        "start_time": "2022-08-04T14:56:42.638Z"
      },
      {
        "duration": 35,
        "start_time": "2022-08-04T14:56:42.661Z"
      },
      {
        "duration": 33,
        "start_time": "2022-08-04T14:56:42.697Z"
      },
      {
        "duration": 12,
        "start_time": "2022-08-04T14:56:42.732Z"
      },
      {
        "duration": 15,
        "start_time": "2022-08-04T14:56:42.746Z"
      },
      {
        "duration": 119,
        "start_time": "2022-08-04T14:56:42.762Z"
      },
      {
        "duration": 0,
        "start_time": "2022-08-04T14:56:42.882Z"
      },
      {
        "duration": 0,
        "start_time": "2022-08-04T14:56:42.883Z"
      },
      {
        "duration": 0,
        "start_time": "2022-08-04T14:56:42.884Z"
      },
      {
        "duration": 0,
        "start_time": "2022-08-04T14:56:42.885Z"
      },
      {
        "duration": 0,
        "start_time": "2022-08-04T14:56:42.886Z"
      },
      {
        "duration": 0,
        "start_time": "2022-08-04T14:56:42.888Z"
      },
      {
        "duration": 0,
        "start_time": "2022-08-04T14:56:42.888Z"
      },
      {
        "duration": 0,
        "start_time": "2022-08-04T14:56:42.905Z"
      },
      {
        "duration": 0,
        "start_time": "2022-08-04T14:56:42.906Z"
      },
      {
        "duration": 0,
        "start_time": "2022-08-04T14:56:42.907Z"
      },
      {
        "duration": 0,
        "start_time": "2022-08-04T14:56:42.908Z"
      },
      {
        "duration": 0,
        "start_time": "2022-08-04T14:56:42.910Z"
      },
      {
        "duration": 0,
        "start_time": "2022-08-04T14:56:42.911Z"
      },
      {
        "duration": 23,
        "start_time": "2022-08-04T14:57:17.938Z"
      },
      {
        "duration": 1293,
        "start_time": "2022-08-04T14:57:26.836Z"
      },
      {
        "duration": 4,
        "start_time": "2022-08-04T14:57:28.130Z"
      },
      {
        "duration": 13,
        "start_time": "2022-08-04T14:57:28.135Z"
      },
      {
        "duration": 7,
        "start_time": "2022-08-04T14:57:28.150Z"
      },
      {
        "duration": 7,
        "start_time": "2022-08-04T14:57:28.158Z"
      },
      {
        "duration": 7,
        "start_time": "2022-08-04T14:57:28.166Z"
      },
      {
        "duration": 32,
        "start_time": "2022-08-04T14:57:28.174Z"
      },
      {
        "duration": 23,
        "start_time": "2022-08-04T14:57:28.208Z"
      },
      {
        "duration": 11,
        "start_time": "2022-08-04T14:57:28.232Z"
      },
      {
        "duration": 4,
        "start_time": "2022-08-04T14:57:28.245Z"
      },
      {
        "duration": 23,
        "start_time": "2022-08-04T14:57:28.250Z"
      },
      {
        "duration": 700,
        "start_time": "2022-08-04T14:57:28.306Z"
      },
      {
        "duration": 126,
        "start_time": "2022-08-04T14:57:29.007Z"
      },
      {
        "duration": 697,
        "start_time": "2022-08-04T14:57:29.134Z"
      },
      {
        "duration": 35944,
        "start_time": "2022-08-04T14:57:29.832Z"
      },
      {
        "duration": 127,
        "start_time": "2022-08-04T14:58:05.778Z"
      },
      {
        "duration": 296,
        "start_time": "2022-08-04T14:58:05.912Z"
      },
      {
        "duration": 561,
        "start_time": "2022-08-04T14:58:06.209Z"
      },
      {
        "duration": 8,
        "start_time": "2022-08-04T14:58:06.771Z"
      },
      {
        "duration": 0,
        "start_time": "2022-08-04T14:58:06.781Z"
      },
      {
        "duration": 0,
        "start_time": "2022-08-04T14:58:06.782Z"
      },
      {
        "duration": 0,
        "start_time": "2022-08-04T14:58:06.783Z"
      },
      {
        "duration": 0,
        "start_time": "2022-08-04T14:58:06.784Z"
      },
      {
        "duration": 0,
        "start_time": "2022-08-04T14:58:06.785Z"
      },
      {
        "duration": 1440,
        "start_time": "2022-08-04T15:02:14.780Z"
      },
      {
        "duration": 6,
        "start_time": "2022-08-04T15:02:16.222Z"
      },
      {
        "duration": 18,
        "start_time": "2022-08-04T15:02:16.230Z"
      },
      {
        "duration": 8,
        "start_time": "2022-08-04T15:02:16.251Z"
      },
      {
        "duration": 13,
        "start_time": "2022-08-04T15:02:16.260Z"
      },
      {
        "duration": 33,
        "start_time": "2022-08-04T15:02:16.274Z"
      },
      {
        "duration": 5,
        "start_time": "2022-08-04T15:02:16.309Z"
      },
      {
        "duration": 26,
        "start_time": "2022-08-04T15:02:16.315Z"
      },
      {
        "duration": 13,
        "start_time": "2022-08-04T15:02:16.343Z"
      },
      {
        "duration": 4,
        "start_time": "2022-08-04T15:02:16.359Z"
      },
      {
        "duration": 62,
        "start_time": "2022-08-04T15:02:16.364Z"
      },
      {
        "duration": 711,
        "start_time": "2022-08-04T15:02:16.427Z"
      },
      {
        "duration": 127,
        "start_time": "2022-08-04T15:02:17.140Z"
      },
      {
        "duration": 712,
        "start_time": "2022-08-04T15:02:17.269Z"
      },
      {
        "duration": 38175,
        "start_time": "2022-08-04T15:02:17.982Z"
      },
      {
        "duration": 53,
        "start_time": "2022-08-04T15:02:56.159Z"
      },
      {
        "duration": 296,
        "start_time": "2022-08-04T15:02:56.214Z"
      },
      {
        "duration": 646,
        "start_time": "2022-08-04T15:02:56.512Z"
      },
      {
        "duration": 10,
        "start_time": "2022-08-04T15:02:57.160Z"
      },
      {
        "duration": 0,
        "start_time": "2022-08-04T15:02:57.171Z"
      },
      {
        "duration": 0,
        "start_time": "2022-08-04T15:02:57.173Z"
      },
      {
        "duration": 0,
        "start_time": "2022-08-04T15:02:57.173Z"
      },
      {
        "duration": 1,
        "start_time": "2022-08-04T15:02:57.174Z"
      },
      {
        "duration": 0,
        "start_time": "2022-08-04T15:02:57.176Z"
      },
      {
        "duration": 1564,
        "start_time": "2022-08-04T15:03:29.605Z"
      },
      {
        "duration": 171,
        "start_time": "2022-08-04T15:04:55.336Z"
      },
      {
        "duration": 1376,
        "start_time": "2022-08-04T15:05:05.124Z"
      },
      {
        "duration": 6,
        "start_time": "2022-08-04T15:05:06.502Z"
      },
      {
        "duration": 19,
        "start_time": "2022-08-04T15:05:06.511Z"
      },
      {
        "duration": 5,
        "start_time": "2022-08-04T15:05:06.532Z"
      },
      {
        "duration": 15,
        "start_time": "2022-08-04T15:05:06.539Z"
      },
      {
        "duration": 18,
        "start_time": "2022-08-04T15:05:06.556Z"
      },
      {
        "duration": 13,
        "start_time": "2022-08-04T15:05:06.576Z"
      },
      {
        "duration": 37,
        "start_time": "2022-08-04T15:05:06.590Z"
      },
      {
        "duration": 13,
        "start_time": "2022-08-04T15:05:06.629Z"
      },
      {
        "duration": 4,
        "start_time": "2022-08-04T15:05:06.644Z"
      },
      {
        "duration": 68,
        "start_time": "2022-08-04T15:05:06.650Z"
      },
      {
        "duration": 736,
        "start_time": "2022-08-04T15:05:06.723Z"
      },
      {
        "duration": 181,
        "start_time": "2022-08-04T15:05:07.460Z"
      },
      {
        "duration": 1725,
        "start_time": "2022-08-04T15:05:07.645Z"
      },
      {
        "duration": 36073,
        "start_time": "2022-08-04T15:05:09.371Z"
      },
      {
        "duration": 68,
        "start_time": "2022-08-04T15:05:45.446Z"
      },
      {
        "duration": 201,
        "start_time": "2022-08-04T15:05:45.607Z"
      },
      {
        "duration": 593,
        "start_time": "2022-08-04T15:05:45.809Z"
      },
      {
        "duration": 300,
        "start_time": "2022-08-04T15:05:46.406Z"
      },
      {
        "duration": 11,
        "start_time": "2022-08-04T15:05:46.708Z"
      },
      {
        "duration": 288,
        "start_time": "2022-08-04T15:05:46.721Z"
      },
      {
        "duration": 95,
        "start_time": "2022-08-04T15:05:47.011Z"
      },
      {
        "duration": 104,
        "start_time": "2022-08-04T15:05:47.108Z"
      },
      {
        "duration": 741,
        "start_time": "2022-08-04T15:05:47.214Z"
      },
      {
        "duration": 696,
        "start_time": "2022-08-04T15:08:28.850Z"
      },
      {
        "duration": 1404,
        "start_time": "2022-08-04T15:17:45.968Z"
      },
      {
        "duration": 5,
        "start_time": "2022-08-04T15:17:47.374Z"
      },
      {
        "duration": 13,
        "start_time": "2022-08-04T15:17:47.380Z"
      },
      {
        "duration": 4,
        "start_time": "2022-08-04T15:17:47.395Z"
      },
      {
        "duration": 10,
        "start_time": "2022-08-04T15:17:47.400Z"
      },
      {
        "duration": 7,
        "start_time": "2022-08-04T15:17:47.411Z"
      },
      {
        "duration": 6,
        "start_time": "2022-08-04T15:17:47.420Z"
      },
      {
        "duration": 27,
        "start_time": "2022-08-04T15:17:47.427Z"
      },
      {
        "duration": 13,
        "start_time": "2022-08-04T15:17:47.455Z"
      },
      {
        "duration": 4,
        "start_time": "2022-08-04T15:17:47.470Z"
      },
      {
        "duration": 52,
        "start_time": "2022-08-04T15:17:47.475Z"
      },
      {
        "duration": 791,
        "start_time": "2022-08-04T15:17:47.528Z"
      },
      {
        "duration": 146,
        "start_time": "2022-08-04T15:17:48.321Z"
      },
      {
        "duration": 1785,
        "start_time": "2022-08-04T15:17:48.469Z"
      },
      {
        "duration": 35181,
        "start_time": "2022-08-04T15:17:50.256Z"
      },
      {
        "duration": 70,
        "start_time": "2022-08-04T15:18:25.438Z"
      },
      {
        "duration": 231,
        "start_time": "2022-08-04T15:18:25.510Z"
      },
      {
        "duration": 610,
        "start_time": "2022-08-04T15:18:25.811Z"
      },
      {
        "duration": 189,
        "start_time": "2022-08-04T15:18:26.423Z"
      },
      {
        "duration": 101,
        "start_time": "2022-08-04T15:18:26.615Z"
      },
      {
        "duration": 289,
        "start_time": "2022-08-04T15:18:26.718Z"
      },
      {
        "duration": 99,
        "start_time": "2022-08-04T15:18:27.009Z"
      },
      {
        "duration": 99,
        "start_time": "2022-08-04T15:18:27.109Z"
      },
      {
        "duration": 639,
        "start_time": "2022-08-04T15:18:27.210Z"
      },
      {
        "duration": 198,
        "start_time": "2022-08-04T15:19:37.922Z"
      },
      {
        "duration": 191,
        "start_time": "2022-08-04T15:20:02.929Z"
      },
      {
        "duration": 388,
        "start_time": "2022-08-04T15:20:21.936Z"
      },
      {
        "duration": 168,
        "start_time": "2022-08-04T15:20:41.842Z"
      },
      {
        "duration": 720,
        "start_time": "2022-08-04T15:20:55.630Z"
      },
      {
        "duration": 13,
        "start_time": "2022-08-04T15:30:24.607Z"
      },
      {
        "duration": 11,
        "start_time": "2022-08-04T15:30:57.725Z"
      },
      {
        "duration": 13,
        "start_time": "2022-08-04T15:33:43.527Z"
      },
      {
        "duration": 12,
        "start_time": "2022-08-04T15:34:23.730Z"
      },
      {
        "duration": 598,
        "start_time": "2022-08-04T15:34:41.764Z"
      },
      {
        "duration": 174,
        "start_time": "2022-08-04T15:34:57.324Z"
      },
      {
        "duration": 1446,
        "start_time": "2022-08-04T15:35:35.336Z"
      },
      {
        "duration": 34477,
        "start_time": "2022-08-04T15:36:01.944Z"
      },
      {
        "duration": 16,
        "start_time": "2022-08-04T15:36:58.501Z"
      },
      {
        "duration": 176,
        "start_time": "2022-08-04T15:37:43.752Z"
      },
      {
        "duration": 434,
        "start_time": "2022-08-04T15:38:16.329Z"
      },
      {
        "duration": 249,
        "start_time": "2022-08-04T15:38:43.261Z"
      },
      {
        "duration": 432,
        "start_time": "2022-08-04T15:40:40.377Z"
      },
      {
        "duration": 390,
        "start_time": "2022-08-04T15:41:21.623Z"
      },
      {
        "duration": 109,
        "start_time": "2022-08-04T15:41:46.623Z"
      },
      {
        "duration": 1234,
        "start_time": "2022-08-04T15:42:00.723Z"
      },
      {
        "duration": 4,
        "start_time": "2022-08-04T15:42:01.959Z"
      },
      {
        "duration": 17,
        "start_time": "2022-08-04T15:42:01.964Z"
      },
      {
        "duration": 3,
        "start_time": "2022-08-04T15:42:01.983Z"
      },
      {
        "duration": 9,
        "start_time": "2022-08-04T15:42:01.988Z"
      },
      {
        "duration": 10,
        "start_time": "2022-08-04T15:42:01.998Z"
      },
      {
        "duration": 8,
        "start_time": "2022-08-04T15:42:02.010Z"
      },
      {
        "duration": 27,
        "start_time": "2022-08-04T15:42:02.020Z"
      },
      {
        "duration": 12,
        "start_time": "2022-08-04T15:42:02.048Z"
      },
      {
        "duration": 3,
        "start_time": "2022-08-04T15:42:02.063Z"
      },
      {
        "duration": 38,
        "start_time": "2022-08-04T15:42:02.068Z"
      },
      {
        "duration": 628,
        "start_time": "2022-08-04T15:42:02.107Z"
      },
      {
        "duration": 126,
        "start_time": "2022-08-04T15:42:02.737Z"
      },
      {
        "duration": 1402,
        "start_time": "2022-08-04T15:42:02.865Z"
      },
      {
        "duration": 34366,
        "start_time": "2022-08-04T15:42:04.269Z"
      },
      {
        "duration": 71,
        "start_time": "2022-08-04T15:42:38.637Z"
      },
      {
        "duration": 299,
        "start_time": "2022-08-04T15:42:38.709Z"
      },
      {
        "duration": 540,
        "start_time": "2022-08-04T15:42:39.010Z"
      },
      {
        "duration": 255,
        "start_time": "2022-08-04T15:42:39.552Z"
      },
      {
        "duration": 201,
        "start_time": "2022-08-04T15:42:39.811Z"
      },
      {
        "duration": 0,
        "start_time": "2022-08-04T15:42:40.014Z"
      },
      {
        "duration": 0,
        "start_time": "2022-08-04T15:42:40.015Z"
      },
      {
        "duration": 0,
        "start_time": "2022-08-04T15:42:40.016Z"
      },
      {
        "duration": 0,
        "start_time": "2022-08-04T15:42:40.017Z"
      },
      {
        "duration": 42,
        "start_time": "2022-08-04T15:45:37.266Z"
      },
      {
        "duration": 310574,
        "start_time": "2022-08-04T15:45:48.685Z"
      },
      {
        "duration": 1510,
        "start_time": "2022-08-04T15:55:47.766Z"
      },
      {
        "duration": 5,
        "start_time": "2022-08-04T15:55:49.279Z"
      },
      {
        "duration": 15,
        "start_time": "2022-08-04T15:55:49.285Z"
      },
      {
        "duration": 4,
        "start_time": "2022-08-04T15:55:49.301Z"
      },
      {
        "duration": 6,
        "start_time": "2022-08-04T15:55:49.307Z"
      },
      {
        "duration": 8,
        "start_time": "2022-08-04T15:55:49.314Z"
      },
      {
        "duration": 6,
        "start_time": "2022-08-04T15:55:49.323Z"
      },
      {
        "duration": 26,
        "start_time": "2022-08-04T15:55:49.330Z"
      },
      {
        "duration": 49,
        "start_time": "2022-08-04T15:55:49.357Z"
      },
      {
        "duration": 5,
        "start_time": "2022-08-04T15:55:49.407Z"
      },
      {
        "duration": 13,
        "start_time": "2022-08-04T15:55:49.413Z"
      },
      {
        "duration": 709,
        "start_time": "2022-08-04T15:55:49.428Z"
      },
      {
        "duration": 136,
        "start_time": "2022-08-04T15:55:50.139Z"
      },
      {
        "duration": 1467,
        "start_time": "2022-08-04T15:55:50.277Z"
      },
      {
        "duration": 1413,
        "start_time": "2022-08-04T15:56:10.725Z"
      },
      {
        "duration": 5,
        "start_time": "2022-08-04T15:56:12.140Z"
      },
      {
        "duration": 25,
        "start_time": "2022-08-04T15:56:12.147Z"
      },
      {
        "duration": 9,
        "start_time": "2022-08-04T15:56:12.174Z"
      },
      {
        "duration": 25,
        "start_time": "2022-08-04T15:56:12.184Z"
      },
      {
        "duration": 23,
        "start_time": "2022-08-04T15:56:12.211Z"
      },
      {
        "duration": 13,
        "start_time": "2022-08-04T15:56:12.236Z"
      },
      {
        "duration": 37,
        "start_time": "2022-08-04T15:56:12.251Z"
      },
      {
        "duration": 12,
        "start_time": "2022-08-04T15:56:12.290Z"
      },
      {
        "duration": 15,
        "start_time": "2022-08-04T15:56:12.304Z"
      },
      {
        "duration": 41,
        "start_time": "2022-08-04T15:56:12.321Z"
      },
      {
        "duration": 672,
        "start_time": "2022-08-04T15:56:12.363Z"
      },
      {
        "duration": 135,
        "start_time": "2022-08-04T15:56:13.036Z"
      },
      {
        "duration": 1434,
        "start_time": "2022-08-04T15:56:13.173Z"
      },
      {
        "duration": 143589,
        "start_time": "2022-08-04T15:56:14.609Z"
      },
      {
        "duration": 20,
        "start_time": "2022-08-04T15:58:38.199Z"
      },
      {
        "duration": 417,
        "start_time": "2022-08-04T15:58:38.221Z"
      },
      {
        "duration": 727,
        "start_time": "2022-08-04T15:58:38.640Z"
      },
      {
        "duration": 350,
        "start_time": "2022-08-04T15:58:39.369Z"
      },
      {
        "duration": 223,
        "start_time": "2022-08-04T15:58:39.721Z"
      },
      {
        "duration": 0,
        "start_time": "2022-08-04T15:58:39.946Z"
      },
      {
        "duration": 0,
        "start_time": "2022-08-04T15:58:39.946Z"
      },
      {
        "duration": 0,
        "start_time": "2022-08-04T15:58:39.947Z"
      },
      {
        "duration": 0,
        "start_time": "2022-08-04T15:58:39.948Z"
      },
      {
        "duration": 1285,
        "start_time": "2022-08-04T16:00:44.526Z"
      },
      {
        "duration": 5,
        "start_time": "2022-08-04T16:00:45.812Z"
      },
      {
        "duration": 21,
        "start_time": "2022-08-04T16:00:45.818Z"
      },
      {
        "duration": 4,
        "start_time": "2022-08-04T16:00:45.841Z"
      },
      {
        "duration": 8,
        "start_time": "2022-08-04T16:00:45.848Z"
      },
      {
        "duration": 6,
        "start_time": "2022-08-04T16:00:45.857Z"
      },
      {
        "duration": 4,
        "start_time": "2022-08-04T16:00:45.864Z"
      },
      {
        "duration": 55,
        "start_time": "2022-08-04T16:00:45.870Z"
      },
      {
        "duration": 13,
        "start_time": "2022-08-04T16:00:45.926Z"
      },
      {
        "duration": 3,
        "start_time": "2022-08-04T16:00:45.940Z"
      },
      {
        "duration": 15,
        "start_time": "2022-08-04T16:00:45.945Z"
      },
      {
        "duration": 755,
        "start_time": "2022-08-04T16:00:45.961Z"
      },
      {
        "duration": 140,
        "start_time": "2022-08-04T16:00:46.718Z"
      },
      {
        "duration": 1519,
        "start_time": "2022-08-04T16:00:46.862Z"
      },
      {
        "duration": 146361,
        "start_time": "2022-08-04T16:00:48.383Z"
      },
      {
        "duration": 16,
        "start_time": "2022-08-04T16:03:14.745Z"
      },
      {
        "duration": 445,
        "start_time": "2022-08-04T16:03:14.763Z"
      },
      {
        "duration": 655,
        "start_time": "2022-08-04T16:03:15.210Z"
      },
      {
        "duration": 439,
        "start_time": "2022-08-04T16:03:15.866Z"
      },
      {
        "duration": 127,
        "start_time": "2022-08-04T16:03:16.307Z"
      },
      {
        "duration": 0,
        "start_time": "2022-08-04T16:03:16.436Z"
      },
      {
        "duration": 0,
        "start_time": "2022-08-04T16:03:16.437Z"
      },
      {
        "duration": 0,
        "start_time": "2022-08-04T16:03:16.438Z"
      },
      {
        "duration": 0,
        "start_time": "2022-08-04T16:03:16.439Z"
      },
      {
        "duration": 5,
        "start_time": "2022-08-04T16:04:24.105Z"
      },
      {
        "duration": 16,
        "start_time": "2022-08-04T16:05:12.929Z"
      },
      {
        "duration": 19,
        "start_time": "2022-08-04T16:05:54.561Z"
      },
      {
        "duration": 18,
        "start_time": "2022-08-04T16:06:56.423Z"
      },
      {
        "duration": 1348,
        "start_time": "2022-08-04T16:07:05.521Z"
      },
      {
        "duration": 5,
        "start_time": "2022-08-04T16:07:06.871Z"
      },
      {
        "duration": 35,
        "start_time": "2022-08-04T16:07:06.877Z"
      },
      {
        "duration": 17,
        "start_time": "2022-08-04T16:07:06.913Z"
      },
      {
        "duration": 17,
        "start_time": "2022-08-04T16:07:06.931Z"
      },
      {
        "duration": 37,
        "start_time": "2022-08-04T16:07:06.949Z"
      },
      {
        "duration": 25,
        "start_time": "2022-08-04T16:07:06.988Z"
      },
      {
        "duration": 41,
        "start_time": "2022-08-04T16:07:07.015Z"
      },
      {
        "duration": 33,
        "start_time": "2022-08-04T16:07:07.057Z"
      },
      {
        "duration": 30,
        "start_time": "2022-08-04T16:07:07.093Z"
      },
      {
        "duration": 23,
        "start_time": "2022-08-04T16:07:07.124Z"
      },
      {
        "duration": 43,
        "start_time": "2022-08-04T16:07:07.149Z"
      },
      {
        "duration": 679,
        "start_time": "2022-08-04T16:07:07.193Z"
      },
      {
        "duration": 157,
        "start_time": "2022-08-04T16:07:07.874Z"
      },
      {
        "duration": 1505,
        "start_time": "2022-08-04T16:07:08.033Z"
      },
      {
        "duration": 1587,
        "start_time": "2022-08-04T17:21:26.560Z"
      },
      {
        "duration": 6,
        "start_time": "2022-08-04T17:21:28.149Z"
      },
      {
        "duration": 13,
        "start_time": "2022-08-04T17:21:28.157Z"
      },
      {
        "duration": 4,
        "start_time": "2022-08-04T17:21:28.172Z"
      },
      {
        "duration": 15,
        "start_time": "2022-08-04T17:21:28.177Z"
      },
      {
        "duration": 10,
        "start_time": "2022-08-04T17:21:28.193Z"
      },
      {
        "duration": 6,
        "start_time": "2022-08-04T17:21:28.205Z"
      },
      {
        "duration": 29,
        "start_time": "2022-08-04T17:21:28.213Z"
      },
      {
        "duration": 13,
        "start_time": "2022-08-04T17:21:28.244Z"
      },
      {
        "duration": 27,
        "start_time": "2022-08-04T17:21:28.259Z"
      },
      {
        "duration": 5,
        "start_time": "2022-08-04T17:21:28.288Z"
      },
      {
        "duration": 18,
        "start_time": "2022-08-04T17:21:28.294Z"
      },
      {
        "duration": 672,
        "start_time": "2022-08-04T17:21:28.314Z"
      },
      {
        "duration": 134,
        "start_time": "2022-08-04T17:21:28.988Z"
      },
      {
        "duration": 1539,
        "start_time": "2022-08-04T17:21:29.124Z"
      },
      {
        "duration": 147449,
        "start_time": "2022-08-04T17:21:30.665Z"
      },
      {
        "duration": 81,
        "start_time": "2022-08-04T17:23:58.116Z"
      },
      {
        "duration": 404,
        "start_time": "2022-08-04T17:23:58.199Z"
      },
      {
        "duration": 666,
        "start_time": "2022-08-04T17:23:58.688Z"
      },
      {
        "duration": 332,
        "start_time": "2022-08-04T17:23:59.356Z"
      },
      {
        "duration": 239,
        "start_time": "2022-08-04T17:23:59.690Z"
      },
      {
        "duration": 0,
        "start_time": "2022-08-04T17:23:59.931Z"
      },
      {
        "duration": 1,
        "start_time": "2022-08-04T17:23:59.932Z"
      },
      {
        "duration": 0,
        "start_time": "2022-08-04T17:23:59.933Z"
      },
      {
        "duration": 0,
        "start_time": "2022-08-04T17:23:59.934Z"
      },
      {
        "duration": 16,
        "start_time": "2022-08-04T17:26:58.339Z"
      },
      {
        "duration": 14,
        "start_time": "2022-08-04T17:27:24.718Z"
      },
      {
        "duration": 1363,
        "start_time": "2022-08-04T17:27:48.664Z"
      },
      {
        "duration": 5,
        "start_time": "2022-08-04T17:27:50.030Z"
      },
      {
        "duration": 15,
        "start_time": "2022-08-04T17:27:50.040Z"
      },
      {
        "duration": 3,
        "start_time": "2022-08-04T17:27:50.057Z"
      },
      {
        "duration": 25,
        "start_time": "2022-08-04T17:27:50.062Z"
      },
      {
        "duration": 10,
        "start_time": "2022-08-04T17:27:50.088Z"
      },
      {
        "duration": 45,
        "start_time": "2022-08-04T17:27:50.099Z"
      },
      {
        "duration": 37,
        "start_time": "2022-08-04T17:27:50.146Z"
      },
      {
        "duration": 12,
        "start_time": "2022-08-04T17:27:50.187Z"
      },
      {
        "duration": 3,
        "start_time": "2022-08-04T17:27:50.201Z"
      },
      {
        "duration": 14,
        "start_time": "2022-08-04T17:27:50.205Z"
      },
      {
        "duration": 31,
        "start_time": "2022-08-04T17:27:50.220Z"
      },
      {
        "duration": 645,
        "start_time": "2022-08-04T17:27:50.252Z"
      },
      {
        "duration": 125,
        "start_time": "2022-08-04T17:27:50.899Z"
      },
      {
        "duration": 1456,
        "start_time": "2022-08-04T17:27:51.026Z"
      },
      {
        "duration": 145652,
        "start_time": "2022-08-04T17:27:52.487Z"
      },
      {
        "duration": 50,
        "start_time": "2022-08-04T17:30:18.141Z"
      },
      {
        "duration": 496,
        "start_time": "2022-08-04T17:30:18.192Z"
      },
      {
        "duration": 664,
        "start_time": "2022-08-04T17:30:18.690Z"
      },
      {
        "duration": 334,
        "start_time": "2022-08-04T17:30:19.356Z"
      },
      {
        "duration": 208,
        "start_time": "2022-08-04T17:30:19.694Z"
      },
      {
        "duration": 0,
        "start_time": "2022-08-04T17:30:19.903Z"
      },
      {
        "duration": 0,
        "start_time": "2022-08-04T17:30:19.904Z"
      },
      {
        "duration": 0,
        "start_time": "2022-08-04T17:30:19.905Z"
      },
      {
        "duration": 0,
        "start_time": "2022-08-04T17:30:19.906Z"
      },
      {
        "duration": 44,
        "start_time": "2022-08-04T19:03:38.075Z"
      },
      {
        "duration": 1839,
        "start_time": "2022-08-04T19:03:49.926Z"
      },
      {
        "duration": 5,
        "start_time": "2022-08-04T19:03:51.767Z"
      },
      {
        "duration": 27,
        "start_time": "2022-08-04T19:03:51.773Z"
      },
      {
        "duration": 3,
        "start_time": "2022-08-04T19:03:51.802Z"
      },
      {
        "duration": 9,
        "start_time": "2022-08-04T19:03:51.807Z"
      },
      {
        "duration": 9,
        "start_time": "2022-08-04T19:03:51.818Z"
      },
      {
        "duration": 5,
        "start_time": "2022-08-04T19:03:51.828Z"
      },
      {
        "duration": 34,
        "start_time": "2022-08-04T19:03:51.834Z"
      },
      {
        "duration": 12,
        "start_time": "2022-08-04T19:03:51.870Z"
      },
      {
        "duration": 12,
        "start_time": "2022-08-04T19:03:51.883Z"
      },
      {
        "duration": 21,
        "start_time": "2022-08-04T19:03:51.897Z"
      },
      {
        "duration": 14,
        "start_time": "2022-08-04T19:03:51.919Z"
      },
      {
        "duration": 597,
        "start_time": "2022-08-04T19:03:51.935Z"
      },
      {
        "duration": 117,
        "start_time": "2022-08-04T19:03:52.534Z"
      },
      {
        "duration": 1364,
        "start_time": "2022-08-04T19:03:52.653Z"
      },
      {
        "duration": 136389,
        "start_time": "2022-08-04T19:03:54.019Z"
      },
      {
        "duration": 16,
        "start_time": "2022-08-04T19:06:10.409Z"
      },
      {
        "duration": 482,
        "start_time": "2022-08-04T19:06:10.427Z"
      },
      {
        "duration": 642,
        "start_time": "2022-08-04T19:06:10.911Z"
      },
      {
        "duration": 252,
        "start_time": "2022-08-04T19:06:11.555Z"
      },
      {
        "duration": 280,
        "start_time": "2022-08-04T19:06:11.809Z"
      },
      {
        "duration": 0,
        "start_time": "2022-08-04T19:06:12.091Z"
      },
      {
        "duration": 0,
        "start_time": "2022-08-04T19:06:12.092Z"
      },
      {
        "duration": 0,
        "start_time": "2022-08-04T19:06:12.093Z"
      },
      {
        "duration": 0,
        "start_time": "2022-08-04T19:06:12.106Z"
      },
      {
        "duration": 17,
        "start_time": "2022-08-04T19:07:39.793Z"
      },
      {
        "duration": 17,
        "start_time": "2022-08-04T19:07:48.300Z"
      },
      {
        "duration": 15,
        "start_time": "2022-08-04T19:08:04.050Z"
      },
      {
        "duration": 362,
        "start_time": "2022-08-04T19:08:23.647Z"
      },
      {
        "duration": 12,
        "start_time": "2022-08-04T19:09:10.992Z"
      },
      {
        "duration": 223,
        "start_time": "2022-08-04T19:09:22.789Z"
      },
      {
        "duration": 11,
        "start_time": "2022-08-04T19:10:17.427Z"
      },
      {
        "duration": 696,
        "start_time": "2022-08-04T19:10:27.382Z"
      },
      {
        "duration": 449,
        "start_time": "2022-08-04T19:10:45.260Z"
      },
      {
        "duration": 424,
        "start_time": "2022-08-04T19:11:01.783Z"
      },
      {
        "duration": 12,
        "start_time": "2022-08-04T19:11:32.348Z"
      },
      {
        "duration": 428,
        "start_time": "2022-08-04T19:11:56.083Z"
      },
      {
        "duration": 13,
        "start_time": "2022-08-04T19:12:13.262Z"
      },
      {
        "duration": 375,
        "start_time": "2022-08-04T19:12:16.736Z"
      },
      {
        "duration": 489,
        "start_time": "2022-08-04T19:18:57.219Z"
      },
      {
        "duration": 377,
        "start_time": "2022-08-04T19:19:22.735Z"
      },
      {
        "duration": 111,
        "start_time": "2022-08-04T19:20:01.252Z"
      },
      {
        "duration": 403,
        "start_time": "2022-08-04T19:20:11.706Z"
      },
      {
        "duration": 11,
        "start_time": "2022-08-04T19:33:30.965Z"
      },
      {
        "duration": 6502,
        "start_time": "2022-08-04T19:35:47.726Z"
      },
      {
        "duration": 9,
        "start_time": "2022-08-04T19:37:08.149Z"
      },
      {
        "duration": 3,
        "start_time": "2022-08-04T19:37:09.051Z"
      },
      {
        "duration": 5,
        "start_time": "2022-08-04T19:37:11.721Z"
      },
      {
        "duration": 12,
        "start_time": "2022-08-04T19:37:18.524Z"
      },
      {
        "duration": 582,
        "start_time": "2022-08-04T19:37:19.832Z"
      },
      {
        "duration": 173,
        "start_time": "2022-08-04T19:37:21.923Z"
      },
      {
        "duration": 1455,
        "start_time": "2022-08-04T19:37:27.392Z"
      },
      {
        "duration": 74,
        "start_time": "2022-08-04T19:41:02.007Z"
      },
      {
        "duration": 1281,
        "start_time": "2022-08-04T19:41:22.908Z"
      },
      {
        "duration": 4,
        "start_time": "2022-08-04T19:41:24.190Z"
      },
      {
        "duration": 22,
        "start_time": "2022-08-04T19:41:24.195Z"
      },
      {
        "duration": 6,
        "start_time": "2022-08-04T19:41:24.219Z"
      },
      {
        "duration": 6,
        "start_time": "2022-08-04T19:41:24.226Z"
      },
      {
        "duration": 8,
        "start_time": "2022-08-04T19:41:24.234Z"
      },
      {
        "duration": 5,
        "start_time": "2022-08-04T19:41:24.243Z"
      },
      {
        "duration": 22,
        "start_time": "2022-08-04T19:41:24.250Z"
      },
      {
        "duration": 33,
        "start_time": "2022-08-04T19:41:24.273Z"
      },
      {
        "duration": 3,
        "start_time": "2022-08-04T19:41:24.309Z"
      },
      {
        "duration": 7,
        "start_time": "2022-08-04T19:41:24.313Z"
      },
      {
        "duration": 12,
        "start_time": "2022-08-04T19:41:24.321Z"
      },
      {
        "duration": 601,
        "start_time": "2022-08-04T19:41:24.334Z"
      },
      {
        "duration": 122,
        "start_time": "2022-08-04T19:41:24.937Z"
      },
      {
        "duration": 1380,
        "start_time": "2022-08-04T19:41:25.061Z"
      },
      {
        "duration": 136430,
        "start_time": "2022-08-04T19:41:26.443Z"
      },
      {
        "duration": 32,
        "start_time": "2022-08-04T19:43:42.875Z"
      },
      {
        "duration": 406,
        "start_time": "2022-08-04T19:43:42.909Z"
      },
      {
        "duration": 546,
        "start_time": "2022-08-04T19:43:43.406Z"
      },
      {
        "duration": 260,
        "start_time": "2022-08-04T19:43:43.954Z"
      },
      {
        "duration": 191,
        "start_time": "2022-08-04T19:43:44.216Z"
      },
      {
        "duration": 500,
        "start_time": "2022-08-04T19:43:44.409Z"
      },
      {
        "duration": 12,
        "start_time": "2022-08-04T19:43:44.910Z"
      },
      {
        "duration": 285,
        "start_time": "2022-08-04T19:43:44.924Z"
      },
      {
        "duration": 737,
        "start_time": "2022-08-04T19:43:45.211Z"
      },
      {
        "duration": 452,
        "start_time": "2022-08-04T19:44:27.857Z"
      },
      {
        "duration": 672,
        "start_time": "2022-08-04T19:44:58.850Z"
      },
      {
        "duration": 902,
        "start_time": "2022-08-04T19:45:12.785Z"
      },
      {
        "duration": 824,
        "start_time": "2022-08-04T19:45:50.682Z"
      },
      {
        "duration": 958,
        "start_time": "2022-08-04T19:46:23.450Z"
      },
      {
        "duration": 406,
        "start_time": "2022-08-04T19:46:53.403Z"
      },
      {
        "duration": 1181,
        "start_time": "2022-08-04T19:47:27.189Z"
      },
      {
        "duration": 71,
        "start_time": "2022-08-04T19:54:38.942Z"
      },
      {
        "duration": 933,
        "start_time": "2022-08-04T19:56:23.674Z"
      },
      {
        "duration": 783,
        "start_time": "2022-08-04T19:57:52.698Z"
      },
      {
        "duration": 884,
        "start_time": "2022-08-04T19:59:41.316Z"
      },
      {
        "duration": 788,
        "start_time": "2022-08-04T20:00:54.090Z"
      },
      {
        "duration": 887,
        "start_time": "2022-08-04T20:01:21.841Z"
      },
      {
        "duration": 927,
        "start_time": "2022-08-04T20:03:24.215Z"
      },
      {
        "duration": 75,
        "start_time": "2022-08-04T20:03:50.218Z"
      },
      {
        "duration": 1498,
        "start_time": "2022-08-04T20:07:26.031Z"
      },
      {
        "duration": 9998,
        "start_time": "2022-08-04T20:07:37.462Z"
      },
      {
        "duration": 10616,
        "start_time": "2022-08-04T20:09:54.451Z"
      },
      {
        "duration": 11089,
        "start_time": "2022-08-04T20:10:25.330Z"
      },
      {
        "duration": 10716,
        "start_time": "2022-08-04T20:10:48.219Z"
      },
      {
        "duration": 1016,
        "start_time": "2022-08-04T20:14:34.918Z"
      },
      {
        "duration": 1114,
        "start_time": "2022-08-04T20:15:17.749Z"
      },
      {
        "duration": 1113,
        "start_time": "2022-08-04T20:15:53.254Z"
      },
      {
        "duration": 72,
        "start_time": "2022-08-04T20:26:47.829Z"
      },
      {
        "duration": 1424,
        "start_time": "2022-08-04T20:27:48.679Z"
      },
      {
        "duration": 4,
        "start_time": "2022-08-04T20:27:50.105Z"
      },
      {
        "duration": 15,
        "start_time": "2022-08-04T20:27:50.111Z"
      },
      {
        "duration": 4,
        "start_time": "2022-08-04T20:27:50.128Z"
      },
      {
        "duration": 8,
        "start_time": "2022-08-04T20:27:50.134Z"
      },
      {
        "duration": 7,
        "start_time": "2022-08-04T20:27:50.144Z"
      },
      {
        "duration": 6,
        "start_time": "2022-08-04T20:27:50.153Z"
      },
      {
        "duration": 26,
        "start_time": "2022-08-04T20:27:50.205Z"
      },
      {
        "duration": 9,
        "start_time": "2022-08-04T20:27:50.233Z"
      },
      {
        "duration": 3,
        "start_time": "2022-08-04T20:27:50.245Z"
      },
      {
        "duration": 7,
        "start_time": "2022-08-04T20:27:50.251Z"
      },
      {
        "duration": 52,
        "start_time": "2022-08-04T20:27:50.260Z"
      },
      {
        "duration": 635,
        "start_time": "2022-08-04T20:27:50.314Z"
      },
      {
        "duration": 122,
        "start_time": "2022-08-04T20:27:50.950Z"
      },
      {
        "duration": 1404,
        "start_time": "2022-08-04T20:27:51.074Z"
      },
      {
        "duration": 4298,
        "start_time": "2022-08-05T17:10:39.554Z"
      },
      {
        "duration": 4,
        "start_time": "2022-08-05T17:10:43.854Z"
      },
      {
        "duration": 17,
        "start_time": "2022-08-05T17:10:43.860Z"
      },
      {
        "duration": 4,
        "start_time": "2022-08-05T17:10:43.879Z"
      },
      {
        "duration": 7,
        "start_time": "2022-08-05T17:10:43.885Z"
      },
      {
        "duration": 8,
        "start_time": "2022-08-05T17:10:43.893Z"
      },
      {
        "duration": 39,
        "start_time": "2022-08-05T17:10:43.902Z"
      },
      {
        "duration": 25,
        "start_time": "2022-08-05T17:10:43.942Z"
      },
      {
        "duration": 9,
        "start_time": "2022-08-05T17:10:43.968Z"
      },
      {
        "duration": 4,
        "start_time": "2022-08-05T17:10:43.979Z"
      },
      {
        "duration": 12,
        "start_time": "2022-08-05T17:10:43.984Z"
      },
      {
        "duration": 14,
        "start_time": "2022-08-05T17:10:43.998Z"
      },
      {
        "duration": 748,
        "start_time": "2022-08-05T17:10:44.013Z"
      },
      {
        "duration": 131,
        "start_time": "2022-08-05T17:10:44.763Z"
      },
      {
        "duration": 1549,
        "start_time": "2022-08-05T17:10:44.895Z"
      },
      {
        "duration": 148897,
        "start_time": "2022-08-05T17:10:46.446Z"
      },
      {
        "duration": 19,
        "start_time": "2022-08-05T17:13:15.345Z"
      },
      {
        "duration": 803,
        "start_time": "2022-08-05T17:13:15.440Z"
      },
      {
        "duration": 1151,
        "start_time": "2022-08-05T17:13:16.245Z"
      },
      {
        "duration": 741,
        "start_time": "2022-08-05T17:13:17.397Z"
      },
      {
        "duration": 99,
        "start_time": "2022-08-05T17:13:18.141Z"
      },
      {
        "duration": 1100,
        "start_time": "2022-08-05T17:13:18.241Z"
      },
      {
        "duration": 105,
        "start_time": "2022-08-05T17:13:19.343Z"
      },
      {
        "duration": 416,
        "start_time": "2022-08-05T17:13:19.449Z"
      },
      {
        "duration": 1356,
        "start_time": "2022-08-05T17:13:19.940Z"
      },
      {
        "duration": 863,
        "start_time": "2022-08-05T17:13:21.298Z"
      },
      {
        "duration": 967,
        "start_time": "2022-08-05T17:13:22.162Z"
      },
      {
        "duration": 11638,
        "start_time": "2022-08-05T17:13:23.132Z"
      },
      {
        "duration": 10522,
        "start_time": "2022-08-05T17:13:34.772Z"
      },
      {
        "duration": 1201,
        "start_time": "2022-08-05T17:13:45.296Z"
      },
      {
        "duration": 58,
        "start_time": "2022-08-05T18:45:49.850Z"
      },
      {
        "duration": 43,
        "start_time": "2022-08-05T18:53:59.798Z"
      },
      {
        "duration": 1611,
        "start_time": "2022-08-05T18:54:16.143Z"
      },
      {
        "duration": 6,
        "start_time": "2022-08-05T18:54:17.756Z"
      },
      {
        "duration": 31,
        "start_time": "2022-08-05T18:54:17.763Z"
      },
      {
        "duration": 4,
        "start_time": "2022-08-05T18:54:17.796Z"
      },
      {
        "duration": 9,
        "start_time": "2022-08-05T18:54:17.801Z"
      },
      {
        "duration": 11,
        "start_time": "2022-08-05T18:54:17.811Z"
      },
      {
        "duration": 9,
        "start_time": "2022-08-05T18:54:17.824Z"
      },
      {
        "duration": 69,
        "start_time": "2022-08-05T18:54:17.834Z"
      },
      {
        "duration": 135,
        "start_time": "2022-08-05T18:54:17.904Z"
      },
      {
        "duration": 0,
        "start_time": "2022-08-05T18:54:18.041Z"
      },
      {
        "duration": 0,
        "start_time": "2022-08-05T18:54:18.042Z"
      },
      {
        "duration": 0,
        "start_time": "2022-08-05T18:54:18.043Z"
      },
      {
        "duration": 0,
        "start_time": "2022-08-05T18:54:18.044Z"
      },
      {
        "duration": 0,
        "start_time": "2022-08-05T18:54:18.045Z"
      },
      {
        "duration": 0,
        "start_time": "2022-08-05T18:54:18.047Z"
      },
      {
        "duration": 0,
        "start_time": "2022-08-05T18:54:18.048Z"
      },
      {
        "duration": 0,
        "start_time": "2022-08-05T18:54:18.049Z"
      },
      {
        "duration": 0,
        "start_time": "2022-08-05T18:54:18.050Z"
      },
      {
        "duration": 0,
        "start_time": "2022-08-05T18:54:18.051Z"
      },
      {
        "duration": 0,
        "start_time": "2022-08-05T18:54:18.052Z"
      },
      {
        "duration": 0,
        "start_time": "2022-08-05T18:54:18.053Z"
      },
      {
        "duration": 0,
        "start_time": "2022-08-05T18:54:18.054Z"
      },
      {
        "duration": 0,
        "start_time": "2022-08-05T18:54:18.055Z"
      },
      {
        "duration": 0,
        "start_time": "2022-08-05T18:54:18.056Z"
      },
      {
        "duration": 0,
        "start_time": "2022-08-05T18:54:18.058Z"
      },
      {
        "duration": 0,
        "start_time": "2022-08-05T18:54:18.087Z"
      },
      {
        "duration": 0,
        "start_time": "2022-08-05T18:54:18.088Z"
      },
      {
        "duration": 0,
        "start_time": "2022-08-05T18:54:18.090Z"
      },
      {
        "duration": 0,
        "start_time": "2022-08-05T18:54:18.091Z"
      },
      {
        "duration": 0,
        "start_time": "2022-08-05T18:54:18.092Z"
      },
      {
        "duration": 11,
        "start_time": "2022-08-05T18:54:48.981Z"
      },
      {
        "duration": 12,
        "start_time": "2022-08-05T18:55:49.159Z"
      },
      {
        "duration": 9,
        "start_time": "2022-08-05T19:02:08.289Z"
      },
      {
        "duration": 9,
        "start_time": "2022-08-05T19:02:30.351Z"
      },
      {
        "duration": 56,
        "start_time": "2022-08-05T19:03:36.450Z"
      },
      {
        "duration": 1424,
        "start_time": "2022-08-05T19:04:04.451Z"
      },
      {
        "duration": 5,
        "start_time": "2022-08-05T19:04:05.877Z"
      },
      {
        "duration": 15,
        "start_time": "2022-08-05T19:04:05.883Z"
      },
      {
        "duration": 4,
        "start_time": "2022-08-05T19:04:05.900Z"
      },
      {
        "duration": 18,
        "start_time": "2022-08-05T19:04:05.905Z"
      },
      {
        "duration": 11,
        "start_time": "2022-08-05T19:04:05.925Z"
      },
      {
        "duration": 10,
        "start_time": "2022-08-05T19:04:05.938Z"
      },
      {
        "duration": 33,
        "start_time": "2022-08-05T19:04:05.987Z"
      },
      {
        "duration": 11,
        "start_time": "2022-08-05T19:04:06.022Z"
      },
      {
        "duration": 4,
        "start_time": "2022-08-05T19:04:06.036Z"
      },
      {
        "duration": 47,
        "start_time": "2022-08-05T19:04:06.042Z"
      },
      {
        "duration": 19,
        "start_time": "2022-08-05T19:04:06.091Z"
      },
      {
        "duration": 807,
        "start_time": "2022-08-05T19:04:06.111Z"
      },
      {
        "duration": 140,
        "start_time": "2022-08-05T19:04:06.920Z"
      },
      {
        "duration": 1610,
        "start_time": "2022-08-05T19:04:07.061Z"
      },
      {
        "duration": 146224,
        "start_time": "2022-08-05T19:04:08.673Z"
      },
      {
        "duration": 20,
        "start_time": "2022-08-05T19:06:34.899Z"
      },
      {
        "duration": 811,
        "start_time": "2022-08-05T19:06:34.989Z"
      },
      {
        "duration": 1260,
        "start_time": "2022-08-05T19:06:35.801Z"
      },
      {
        "duration": 729,
        "start_time": "2022-08-05T19:06:37.063Z"
      },
      {
        "duration": 107,
        "start_time": "2022-08-05T19:06:37.794Z"
      },
      {
        "duration": 989,
        "start_time": "2022-08-05T19:06:37.903Z"
      },
      {
        "duration": 102,
        "start_time": "2022-08-05T19:06:38.895Z"
      },
      {
        "duration": 400,
        "start_time": "2022-08-05T19:06:38.999Z"
      },
      {
        "duration": 1361,
        "start_time": "2022-08-05T19:06:39.488Z"
      },
      {
        "duration": 850,
        "start_time": "2022-08-05T19:06:40.851Z"
      },
      {
        "duration": 930,
        "start_time": "2022-08-05T19:06:41.703Z"
      },
      {
        "duration": 11202,
        "start_time": "2022-08-05T19:06:42.638Z"
      },
      {
        "duration": 10241,
        "start_time": "2022-08-05T19:06:53.842Z"
      },
      {
        "duration": 1202,
        "start_time": "2022-08-05T19:07:04.085Z"
      },
      {
        "duration": 6,
        "start_time": "2022-08-05T19:07:12.551Z"
      },
      {
        "duration": 108,
        "start_time": "2022-08-05T19:47:30.527Z"
      },
      {
        "duration": 18,
        "start_time": "2022-08-05T19:47:43.654Z"
      },
      {
        "duration": 1404,
        "start_time": "2022-08-05T19:48:13.905Z"
      },
      {
        "duration": 5,
        "start_time": "2022-08-05T19:48:15.311Z"
      },
      {
        "duration": 17,
        "start_time": "2022-08-05T19:48:15.318Z"
      },
      {
        "duration": 4,
        "start_time": "2022-08-05T19:48:15.337Z"
      },
      {
        "duration": 8,
        "start_time": "2022-08-05T19:48:15.342Z"
      },
      {
        "duration": 50,
        "start_time": "2022-08-05T19:48:15.352Z"
      },
      {
        "duration": 6,
        "start_time": "2022-08-05T19:48:15.403Z"
      },
      {
        "duration": 28,
        "start_time": "2022-08-05T19:48:15.411Z"
      },
      {
        "duration": 9,
        "start_time": "2022-08-05T19:48:15.441Z"
      },
      {
        "duration": 4,
        "start_time": "2022-08-05T19:48:15.452Z"
      },
      {
        "duration": 16,
        "start_time": "2022-08-05T19:48:15.487Z"
      },
      {
        "duration": 14,
        "start_time": "2022-08-05T19:48:15.504Z"
      },
      {
        "duration": 121,
        "start_time": "2022-08-05T19:48:15.519Z"
      },
      {
        "duration": 0,
        "start_time": "2022-08-05T19:48:15.641Z"
      },
      {
        "duration": 0,
        "start_time": "2022-08-05T19:48:15.643Z"
      },
      {
        "duration": 0,
        "start_time": "2022-08-05T19:48:15.644Z"
      },
      {
        "duration": 0,
        "start_time": "2022-08-05T19:48:15.645Z"
      },
      {
        "duration": 0,
        "start_time": "2022-08-05T19:48:15.646Z"
      },
      {
        "duration": 0,
        "start_time": "2022-08-05T19:48:15.647Z"
      },
      {
        "duration": 0,
        "start_time": "2022-08-05T19:48:15.647Z"
      },
      {
        "duration": 0,
        "start_time": "2022-08-05T19:48:15.649Z"
      },
      {
        "duration": 0,
        "start_time": "2022-08-05T19:48:15.650Z"
      },
      {
        "duration": 0,
        "start_time": "2022-08-05T19:48:15.651Z"
      },
      {
        "duration": 0,
        "start_time": "2022-08-05T19:48:15.652Z"
      },
      {
        "duration": 0,
        "start_time": "2022-08-05T19:48:15.653Z"
      },
      {
        "duration": 0,
        "start_time": "2022-08-05T19:48:15.654Z"
      },
      {
        "duration": 0,
        "start_time": "2022-08-05T19:48:15.655Z"
      },
      {
        "duration": 0,
        "start_time": "2022-08-05T19:48:15.656Z"
      },
      {
        "duration": 0,
        "start_time": "2022-08-05T19:48:15.657Z"
      },
      {
        "duration": 1417,
        "start_time": "2022-08-05T19:52:09.885Z"
      },
      {
        "duration": 6,
        "start_time": "2022-08-05T19:52:11.304Z"
      },
      {
        "duration": 16,
        "start_time": "2022-08-05T19:52:11.314Z"
      },
      {
        "duration": 3,
        "start_time": "2022-08-05T19:52:11.332Z"
      },
      {
        "duration": 9,
        "start_time": "2022-08-05T19:52:11.337Z"
      },
      {
        "duration": 12,
        "start_time": "2022-08-05T19:52:11.348Z"
      },
      {
        "duration": 27,
        "start_time": "2022-08-05T19:52:11.361Z"
      },
      {
        "duration": 25,
        "start_time": "2022-08-05T19:52:11.394Z"
      },
      {
        "duration": 11,
        "start_time": "2022-08-05T19:52:11.421Z"
      },
      {
        "duration": 4,
        "start_time": "2022-08-05T19:52:11.433Z"
      },
      {
        "duration": 1372,
        "start_time": "2022-08-05T19:54:13.811Z"
      },
      {
        "duration": 5,
        "start_time": "2022-08-05T19:54:15.185Z"
      },
      {
        "duration": 18,
        "start_time": "2022-08-05T19:54:15.191Z"
      },
      {
        "duration": 4,
        "start_time": "2022-08-05T19:54:15.211Z"
      },
      {
        "duration": 9,
        "start_time": "2022-08-05T19:54:15.216Z"
      },
      {
        "duration": 9,
        "start_time": "2022-08-05T19:54:15.226Z"
      },
      {
        "duration": 6,
        "start_time": "2022-08-05T19:54:15.237Z"
      },
      {
        "duration": 65,
        "start_time": "2022-08-05T19:54:15.244Z"
      },
      {
        "duration": 9,
        "start_time": "2022-08-05T19:54:15.311Z"
      },
      {
        "duration": 10,
        "start_time": "2022-08-05T19:54:15.322Z"
      },
      {
        "duration": 12,
        "start_time": "2022-08-05T19:54:15.333Z"
      },
      {
        "duration": 116785,
        "start_time": "2022-08-05T19:54:15.347Z"
      },
      {
        "duration": 13,
        "start_time": "2022-08-05T19:56:12.134Z"
      },
      {
        "duration": 1542,
        "start_time": "2022-08-05T19:56:12.149Z"
      },
      {
        "duration": 151396,
        "start_time": "2022-08-05T19:56:13.702Z"
      },
      {
        "duration": 93,
        "start_time": "2022-08-05T19:58:45.100Z"
      },
      {
        "duration": 797,
        "start_time": "2022-08-05T19:58:45.195Z"
      },
      {
        "duration": 1149,
        "start_time": "2022-08-05T19:58:45.995Z"
      },
      {
        "duration": 755,
        "start_time": "2022-08-05T19:58:47.146Z"
      },
      {
        "duration": 207,
        "start_time": "2022-08-05T19:58:47.903Z"
      },
      {
        "duration": 0,
        "start_time": "2022-08-05T19:58:48.111Z"
      },
      {
        "duration": 0,
        "start_time": "2022-08-05T19:58:48.112Z"
      },
      {
        "duration": 0,
        "start_time": "2022-08-05T19:58:48.113Z"
      },
      {
        "duration": 0,
        "start_time": "2022-08-05T19:58:48.115Z"
      },
      {
        "duration": 0,
        "start_time": "2022-08-05T19:58:48.116Z"
      },
      {
        "duration": 0,
        "start_time": "2022-08-05T19:58:48.117Z"
      },
      {
        "duration": 0,
        "start_time": "2022-08-05T19:58:48.118Z"
      },
      {
        "duration": 0,
        "start_time": "2022-08-05T19:58:48.119Z"
      },
      {
        "duration": 0,
        "start_time": "2022-08-05T19:58:48.121Z"
      },
      {
        "duration": 116105,
        "start_time": "2022-08-05T20:11:57.472Z"
      },
      {
        "duration": 19,
        "start_time": "2022-08-05T20:13:53.579Z"
      },
      {
        "duration": 16,
        "start_time": "2022-08-05T20:14:48.503Z"
      },
      {
        "duration": 14,
        "start_time": "2022-08-05T20:16:25.980Z"
      },
      {
        "duration": 1376,
        "start_time": "2022-08-05T20:18:57.452Z"
      },
      {
        "duration": 5,
        "start_time": "2022-08-05T20:18:58.830Z"
      },
      {
        "duration": 25,
        "start_time": "2022-08-05T20:18:58.837Z"
      },
      {
        "duration": 7,
        "start_time": "2022-08-05T20:18:58.864Z"
      },
      {
        "duration": 7,
        "start_time": "2022-08-05T20:18:58.886Z"
      },
      {
        "duration": 12,
        "start_time": "2022-08-05T20:18:58.895Z"
      },
      {
        "duration": 7,
        "start_time": "2022-08-05T20:18:58.908Z"
      },
      {
        "duration": 30,
        "start_time": "2022-08-05T20:18:58.917Z"
      },
      {
        "duration": 46,
        "start_time": "2022-08-05T20:18:58.949Z"
      },
      {
        "duration": 5,
        "start_time": "2022-08-05T20:18:58.999Z"
      },
      {
        "duration": 14,
        "start_time": "2022-08-05T20:18:59.006Z"
      },
      {
        "duration": 117331,
        "start_time": "2022-08-05T20:18:59.021Z"
      },
      {
        "duration": 13,
        "start_time": "2022-08-05T20:20:56.354Z"
      },
      {
        "duration": 1500,
        "start_time": "2022-08-05T20:20:56.369Z"
      },
      {
        "duration": 147461,
        "start_time": "2022-08-05T20:20:57.871Z"
      },
      {
        "duration": 152,
        "start_time": "2022-08-05T20:23:25.334Z"
      },
      {
        "duration": 809,
        "start_time": "2022-08-05T20:23:25.489Z"
      },
      {
        "duration": 1105,
        "start_time": "2022-08-05T20:23:26.388Z"
      },
      {
        "duration": 794,
        "start_time": "2022-08-05T20:23:27.495Z"
      },
      {
        "duration": 104,
        "start_time": "2022-08-05T20:23:28.292Z"
      },
      {
        "duration": 992,
        "start_time": "2022-08-05T20:23:28.398Z"
      },
      {
        "duration": 101,
        "start_time": "2022-08-05T20:23:29.393Z"
      },
      {
        "duration": 591,
        "start_time": "2022-08-05T20:23:29.496Z"
      },
      {
        "duration": 1268,
        "start_time": "2022-08-05T20:23:30.090Z"
      },
      {
        "duration": 845,
        "start_time": "2022-08-05T20:23:31.361Z"
      },
      {
        "duration": 949,
        "start_time": "2022-08-05T20:23:32.208Z"
      },
      {
        "duration": 11337,
        "start_time": "2022-08-05T20:23:33.158Z"
      },
      {
        "duration": 10195,
        "start_time": "2022-08-05T20:23:44.498Z"
      },
      {
        "duration": 1089,
        "start_time": "2022-08-05T20:23:54.695Z"
      },
      {
        "duration": 830,
        "start_time": "2022-08-05T20:24:30.222Z"
      },
      {
        "duration": 78,
        "start_time": "2022-08-05T20:26:14.610Z"
      },
      {
        "duration": 146,
        "start_time": "2022-08-05T20:40:30.842Z"
      },
      {
        "duration": 879,
        "start_time": "2022-08-05T20:42:03.311Z"
      },
      {
        "duration": 1091,
        "start_time": "2022-08-05T20:43:28.607Z"
      },
      {
        "duration": 1104,
        "start_time": "2022-08-05T20:43:54.904Z"
      },
      {
        "duration": 488,
        "start_time": "2022-08-05T20:44:46.503Z"
      },
      {
        "duration": 52,
        "start_time": "2022-08-05T20:47:54.754Z"
      },
      {
        "duration": 48,
        "start_time": "2022-08-05T20:52:39.332Z"
      },
      {
        "duration": 1410,
        "start_time": "2022-08-05T20:53:00.291Z"
      },
      {
        "duration": 5,
        "start_time": "2022-08-05T20:53:01.703Z"
      },
      {
        "duration": 23,
        "start_time": "2022-08-05T20:53:01.710Z"
      },
      {
        "duration": 14,
        "start_time": "2022-08-05T20:53:01.735Z"
      },
      {
        "duration": 19,
        "start_time": "2022-08-05T20:53:01.751Z"
      },
      {
        "duration": 24,
        "start_time": "2022-08-05T20:53:01.772Z"
      },
      {
        "duration": 18,
        "start_time": "2022-08-05T20:53:01.797Z"
      },
      {
        "duration": 41,
        "start_time": "2022-08-05T20:53:01.816Z"
      },
      {
        "duration": 38,
        "start_time": "2022-08-05T20:53:01.859Z"
      },
      {
        "duration": 4,
        "start_time": "2022-08-05T20:53:01.900Z"
      },
      {
        "duration": 19,
        "start_time": "2022-08-05T20:53:01.906Z"
      },
      {
        "duration": 117244,
        "start_time": "2022-08-05T20:53:01.926Z"
      },
      {
        "duration": 21,
        "start_time": "2022-08-05T20:54:59.171Z"
      },
      {
        "duration": 1501,
        "start_time": "2022-08-05T20:54:59.193Z"
      },
      {
        "duration": 151866,
        "start_time": "2022-08-05T20:55:00.696Z"
      },
      {
        "duration": 123,
        "start_time": "2022-08-05T20:57:32.564Z"
      },
      {
        "duration": 802,
        "start_time": "2022-08-05T20:57:32.690Z"
      },
      {
        "duration": 1053,
        "start_time": "2022-08-05T20:57:33.495Z"
      },
      {
        "duration": 839,
        "start_time": "2022-08-05T20:57:34.550Z"
      },
      {
        "duration": 13,
        "start_time": "2022-08-05T20:57:35.391Z"
      },
      {
        "duration": 1098,
        "start_time": "2022-08-05T20:57:35.405Z"
      },
      {
        "duration": 101,
        "start_time": "2022-08-05T20:57:36.586Z"
      },
      {
        "duration": 504,
        "start_time": "2022-08-05T20:57:36.689Z"
      },
      {
        "duration": 1353,
        "start_time": "2022-08-05T20:57:37.196Z"
      },
      {
        "duration": 868,
        "start_time": "2022-08-05T20:57:38.551Z"
      },
      {
        "duration": 990,
        "start_time": "2022-08-05T20:57:39.421Z"
      },
      {
        "duration": 11458,
        "start_time": "2022-08-05T20:57:40.413Z"
      },
      {
        "duration": 10525,
        "start_time": "2022-08-05T20:57:51.874Z"
      },
      {
        "duration": 1238,
        "start_time": "2022-08-05T20:58:02.401Z"
      },
      {
        "duration": 65,
        "start_time": "2022-08-05T21:02:40.458Z"
      },
      {
        "duration": 51,
        "start_time": "2022-08-06T20:33:42.946Z"
      },
      {
        "duration": 1581,
        "start_time": "2022-08-06T20:47:34.742Z"
      },
      {
        "duration": 9,
        "start_time": "2022-08-06T20:47:36.326Z"
      },
      {
        "duration": 30,
        "start_time": "2022-08-06T20:47:36.336Z"
      },
      {
        "duration": 19,
        "start_time": "2022-08-06T20:47:36.369Z"
      },
      {
        "duration": 15,
        "start_time": "2022-08-06T20:47:36.390Z"
      },
      {
        "duration": 24,
        "start_time": "2022-08-06T20:47:36.407Z"
      },
      {
        "duration": 16,
        "start_time": "2022-08-06T20:47:36.433Z"
      },
      {
        "duration": 37,
        "start_time": "2022-08-06T20:47:36.451Z"
      },
      {
        "duration": 18,
        "start_time": "2022-08-06T20:47:36.491Z"
      },
      {
        "duration": 5,
        "start_time": "2022-08-06T20:47:36.512Z"
      },
      {
        "duration": 19,
        "start_time": "2022-08-06T20:47:36.518Z"
      },
      {
        "duration": 120082,
        "start_time": "2022-08-06T20:47:36.539Z"
      },
      {
        "duration": 127,
        "start_time": "2022-08-06T20:49:36.622Z"
      },
      {
        "duration": 0,
        "start_time": "2022-08-06T20:49:36.751Z"
      },
      {
        "duration": 0,
        "start_time": "2022-08-06T20:49:36.753Z"
      },
      {
        "duration": 0,
        "start_time": "2022-08-06T20:49:36.754Z"
      },
      {
        "duration": 0,
        "start_time": "2022-08-06T20:49:36.756Z"
      },
      {
        "duration": 0,
        "start_time": "2022-08-06T20:49:36.758Z"
      },
      {
        "duration": 0,
        "start_time": "2022-08-06T20:49:36.760Z"
      },
      {
        "duration": 0,
        "start_time": "2022-08-06T20:49:36.761Z"
      },
      {
        "duration": 0,
        "start_time": "2022-08-06T20:49:36.762Z"
      },
      {
        "duration": 0,
        "start_time": "2022-08-06T20:49:36.764Z"
      },
      {
        "duration": 0,
        "start_time": "2022-08-06T20:49:36.788Z"
      },
      {
        "duration": 0,
        "start_time": "2022-08-06T20:49:36.790Z"
      },
      {
        "duration": 0,
        "start_time": "2022-08-06T20:49:36.791Z"
      },
      {
        "duration": 0,
        "start_time": "2022-08-06T20:49:36.793Z"
      },
      {
        "duration": 0,
        "start_time": "2022-08-06T20:49:36.795Z"
      },
      {
        "duration": 0,
        "start_time": "2022-08-06T20:49:36.796Z"
      },
      {
        "duration": 0,
        "start_time": "2022-08-06T20:49:36.798Z"
      },
      {
        "duration": 3,
        "start_time": "2022-08-06T20:53:48.403Z"
      },
      {
        "duration": 59,
        "start_time": "2022-08-06T20:54:01.226Z"
      },
      {
        "duration": 5,
        "start_time": "2022-08-06T20:54:06.909Z"
      },
      {
        "duration": 17,
        "start_time": "2022-08-06T20:54:22.481Z"
      },
      {
        "duration": 2,
        "start_time": "2022-08-06T20:54:30.831Z"
      },
      {
        "duration": 5,
        "start_time": "2022-08-06T20:54:32.791Z"
      },
      {
        "duration": 13,
        "start_time": "2022-08-06T20:54:37.101Z"
      },
      {
        "duration": 11,
        "start_time": "2022-08-06T20:54:56.171Z"
      },
      {
        "duration": 11,
        "start_time": "2022-08-06T20:55:58.857Z"
      },
      {
        "duration": 9,
        "start_time": "2022-08-06T20:56:19.909Z"
      },
      {
        "duration": 12,
        "start_time": "2022-08-06T20:56:27.355Z"
      },
      {
        "duration": 11,
        "start_time": "2022-08-06T20:56:38.136Z"
      },
      {
        "duration": 11,
        "start_time": "2022-08-06T20:59:29.038Z"
      },
      {
        "duration": 7,
        "start_time": "2022-08-06T20:59:30.636Z"
      },
      {
        "duration": 10,
        "start_time": "2022-08-06T20:59:45.224Z"
      },
      {
        "duration": 10,
        "start_time": "2022-08-06T21:02:27.221Z"
      },
      {
        "duration": 11,
        "start_time": "2022-08-06T21:02:46.017Z"
      },
      {
        "duration": 8,
        "start_time": "2022-08-06T21:05:40.796Z"
      },
      {
        "duration": 10,
        "start_time": "2022-08-06T21:06:27.042Z"
      },
      {
        "duration": 67,
        "start_time": "2022-08-06T21:08:17.636Z"
      },
      {
        "duration": 10,
        "start_time": "2022-08-06T21:08:22.703Z"
      },
      {
        "duration": 993,
        "start_time": "2022-08-06T21:08:29.462Z"
      },
      {
        "duration": 935,
        "start_time": "2022-08-06T21:08:52.945Z"
      },
      {
        "duration": 5,
        "start_time": "2022-08-06T21:09:02.430Z"
      },
      {
        "duration": 6,
        "start_time": "2022-08-06T21:09:08.568Z"
      },
      {
        "duration": 3,
        "start_time": "2022-08-06T21:09:10.430Z"
      },
      {
        "duration": 5,
        "start_time": "2022-08-06T21:09:11.861Z"
      },
      {
        "duration": 11,
        "start_time": "2022-08-06T21:09:13.303Z"
      },
      {
        "duration": 3,
        "start_time": "2022-08-06T21:12:00.003Z"
      },
      {
        "duration": 15,
        "start_time": "2022-08-06T21:20:45.037Z"
      },
      {
        "duration": 29,
        "start_time": "2022-08-06T21:21:08.570Z"
      },
      {
        "duration": 125,
        "start_time": "2022-08-06T21:22:23.384Z"
      },
      {
        "duration": 65,
        "start_time": "2022-08-06T21:24:07.963Z"
      },
      {
        "duration": 35,
        "start_time": "2022-08-06T21:28:04.782Z"
      },
      {
        "duration": 61,
        "start_time": "2022-08-06T21:28:13.911Z"
      },
      {
        "duration": 94,
        "start_time": "2022-08-06T21:29:28.962Z"
      },
      {
        "duration": 1680,
        "start_time": "2022-08-06T21:29:57.000Z"
      },
      {
        "duration": 150350,
        "start_time": "2022-08-06T21:30:34.380Z"
      },
      {
        "duration": 45,
        "start_time": "2022-08-06T21:37:54.940Z"
      },
      {
        "duration": 43,
        "start_time": "2022-08-07T10:40:51.825Z"
      },
      {
        "duration": 1536,
        "start_time": "2022-08-07T10:40:59.541Z"
      },
      {
        "duration": 5,
        "start_time": "2022-08-07T10:41:01.079Z"
      },
      {
        "duration": 29,
        "start_time": "2022-08-07T10:41:01.085Z"
      },
      {
        "duration": 17,
        "start_time": "2022-08-07T10:41:01.116Z"
      },
      {
        "duration": 27,
        "start_time": "2022-08-07T10:41:01.135Z"
      },
      {
        "duration": 43,
        "start_time": "2022-08-07T10:41:01.164Z"
      },
      {
        "duration": 45,
        "start_time": "2022-08-07T10:41:01.208Z"
      },
      {
        "duration": 15,
        "start_time": "2022-08-07T10:41:01.255Z"
      },
      {
        "duration": 35,
        "start_time": "2022-08-07T10:41:01.272Z"
      },
      {
        "duration": 32,
        "start_time": "2022-08-07T10:41:01.311Z"
      },
      {
        "duration": 46,
        "start_time": "2022-08-07T10:41:01.345Z"
      },
      {
        "duration": 12,
        "start_time": "2022-08-07T10:41:01.393Z"
      },
      {
        "duration": 31,
        "start_time": "2022-08-07T10:41:01.407Z"
      },
      {
        "duration": 11,
        "start_time": "2022-08-07T10:42:48.335Z"
      },
      {
        "duration": 6,
        "start_time": "2022-08-07T10:42:48.348Z"
      },
      {
        "duration": 104,
        "start_time": "2022-08-07T10:42:48.355Z"
      },
      {
        "duration": 0,
        "start_time": "2022-08-07T10:42:48.461Z"
      },
      {
        "duration": 0,
        "start_time": "2022-08-07T10:42:48.462Z"
      },
      {
        "duration": 0,
        "start_time": "2022-08-07T10:42:48.463Z"
      },
      {
        "duration": 0,
        "start_time": "2022-08-07T10:42:48.464Z"
      },
      {
        "duration": 0,
        "start_time": "2022-08-07T10:42:48.465Z"
      },
      {
        "duration": 0,
        "start_time": "2022-08-07T10:42:48.466Z"
      },
      {
        "duration": 0,
        "start_time": "2022-08-07T10:42:48.466Z"
      },
      {
        "duration": 0,
        "start_time": "2022-08-07T10:42:48.467Z"
      },
      {
        "duration": 0,
        "start_time": "2022-08-07T10:42:48.468Z"
      },
      {
        "duration": 0,
        "start_time": "2022-08-07T10:42:48.469Z"
      },
      {
        "duration": 0,
        "start_time": "2022-08-07T10:42:48.470Z"
      },
      {
        "duration": 0,
        "start_time": "2022-08-07T10:42:48.471Z"
      },
      {
        "duration": 0,
        "start_time": "2022-08-07T10:42:48.472Z"
      },
      {
        "duration": 0,
        "start_time": "2022-08-07T10:42:48.473Z"
      },
      {
        "duration": 0,
        "start_time": "2022-08-07T10:42:48.474Z"
      },
      {
        "duration": 0,
        "start_time": "2022-08-07T10:42:48.500Z"
      },
      {
        "duration": 120,
        "start_time": "2022-08-07T10:42:54.263Z"
      },
      {
        "duration": 3,
        "start_time": "2022-08-07T10:44:08.741Z"
      },
      {
        "duration": 4,
        "start_time": "2022-08-07T10:58:18.099Z"
      },
      {
        "duration": 1359,
        "start_time": "2022-08-07T11:14:10.830Z"
      },
      {
        "duration": 4,
        "start_time": "2022-08-07T11:14:12.191Z"
      },
      {
        "duration": 15,
        "start_time": "2022-08-07T11:14:12.196Z"
      },
      {
        "duration": 3,
        "start_time": "2022-08-07T11:14:12.213Z"
      },
      {
        "duration": 8,
        "start_time": "2022-08-07T11:14:12.217Z"
      },
      {
        "duration": 9,
        "start_time": "2022-08-07T11:14:12.227Z"
      },
      {
        "duration": 7,
        "start_time": "2022-08-07T11:14:12.237Z"
      },
      {
        "duration": 4,
        "start_time": "2022-08-07T11:14:12.246Z"
      },
      {
        "duration": 9,
        "start_time": "2022-08-07T11:14:12.251Z"
      },
      {
        "duration": 7,
        "start_time": "2022-08-07T11:14:12.263Z"
      },
      {
        "duration": 39,
        "start_time": "2022-08-07T11:14:12.271Z"
      },
      {
        "duration": 12,
        "start_time": "2022-08-07T11:14:12.311Z"
      },
      {
        "duration": 4,
        "start_time": "2022-08-07T11:14:12.325Z"
      },
      {
        "duration": 125,
        "start_time": "2022-08-07T11:14:12.331Z"
      },
      {
        "duration": 11,
        "start_time": "2022-08-07T11:14:12.457Z"
      },
      {
        "duration": 2,
        "start_time": "2022-08-07T11:14:12.469Z"
      },
      {
        "duration": 6,
        "start_time": "2022-08-07T11:14:12.473Z"
      },
      {
        "duration": 1387,
        "start_time": "2022-08-07T11:14:12.480Z"
      },
      {
        "duration": 133544,
        "start_time": "2022-08-07T11:14:13.868Z"
      },
      {
        "duration": 71,
        "start_time": "2022-08-07T11:16:27.414Z"
      },
      {
        "duration": 0,
        "start_time": "2022-08-07T11:16:27.487Z"
      },
      {
        "duration": 0,
        "start_time": "2022-08-07T11:16:27.489Z"
      },
      {
        "duration": 0,
        "start_time": "2022-08-07T11:16:27.490Z"
      },
      {
        "duration": 0,
        "start_time": "2022-08-07T11:16:27.492Z"
      },
      {
        "duration": 0,
        "start_time": "2022-08-07T11:16:27.493Z"
      },
      {
        "duration": 0,
        "start_time": "2022-08-07T11:16:27.495Z"
      },
      {
        "duration": 0,
        "start_time": "2022-08-07T11:16:27.496Z"
      },
      {
        "duration": 0,
        "start_time": "2022-08-07T11:16:27.497Z"
      },
      {
        "duration": 0,
        "start_time": "2022-08-07T11:16:27.499Z"
      },
      {
        "duration": 0,
        "start_time": "2022-08-07T11:16:27.500Z"
      },
      {
        "duration": 0,
        "start_time": "2022-08-07T11:16:27.502Z"
      },
      {
        "duration": 0,
        "start_time": "2022-08-07T11:16:27.503Z"
      },
      {
        "duration": 0,
        "start_time": "2022-08-07T11:16:27.505Z"
      },
      {
        "duration": 20,
        "start_time": "2022-08-07T11:16:43.299Z"
      },
      {
        "duration": 676,
        "start_time": "2022-08-07T11:16:46.226Z"
      },
      {
        "duration": 935,
        "start_time": "2022-08-07T11:16:47.405Z"
      },
      {
        "duration": 854,
        "start_time": "2022-08-07T11:16:54.546Z"
      },
      {
        "duration": 12,
        "start_time": "2022-08-07T11:17:02.173Z"
      },
      {
        "duration": 912,
        "start_time": "2022-08-07T11:17:07.591Z"
      },
      {
        "duration": 12,
        "start_time": "2022-08-07T11:17:11.722Z"
      },
      {
        "duration": 453,
        "start_time": "2022-08-07T11:17:13.552Z"
      },
      {
        "duration": 1218,
        "start_time": "2022-08-07T11:17:16.294Z"
      },
      {
        "duration": 49,
        "start_time": "2022-08-07T11:17:23.195Z"
      },
      {
        "duration": 4,
        "start_time": "2022-08-07T11:17:34.534Z"
      },
      {
        "duration": 97,
        "start_time": "2022-08-07T11:18:04.206Z"
      },
      {
        "duration": 5,
        "start_time": "2022-08-07T11:18:21.501Z"
      },
      {
        "duration": 5,
        "start_time": "2022-08-07T11:20:10.051Z"
      },
      {
        "duration": 4,
        "start_time": "2022-08-07T11:20:50.695Z"
      },
      {
        "duration": 1204,
        "start_time": "2022-08-07T11:21:40.245Z"
      },
      {
        "duration": 7,
        "start_time": "2022-08-07T11:21:41.452Z"
      },
      {
        "duration": 52,
        "start_time": "2022-08-07T11:21:41.461Z"
      },
      {
        "duration": 6,
        "start_time": "2022-08-07T11:21:41.515Z"
      },
      {
        "duration": 30,
        "start_time": "2022-08-07T11:21:41.524Z"
      },
      {
        "duration": 27,
        "start_time": "2022-08-07T11:21:41.556Z"
      },
      {
        "duration": 34,
        "start_time": "2022-08-07T11:21:41.585Z"
      },
      {
        "duration": 11,
        "start_time": "2022-08-07T11:21:41.622Z"
      },
      {
        "duration": 10,
        "start_time": "2022-08-07T11:21:41.634Z"
      },
      {
        "duration": 6,
        "start_time": "2022-08-07T11:21:41.645Z"
      },
      {
        "duration": 26,
        "start_time": "2022-08-07T11:21:41.652Z"
      },
      {
        "duration": 12,
        "start_time": "2022-08-07T11:21:41.679Z"
      },
      {
        "duration": 4,
        "start_time": "2022-08-07T11:21:41.692Z"
      },
      {
        "duration": 121,
        "start_time": "2022-08-07T11:21:41.699Z"
      },
      {
        "duration": 12,
        "start_time": "2022-08-07T11:21:41.821Z"
      },
      {
        "duration": 5,
        "start_time": "2022-08-07T11:21:41.834Z"
      },
      {
        "duration": 14,
        "start_time": "2022-08-07T11:21:41.841Z"
      },
      {
        "duration": 1366,
        "start_time": "2022-08-07T11:21:41.857Z"
      },
      {
        "duration": 133852,
        "start_time": "2022-08-07T11:21:43.224Z"
      },
      {
        "duration": 24,
        "start_time": "2022-08-07T11:23:57.077Z"
      },
      {
        "duration": 899,
        "start_time": "2022-08-07T11:23:57.103Z"
      },
      {
        "duration": 1036,
        "start_time": "2022-08-07T11:23:58.004Z"
      },
      {
        "duration": 662,
        "start_time": "2022-08-07T11:23:59.042Z"
      },
      {
        "duration": 103,
        "start_time": "2022-08-07T11:23:59.707Z"
      },
      {
        "duration": 997,
        "start_time": "2022-08-07T11:23:59.812Z"
      },
      {
        "duration": 14,
        "start_time": "2022-08-07T11:24:00.900Z"
      },
      {
        "duration": 486,
        "start_time": "2022-08-07T11:24:00.916Z"
      },
      {
        "duration": 1325,
        "start_time": "2022-08-07T11:24:01.403Z"
      },
      {
        "duration": 4,
        "start_time": "2022-08-07T11:24:02.730Z"
      },
      {
        "duration": 829,
        "start_time": "2022-08-07T11:24:02.735Z"
      },
      {
        "duration": 937,
        "start_time": "2022-08-07T11:24:03.565Z"
      },
      {
        "duration": 4,
        "start_time": "2022-08-07T11:24:36.688Z"
      },
      {
        "duration": 1234,
        "start_time": "2022-08-07T11:27:44.616Z"
      },
      {
        "duration": 5,
        "start_time": "2022-08-07T11:27:45.851Z"
      },
      {
        "duration": 16,
        "start_time": "2022-08-07T11:27:45.858Z"
      },
      {
        "duration": 4,
        "start_time": "2022-08-07T11:27:45.875Z"
      },
      {
        "duration": 7,
        "start_time": "2022-08-07T11:27:45.881Z"
      },
      {
        "duration": 12,
        "start_time": "2022-08-07T11:27:45.889Z"
      },
      {
        "duration": 7,
        "start_time": "2022-08-07T11:27:45.902Z"
      },
      {
        "duration": 3,
        "start_time": "2022-08-07T11:27:45.910Z"
      },
      {
        "duration": 15,
        "start_time": "2022-08-07T11:27:45.914Z"
      },
      {
        "duration": 5,
        "start_time": "2022-08-07T11:27:45.930Z"
      },
      {
        "duration": 25,
        "start_time": "2022-08-07T11:27:45.936Z"
      },
      {
        "duration": 12,
        "start_time": "2022-08-07T11:27:45.962Z"
      },
      {
        "duration": 3,
        "start_time": "2022-08-07T11:27:45.976Z"
      },
      {
        "duration": 117,
        "start_time": "2022-08-07T11:27:45.999Z"
      },
      {
        "duration": 11,
        "start_time": "2022-08-07T11:27:46.117Z"
      },
      {
        "duration": 3,
        "start_time": "2022-08-07T11:27:46.129Z"
      },
      {
        "duration": 5,
        "start_time": "2022-08-07T11:27:46.133Z"
      },
      {
        "duration": 1346,
        "start_time": "2022-08-07T11:27:46.139Z"
      },
      {
        "duration": 133309,
        "start_time": "2022-08-07T11:27:47.486Z"
      },
      {
        "duration": 100,
        "start_time": "2022-08-07T11:30:00.800Z"
      },
      {
        "duration": 800,
        "start_time": "2022-08-07T11:30:00.902Z"
      },
      {
        "duration": 1087,
        "start_time": "2022-08-07T11:30:01.705Z"
      },
      {
        "duration": 805,
        "start_time": "2022-08-07T11:30:02.800Z"
      },
      {
        "duration": 93,
        "start_time": "2022-08-07T11:30:03.613Z"
      },
      {
        "duration": 906,
        "start_time": "2022-08-07T11:30:03.707Z"
      },
      {
        "duration": 103,
        "start_time": "2022-08-07T11:30:04.701Z"
      },
      {
        "duration": 499,
        "start_time": "2022-08-07T11:30:04.806Z"
      },
      {
        "duration": 1293,
        "start_time": "2022-08-07T11:30:05.307Z"
      },
      {
        "duration": 4,
        "start_time": "2022-08-07T11:30:06.602Z"
      },
      {
        "duration": 783,
        "start_time": "2022-08-07T11:30:06.607Z"
      },
      {
        "duration": 923,
        "start_time": "2022-08-07T11:30:07.392Z"
      },
      {
        "duration": 98,
        "start_time": "2022-08-07T11:30:46.367Z"
      },
      {
        "duration": 11,
        "start_time": "2022-08-07T11:31:35.582Z"
      },
      {
        "duration": 10,
        "start_time": "2022-08-07T11:32:07.825Z"
      },
      {
        "duration": 3,
        "start_time": "2022-08-07T11:33:33.095Z"
      },
      {
        "duration": 49,
        "start_time": "2022-08-07T11:34:46.092Z"
      },
      {
        "duration": 58,
        "start_time": "2022-08-07T11:34:48.442Z"
      },
      {
        "duration": 1937,
        "start_time": "2022-08-08T05:55:28.051Z"
      },
      {
        "duration": 7,
        "start_time": "2022-08-08T05:55:29.991Z"
      },
      {
        "duration": 43,
        "start_time": "2022-08-08T05:55:30.000Z"
      },
      {
        "duration": 12,
        "start_time": "2022-08-08T05:55:30.045Z"
      },
      {
        "duration": 15,
        "start_time": "2022-08-08T05:55:30.059Z"
      },
      {
        "duration": 17,
        "start_time": "2022-08-08T05:55:30.076Z"
      },
      {
        "duration": 63,
        "start_time": "2022-08-08T05:55:30.096Z"
      },
      {
        "duration": 17,
        "start_time": "2022-08-08T05:55:30.161Z"
      },
      {
        "duration": 14,
        "start_time": "2022-08-08T05:55:30.180Z"
      },
      {
        "duration": 14,
        "start_time": "2022-08-08T05:55:30.198Z"
      },
      {
        "duration": 34,
        "start_time": "2022-08-08T05:55:30.214Z"
      },
      {
        "duration": 15,
        "start_time": "2022-08-08T05:55:30.250Z"
      },
      {
        "duration": 5,
        "start_time": "2022-08-08T05:55:30.267Z"
      },
      {
        "duration": 166,
        "start_time": "2022-08-08T05:55:30.273Z"
      },
      {
        "duration": 14,
        "start_time": "2022-08-08T05:55:30.441Z"
      },
      {
        "duration": 5,
        "start_time": "2022-08-08T05:55:30.456Z"
      },
      {
        "duration": 25,
        "start_time": "2022-08-08T05:55:30.462Z"
      },
      {
        "duration": 1748,
        "start_time": "2022-08-08T05:55:30.489Z"
      },
      {
        "duration": 173075,
        "start_time": "2022-08-08T05:55:32.240Z"
      },
      {
        "duration": 174,
        "start_time": "2022-08-08T05:58:25.317Z"
      },
      {
        "duration": 909,
        "start_time": "2022-08-08T05:58:25.493Z"
      },
      {
        "duration": 1276,
        "start_time": "2022-08-08T05:58:26.404Z"
      },
      {
        "duration": 1015,
        "start_time": "2022-08-08T05:58:27.682Z"
      },
      {
        "duration": 15,
        "start_time": "2022-08-08T05:58:28.698Z"
      },
      {
        "duration": 1286,
        "start_time": "2022-08-08T05:58:28.715Z"
      },
      {
        "duration": 98,
        "start_time": "2022-08-08T05:58:30.003Z"
      },
      {
        "duration": 598,
        "start_time": "2022-08-08T05:58:30.103Z"
      },
      {
        "duration": 1528,
        "start_time": "2022-08-08T05:58:30.704Z"
      },
      {
        "duration": 4,
        "start_time": "2022-08-08T05:58:32.234Z"
      },
      {
        "duration": 1021,
        "start_time": "2022-08-08T05:58:32.239Z"
      },
      {
        "duration": 1242,
        "start_time": "2022-08-08T05:58:33.262Z"
      }
    ],
    "kernelspec": {
      "display_name": "Python 3 (ipykernel)",
      "language": "python",
      "name": "python3"
    },
    "language_info": {
      "codemirror_mode": {
        "name": "ipython",
        "version": 3
      },
      "file_extension": ".py",
      "mimetype": "text/x-python",
      "name": "python",
      "nbconvert_exporter": "python",
      "pygments_lexer": "ipython3",
      "version": "3.9.5"
    },
    "toc": {
      "base_numbering": 1,
      "nav_menu": {},
      "number_sections": true,
      "sideBar": true,
      "skip_h1_title": true,
      "title_cell": "Содержание",
      "title_sidebar": "Contents",
      "toc_cell": true,
      "toc_position": {},
      "toc_section_display": true,
      "toc_window_display": true
    },
    "colab": {
      "provenance": []
    }
  },
  "nbformat": 4,
  "nbformat_minor": 0
}